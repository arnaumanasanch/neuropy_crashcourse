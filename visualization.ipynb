{
 "cells": [
  {
   "cell_type": "markdown",
   "metadata": {},
   "source": [
    "# Line plots\n",
    "\n",
    "## line properties, markers\n",
    "\n",
    "## limits, ticks, labels, title, spines\n",
    "\n",
    "## legend\n",
    "\n",
    "## annotations\n",
    "\n",
    "# Figures, subplots, axes\n",
    "\n",
    "## link axis\n",
    "\n",
    "## double axis\n",
    "\n",
    "## inset\n",
    "\n",
    "## subplots grid\n",
    "\n",
    "# seaborn\n",
    "\n",
    "# Scatter plot\n",
    "\n",
    "# Bar plot\n",
    "\n",
    "# Contour plot\n",
    "\n",
    "# imshow\n",
    "\n",
    "# Pie chart\n",
    "\n",
    "# Violins and box plots\n",
    "\n",
    "# Summary of good viz practices"
   ]
  }
 ],
 "metadata": {
  "kernelspec": {
   "display_name": "Python 3",
   "language": "python",
   "name": "python3"
  },
  "language_info": {
   "codemirror_mode": {
    "name": "ipython",
    "version": 3
   },
   "file_extension": ".py",
   "mimetype": "text/x-python",
   "name": "python",
   "nbconvert_exporter": "python",
   "pygments_lexer": "ipython3",
   "version": "3.7.6"
  }
 },
 "nbformat": 4,
 "nbformat_minor": 4
}
