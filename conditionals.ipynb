{
 "cells": [
  {
   "cell_type": "markdown",
   "metadata": {},
   "source": [
    "# Conditionals and Recursion\n",
    "Today we are going to learn how to code different types of conditionals and other kind of operators that will help us to build a more complex program. We will use  `if` , `else`, `ifelse`and other important statements. But first, let's start with two new operators: \n",
    "\n",
    "## Floor division and modulus\n",
    "The floor division operator, represented as `//`, divides two numbers and rounds **down** to an integer. Conventional division `/` would return a float. Let's try that with an example:"
   ]
  },
  {
   "cell_type": "code",
   "execution_count": 1,
   "metadata": {},
   "outputs": [],
   "source": [
    "import numpy as np"
   ]
  },
  {
   "cell_type": "code",
   "execution_count": 2,
   "metadata": {},
   "outputs": [
    {
     "name": "stdout",
     "output_type": "stream",
     "text": [
      "1.75\n"
     ]
    }
   ],
   "source": [
    "# conventional division\n",
    "minutes = 105\n",
    "hours = minutes / 60\n",
    "print(hours)"
   ]
  },
  {
   "cell_type": "code",
   "execution_count": 3,
   "metadata": {},
   "outputs": [
    {
     "name": "stdout",
     "output_type": "stream",
     "text": [
      "1\n"
     ]
    }
   ],
   "source": [
    "# floor division\n",
    "minutes = 105\n",
    "hours = minutes // 60\n",
    "print(hours)"
   ]
  },
  {
   "cell_type": "markdown",
   "metadata": {},
   "source": [
    "By the use of the module **numpy**, we can obtain the same by using np.floor or np.ceil depending on if we want to round down or round up. In this case, numpy returns a float."
   ]
  },
  {
   "cell_type": "code",
   "execution_count": 4,
   "metadata": {},
   "outputs": [
    {
     "name": "stdout",
     "output_type": "stream",
     "text": [
      "1.0\n",
      "2.0\n"
     ]
    }
   ],
   "source": [
    "print(np.floor(minutes/60))\n",
    "print(np.ceil(minutes/60))"
   ]
  },
  {
   "cell_type": "markdown",
   "metadata": {},
   "source": [
    "To get the remainder, there are two ways:\n",
    "\n",
    "- Just substract the result to the total minutes.\n",
    "- Use another operator, so called **modulus operator**, which takes this character: `%`\n"
   ]
  },
  {
   "cell_type": "code",
   "execution_count": 5,
   "metadata": {},
   "outputs": [
    {
     "name": "stdout",
     "output_type": "stream",
     "text": [
      "45\n",
      "45\n"
     ]
    }
   ],
   "source": [
    "# first approach\n",
    "remainder = minutes - hours*60\n",
    "print(remainder)\n",
    "# modulus operator\n",
    "remainder = minutes % 60\n",
    "print(remainder)"
   ]
  },
  {
   "cell_type": "markdown",
   "metadata": {},
   "source": [
    "The modulus operator is more useful than it seems. For example, you can check whether one number is divisible by another by just typing num1 % num2, if the result is zero, num1 is divisible by num2, if the result is not zero, then it is not divisible. "
   ]
  },
  {
   "cell_type": "code",
   "execution_count": 6,
   "metadata": {},
   "outputs": [
    {
     "name": "stdout",
     "output_type": "stream",
     "text": [
      "0\n",
      "1\n"
     ]
    }
   ],
   "source": [
    "print(10 % 5) # divisible\n",
    "print(10 % 3) # not divisible"
   ]
  },
  {
   "cell_type": "markdown",
   "metadata": {},
   "source": [
    "## Boolean expressions\n",
    "A Boolean expression is an expression that is either true or false. Simple examples:"
   ]
  },
  {
   "cell_type": "code",
   "execution_count": 7,
   "metadata": {},
   "outputs": [
    {
     "name": "stdout",
     "output_type": "stream",
     "text": [
      "True\n",
      "False\n",
      "<class 'bool'>\n"
     ]
    }
   ],
   "source": [
    "print(10 == 10)\n",
    "print(10 == 9)\n",
    "print(type(10 == 10))"
   ]
  },
  {
   "cell_type": "markdown",
   "metadata": {},
   "source": [
    "The `==` operator is only one of the many relational operators: \n",
    "\n",
    "- `x != y` x is not equal to y\n",
    "- `x > y`  x is greater than y\n",
    "- `x < y`  x is less than y\n",
    "- `x >= y` x is greater than or equal to y\n",
    "- `x <= y` x is less than or equal to y\n",
    "\n",
    "Remember that `==`is a relational operator and `=`is an assignment operator. Also, when using greater or less characters `< , > `together with an equal operator `=`, they always go first and then the equal `>=` or `<=`"
   ]
  },
  {
   "cell_type": "code",
   "execution_count": 8,
   "metadata": {},
   "outputs": [
    {
     "name": "stdout",
     "output_type": "stream",
     "text": [
      "True\n",
      "False\n",
      "True\n",
      "False\n"
     ]
    }
   ],
   "source": [
    "print(3 != 4)\n",
    "print(3 != 3)\n",
    "print(3 <= 3)\n",
    "print(3 < 3)"
   ]
  },
  {
   "cell_type": "markdown",
   "metadata": {},
   "source": [
    "## Logical operators\n",
    "\n",
    "There are 3 logical operators: `and`, `or` and `not`. The meaning of these operators is similar to their meaning in English. \n",
    "\n",
    "- For example, `x > 0 and x < 10` is true only if x is greater than 0 and less than 10. \n",
    "\n",
    "- The `or` operator works the same way, for example, `x > 0 or x < 10` is true whenever x is greater than 0 or x is less than 10. In this case, it is always True as x will always fulfill at least one of the two conditions. \n",
    "\n",
    "- The `not` operator **negates** a boolean expression. For example, `not(x > y)` is true if x > y is false, so to say, it is true when x <= y. \n"
   ]
  },
  {
   "cell_type": "code",
   "execution_count": 9,
   "metadata": {},
   "outputs": [
    {
     "name": "stdout",
     "output_type": "stream",
     "text": [
      "False\n",
      "True\n",
      "True\n",
      "False\n"
     ]
    }
   ],
   "source": [
    "x = 15\n",
    "print(x > 0 and x < 10) # is x greater than 0 AND less than 10\n",
    "print(x > 0 or x < 10) # is x greather than 0 OR less than 10\n",
    "print(x%2==0 or x%3==0) # is any of the two divisible by 2?\n",
    "print(not(x > 10)) # is x less or equal than 10?"
   ]
  },
  {
   "cell_type": "markdown",
   "metadata": {},
   "source": [
    "## Conditional execution\n",
    "As said above, in order to write useful programs, we need the ability to check conditions with our variables or other expressions and therefore change the behavior of the program accordingly. **Conditional statements give us this ability**. The simplest form is the `if` statement. The structure of an `if` is as follows:\n",
    "\n",
    "- `if + condition + :`\n",
    "    - `indented statement`\n",
    "\n",
    "The boolean expression after `if` is called the condition. If it is true, the intended statement runs. If not, nothing happens. They have the same structure as function definitions: a header followed by an indented body. Statements like this are called compound statements. \n"
   ]
  },
  {
   "cell_type": "code",
   "execution_count": 10,
   "metadata": {},
   "outputs": [
    {
     "name": "stdout",
     "output_type": "stream",
     "text": [
      "x is positive\n"
     ]
    }
   ],
   "source": [
    "x = 10\n",
    "if x > 0:\n",
    "    print('x is positive')"
   ]
  },
  {
   "cell_type": "markdown",
   "metadata": {},
   "source": [
    "\n",
    "There are no limits in the number of statement that can appear in the body, but there has to be at least one. Occasionally, it is useful to have a body with no statements (for code you have not written yet). In that case, something needs to be there, and this is the `pass` statement. "
   ]
  },
  {
   "cell_type": "code",
   "execution_count": 11,
   "metadata": {},
   "outputs": [],
   "source": [
    "if x > 10: \n",
    "    pass"
   ]
  },
  {
   "cell_type": "markdown",
   "metadata": {},
   "source": [
    "## Alternative execution\n",
    "A seconds form of the `if` statement is the alternative execution `else`, in which there are two possibilities and the condition determines which one runs. Let's build a program that prints if a value is odd or even:"
   ]
  },
  {
   "cell_type": "code",
   "execution_count": 12,
   "metadata": {},
   "outputs": [
    {
     "name": "stdout",
     "output_type": "stream",
     "text": [
      "x is odd\n"
     ]
    }
   ],
   "source": [
    "x = 9\n",
    "if x % 2 == 0: # if this is true, run the first set of statements, if not (else) run the second set.\n",
    "    print('x is even')\n",
    "else:\n",
    "    print('x is odd')"
   ]
  },
  {
   "cell_type": "markdown",
   "metadata": {},
   "source": [
    "Since the condition must be true or false, exactly one of the alternatives will run. The alternatives are called **branches**, because they are branches in the flow of execution. \n",
    "\n",
    "## Chained conditionals\n",
    "\n",
    "Sometimes there are more than two possibilities and we need more than two branches. One way to express a computation like that is called **chained conditional** and it is done with the `elif` (else if abbreviation) statement. Let's now make a program that returns if x is greater, equal or less than y. "
   ]
  },
  {
   "cell_type": "code",
   "execution_count": 13,
   "metadata": {},
   "outputs": [
    {
     "name": "stdout",
     "output_type": "stream",
     "text": [
      "x is greater than y\n"
     ]
    }
   ],
   "source": [
    "x = 5\n",
    "y = 2\n",
    "if x < y:\n",
    "    print('x is less than y')\n",
    "elif x > y:\n",
    "    print('x is greater than y')\n",
    "else: \n",
    "    print('x and y are equal')"
   ]
  },
  {
   "cell_type": "markdown",
   "metadata": {},
   "source": [
    "There can be as many `elif` statements as needed. If there is an `else` clause, it must be at the end, but it is not mandatory to have an `else`."
   ]
  },
  {
   "cell_type": "code",
   "execution_count": 14,
   "metadata": {},
   "outputs": [
    {
     "name": "stdout",
     "output_type": "stream",
     "text": [
      "x is 4\n"
     ]
    }
   ],
   "source": [
    "x = 4\n",
    "if x == 1:\n",
    "    print('x is 1')\n",
    "elif x == 2:\n",
    "    print('x is 2')\n",
    "elif x == 3:\n",
    "    print('x is 3')\n",
    "elif x == 4:\n",
    "    print('x is 4')\n",
    "else: \n",
    "    print('x is not 1, 2 3 or 4')"
   ]
  },
  {
   "cell_type": "markdown",
   "metadata": {},
   "source": [
    "Each conditional is checked in order. If the  first is false, the next is checked, and so on. If one of them is true, the corresponding branch runs and statement ends. Even if more than one condition is true, only the first true branch runs. "
   ]
  },
  {
   "cell_type": "code",
   "execution_count": 15,
   "metadata": {},
   "outputs": [
    {
     "name": "stdout",
     "output_type": "stream",
     "text": [
      "x is 2\n"
     ]
    }
   ],
   "source": [
    "x = 2\n",
    "if x == 1:\n",
    "    print('x is 0')\n",
    "elif x == 2:\n",
    "    print('x is 2')\n",
    "elif x > 1:\n",
    "    print('x is greater than 1')"
   ]
  },
  {
   "cell_type": "markdown",
   "metadata": {},
   "source": [
    "## Nested conditionals\n",
    "One conditional can also be nested within another. In the example of comparing x and y, we could re-write the program as: "
   ]
  },
  {
   "cell_type": "code",
   "execution_count": 16,
   "metadata": {},
   "outputs": [
    {
     "name": "stdout",
     "output_type": "stream",
     "text": [
      "x and y are equal\n"
     ]
    }
   ],
   "source": [
    "x = 5\n",
    "y = 5\n",
    "if x < y:\n",
    "    print('x is less than y')\n",
    "else:\n",
    "    if x > y:\n",
    "        print('x is greater than y')\n",
    "    else: \n",
    "        print('x and y are equal')"
   ]
  },
  {
   "cell_type": "markdown",
   "metadata": {},
   "source": [
    "The outer conditional contins two branches. The first bracnh contains a simple statement. The second branch contains another `if` statement, which has two branches of its own. Those two branches are both simple statements, although they could have been conditional statements as well. Nested conditionals make the program become less readable, so it is a good idea to avoid them when you can. It is sometimes recommended to make us of the logical operators:"
   ]
  },
  {
   "cell_type": "code",
   "execution_count": 17,
   "metadata": {},
   "outputs": [
    {
     "name": "stdout",
     "output_type": "stream",
     "text": [
      "x is a positive single-digit number\n",
      "x is a positive single-digit number\n"
     ]
    }
   ],
   "source": [
    "x = 3\n",
    "if x > 0: # bad way of doing it\n",
    "    if x < 10:\n",
    "        print('x is a positive single-digit number')\n",
    "        \n",
    "if x > 0 and x < 10: # good way\n",
    "    print('x is a positive single-digit number')"
   ]
  },
  {
   "cell_type": "markdown",
   "metadata": {},
   "source": [
    "# Iteration\n",
    "\n",
    "The following chapter is about iteration, which is the ability to run a block of statements repeatedly. We will se the `while` statement, but first let's see how to update variables. \n",
    "\n",
    "## Updating variables\n",
    "\n",
    "A common kind of reassignment is an update, where the new value of the variable depends on the old. "
   ]
  },
  {
   "cell_type": "code",
   "execution_count": 19,
   "metadata": {},
   "outputs": [
    {
     "name": "stdout",
     "output_type": "stream",
     "text": [
      "1\n",
      "2\n"
     ]
    }
   ],
   "source": [
    "x = 1\n",
    "print(x)\n",
    "x = x + 1 # reassignment\n",
    "print(x)"
   ]
  },
  {
   "cell_type": "markdown",
   "metadata": {},
   "source": [
    "This means, get the current value of `x`, add one, and then update `x` with the new value. If we try to update a not defined variable, we will get an error. Before updating a variable, it needs to be initialized. "
   ]
  },
  {
   "cell_type": "code",
   "execution_count": 20,
   "metadata": {},
   "outputs": [
    {
     "ename": "NameError",
     "evalue": "name 'z' is not defined",
     "output_type": "error",
     "traceback": [
      "\u001b[0;31m---------------------------------------------------------------------------\u001b[0m",
      "\u001b[0;31mNameError\u001b[0m                                 Traceback (most recent call last)",
      "\u001b[0;32m<ipython-input-20-99abefbd9afb>\u001b[0m in \u001b[0;36m<module>\u001b[0;34m\u001b[0m\n\u001b[0;32m----> 1\u001b[0;31m \u001b[0mz\u001b[0m \u001b[0;34m=\u001b[0m \u001b[0mz\u001b[0m \u001b[0;34m+\u001b[0m \u001b[0;36m1\u001b[0m\u001b[0;34m\u001b[0m\u001b[0;34m\u001b[0m\u001b[0m\n\u001b[0m",
      "\u001b[0;31mNameError\u001b[0m: name 'z' is not defined"
     ]
    }
   ],
   "source": [
    "z = z + 1"
   ]
  },
  {
   "cell_type": "markdown",
   "metadata": {},
   "source": [
    "There exists another way of updating variable which is the following one:"
   ]
  },
  {
   "cell_type": "code",
   "execution_count": 21,
   "metadata": {},
   "outputs": [
    {
     "name": "stdout",
     "output_type": "stream",
     "text": [
      "1\n",
      "0\n"
     ]
    }
   ],
   "source": [
    "x = 0\n",
    "x += 1\n",
    "print(x)\n",
    "x -= 1\n",
    "print(x)"
   ]
  },
  {
   "cell_type": "markdown",
   "metadata": {},
   "source": [
    "Here, we just type one time the name of the variable and then `+=` or `-=` depending on if we want to increment or decrement the value of the variable. \n",
    "\n",
    "## The while statement\n",
    "\n",
    "Computers are often used to automate repetitive tasks. Repeating identical or similar tasks without making errors is something that computers do well and people do poorly. In a computer program, repetition is also called iteration.\n",
    "\n",
    "The `while` statement allows us to do iterations. Now we are going to make a program that will print out the value of the variable `x` until `x` is not greater than 0 anymore. To do this, for every iteration we will subtract one unit to the variable. "
   ]
  },
  {
   "cell_type": "code",
   "execution_count": 22,
   "metadata": {},
   "outputs": [
    {
     "name": "stdout",
     "output_type": "stream",
     "text": [
      "5\n",
      "4\n",
      "3\n",
      "2\n",
      "1\n"
     ]
    }
   ],
   "source": [
    "x = 5\n",
    "while x > 0: \n",
    "    print(x)\n",
    "    x = x - 1\n",
    "    "
   ]
  },
  {
   "cell_type": "markdown",
   "metadata": {},
   "source": [
    "The flow of execution of a `while` statement is as follows: \n",
    "\n",
    "- 1. Determine whether the condition is true or false.\n",
    "- 2. If false, exit the `while` statement and continue execution at the next statement.\n",
    "- 3. If the condition is true, run the body and then go back to step 1. \n",
    "\n",
    "This type of flow is called a loop because the third step looks back around to the top. The body of the loop should change the value of one or more variable so that the condition becomes false eventually and the loop terminates. Otherwise the loop will repeat forever, which is called an **infinite loop**. \n",
    "\n",
    "In the case of countdown, we can prove that the loop terminates: if n is zero or negative, the loop never runs. Otherwise, n gets smaller each time through the loop, so eventually we have to get to 0.\n",
    "\n",
    "Let's make another program, which will be an example of the Collatz Conjecture (http://en.wikipedia.org/wiki/Collatz_conjecture). The Collatz Conjecture says that no matter which integer value takes n at the beginning, it will always reach 1 at the end. Its conditions are:\n",
    "\n",
    "- While n is different than 1\n",
    "   - if n is even:\n",
    "       - divide n by 2\n",
    "   - else (n is odd)\n",
    "       - multiply n by 3 and add 1"
   ]
  },
  {
   "cell_type": "code",
   "execution_count": 23,
   "metadata": {},
   "outputs": [
    {
     "name": "stdout",
     "output_type": "stream",
     "text": [
      "12345\n",
      "37036\n",
      "18518.0\n",
      "9259.0\n",
      "27778.0\n",
      "13889.0\n",
      "41668.0\n",
      "20834.0\n",
      "10417.0\n",
      "31252.0\n",
      "15626.0\n",
      "7813.0\n",
      "23440.0\n",
      "11720.0\n",
      "5860.0\n",
      "2930.0\n",
      "1465.0\n",
      "4396.0\n",
      "2198.0\n",
      "1099.0\n",
      "3298.0\n",
      "1649.0\n",
      "4948.0\n",
      "2474.0\n",
      "1237.0\n",
      "3712.0\n",
      "1856.0\n",
      "928.0\n",
      "464.0\n",
      "232.0\n",
      "116.0\n",
      "58.0\n",
      "29.0\n",
      "88.0\n",
      "44.0\n",
      "22.0\n",
      "11.0\n",
      "34.0\n",
      "17.0\n",
      "52.0\n",
      "26.0\n",
      "13.0\n",
      "40.0\n",
      "20.0\n",
      "10.0\n",
      "5.0\n",
      "16.0\n",
      "8.0\n",
      "4.0\n",
      "2.0\n"
     ]
    }
   ],
   "source": [
    "n = 12345\n",
    "while n != 1:\n",
    "    print(n)\n",
    "    if n % 2 == 0:\n",
    "        n = n / 2\n",
    "    else:\n",
    "        n = n*3 + 1"
   ]
  },
  {
   "cell_type": "markdown",
   "metadata": {},
   "source": [
    "## break statement\n",
    "Sometimes you don’t know it’s time to end a loop until you get half way through the body. In that case you can use the `break` statement to jump out of the loop.\n",
    "\n",
    "For example, suppose you want to take input from the user until they type done. You could write:"
   ]
  },
  {
   "cell_type": "code",
   "execution_count": 24,
   "metadata": {},
   "outputs": [
    {
     "name": "stdout",
     "output_type": "stream",
     "text": [
      "Please write the word DONE, the loop will not end until you type it correctly\n",
      "> DONE\n",
      "Done!\n"
     ]
    }
   ],
   "source": [
    "while True:\n",
    "    print('Please write the word DONE, the loop will not end until you type it correctly')\n",
    "    line = input('> ')\n",
    "    if line == 'DONE':\n",
    "        break\n",
    "    print(line)\n",
    "\n",
    "print('Done!')"
   ]
  },
  {
   "cell_type": "markdown",
   "metadata": {},
   "source": [
    "The loop condition in the `while` statement is `True`, which is always true, so the loop runs until it hits the break statement.\n",
    "\n",
    "Each time through, it prompts the user with an angle bracket. If the user types DONE, the break statement exits the loop. Otherwise the program echoes whatever the user types and goes back to the top of the loop.\n",
    "\n",
    "This way of writing while loops is common because you can check the condition anywhere in the loop (not just at the top) and you can express the stop condition affirmatively (“stop when this happens”) rather than negatively (“keep going until that happens”)."
   ]
  },
  {
   "cell_type": "markdown",
   "metadata": {},
   "source": [
    "## The guardian pattern\n",
    "The guardian pattern is useful whenever we think our program may fail in a conditional execution. If our program fails in the execution of a statement, it cannot move on and execute the rest of the program. This is why the **guardian pattern** is important. Let's consider the following example:"
   ]
  },
  {
   "cell_type": "code",
   "execution_count": 25,
   "metadata": {},
   "outputs": [
    {
     "ename": "ZeroDivisionError",
     "evalue": "division by zero",
     "output_type": "error",
     "traceback": [
      "\u001b[0;31m---------------------------------------------------------------------------\u001b[0m",
      "\u001b[0;31mZeroDivisionError\u001b[0m                         Traceback (most recent call last)",
      "\u001b[0;32m<ipython-input-25-113a7359f769>\u001b[0m in \u001b[0;36m<module>\u001b[0;34m\u001b[0m\n\u001b[1;32m      2\u001b[0m \u001b[0my\u001b[0m \u001b[0;34m=\u001b[0m \u001b[0;36m0\u001b[0m\u001b[0;34m\u001b[0m\u001b[0;34m\u001b[0m\u001b[0m\n\u001b[1;32m      3\u001b[0m \u001b[0;34m\u001b[0m\u001b[0m\n\u001b[0;32m----> 4\u001b[0;31m \u001b[0;32mif\u001b[0m \u001b[0mx\u001b[0m \u001b[0;34m>\u001b[0m \u001b[0;36m0\u001b[0m \u001b[0;32mand\u001b[0m \u001b[0;34m(\u001b[0m\u001b[0mx\u001b[0m\u001b[0;34m/\u001b[0m\u001b[0my\u001b[0m\u001b[0;34m)\u001b[0m \u001b[0;34m>\u001b[0m \u001b[0;36m1\u001b[0m\u001b[0;34m:\u001b[0m\u001b[0;34m\u001b[0m\u001b[0;34m\u001b[0m\u001b[0m\n\u001b[0m\u001b[1;32m      5\u001b[0m     \u001b[0mprint\u001b[0m\u001b[0;34m(\u001b[0m\u001b[0;34m'Satement execution achieved'\u001b[0m\u001b[0;34m)\u001b[0m\u001b[0;34m\u001b[0m\u001b[0;34m\u001b[0m\u001b[0m\n\u001b[1;32m      6\u001b[0m \u001b[0;34m\u001b[0m\u001b[0m\n",
      "\u001b[0;31mZeroDivisionError\u001b[0m: division by zero"
     ]
    }
   ],
   "source": [
    "x = 2\n",
    "y = 0\n",
    "\n",
    "if x > 0 and (x/y) > 1:\n",
    "    print('Satement execution achieved')\n",
    "\n",
    "if x > 0:\n",
    "    x = x + 1\n",
    "    y = y - 1\n",
    "    print(x)"
   ]
  },
  {
   "cell_type": "markdown",
   "metadata": {},
   "source": [
    "As you can see, we obtain ther error `ZeroDivisionError`, that is, we are giving a condition that divides `x/y`, and as `y = 0` the division can not be done. This makes the program fail and following statements cannot be reached. In order to avoid that, as we asssume that y may take the value 0, we implement the guardian pattern:\n"
   ]
  },
  {
   "cell_type": "code",
   "execution_count": 26,
   "metadata": {},
   "outputs": [
    {
     "name": "stdout",
     "output_type": "stream",
     "text": [
      "Statement achieved thanks to the guardian pattern\n"
     ]
    }
   ],
   "source": [
    "x = 2 \n",
    "y = 0\n",
    "if x > 0 and y!= 0 and (x/y) > 1:\n",
    "    pass\n",
    "else:\n",
    "    print('Statement achieved thanks to the guardian pattern')"
   ]
  },
  {
   "cell_type": "markdown",
   "metadata": {},
   "source": [
    "In the above case, we have implemented the **guardian pattern** in `y != 0`, so when the program reaches this condition, it is False, and the statement is not executed (neither the `(x/y) > 1`). In addition, as this does not make the program fail, the `else` is reached and can be executed.\n",
    "\n",
    "## `for` loops\n"
   ]
  },
  {
   "cell_type": "markdown",
   "metadata": {},
   "source": [
    "A `for`loop is used for iterating over a sequence (that is either a list, a tuple, a string, ...). With the for loop we can execute a set of statements, once for each item in a list. "
   ]
  },
  {
   "cell_type": "code",
   "execution_count": 27,
   "metadata": {},
   "outputs": [
    {
     "name": "stdout",
     "output_type": "stream",
     "text": [
      "apple\n",
      "banana\n",
      "orange\n",
      "watermelon\n"
     ]
    }
   ],
   "source": [
    "fruits = ['apple', 'banana', 'orange', 'watermelon']\n",
    "for x in fruits:\n",
    "    print(x)"
   ]
  },
  {
   "cell_type": "markdown",
   "metadata": {},
   "source": [
    "The structure of a for loop is:\n",
    "\n",
    "- `for` var `in` variable `:`\n",
    "    - statement\n",
    "    \n",
    "In the above case, we are defining an auxiliar variable `x` that for every iteration, it will update and print its value to the next item in the list `fruits`. Now we will do an example where we will sum all of the values of a list."
   ]
  },
  {
   "cell_type": "code",
   "execution_count": 28,
   "metadata": {},
   "outputs": [
    {
     "name": "stdout",
     "output_type": "stream",
     "text": [
      "45\n"
     ]
    }
   ],
   "source": [
    "values = [1,2,3,4,5,6,7,8,9]\n",
    "sum_values = 0 # we initialize the variable\n",
    "for val in values:\n",
    "    sum_values = sum_values + val\n",
    "print(sum_values)\n"
   ]
  },
  {
   "cell_type": "markdown",
   "metadata": {},
   "source": [
    "## Exercises\n",
    "Exercise 1. The `time`module provides a function, also named `time`, that returns the current Greenwich Mean Time in seconds passed since an epoch. In this case, the arbitrary epoch is 01-01-1970. Write a program that reads the current time and converts it to a time of day in hours, minutes and seconds, plus the number of days since the epoch. "
   ]
  },
  {
   "cell_type": "code",
   "execution_count": null,
   "metadata": {},
   "outputs": [],
   "source": []
  },
  {
   "cell_type": "markdown",
   "metadata": {},
   "source": [
    "Exercise 2. Fermat's Lst Theorem says that there are no positive integers a, b and c such that: $a^n + b^n = c^n$ , for any values of n greater than 2. \n",
    "\n",
    "- Write a function named ***check_fermat*** that takes four parameters a, b, c and n and checks to see if Fermat’s theorem holds. \n",
    "\n",
    "- Write a function that prompts the user to input values for a, b, c and n, converts them to integers, and uses check_fermat to check whether they violate Fermat’s theorem."
   ]
  },
  {
   "cell_type": "code",
   "execution_count": null,
   "metadata": {},
   "outputs": [],
   "source": []
  },
  {
   "cell_type": "markdown",
   "metadata": {},
   "source": [
    "Exercise 3. If you are given three sticks, you may or may not be able to arrange them in a triangle. For example, if one of the sticks is 12 inches long and the other two are one inch long, you will not be able to get the short sticks to meet in the middle. For any three lengths, there is a simple test to see if it is possible to form a triangle:\n",
    "\n",
    "If any of the three lengths is greater than the sum of the other two, then you cannot form a triangle. Otherwise, you can. (If the sum of two lengths equals the third, they form what is called a “degenerate” triangle.)\n",
    "Write a function named is_triangle that takes three integers as arguments, and that prints either “Yes” or “No”, depending on whether you can or cannot form a triangle from sticks with the given lengths.\n"
   ]
  },
  {
   "cell_type": "code",
   "execution_count": null,
   "metadata": {},
   "outputs": [],
   "source": []
  },
  {
   "cell_type": "markdown",
   "metadata": {},
   "source": [
    "Exercise 4. Write a program that reads the answer (input) of a user to the question: \"Do you like NeuroScience? Answer yes/no\". \n",
    "\n",
    "- When 10 ansers have been given, the program has to stop and return:\n",
    "    - number of poeple who have answered yes\n",
    "    - number of people who have answered no\n"
   ]
  },
  {
   "cell_type": "code",
   "execution_count": null,
   "metadata": {},
   "outputs": [],
   "source": []
  },
  {
   "cell_type": "markdown",
   "metadata": {},
   "source": [
    "Exercise 5. Given the list: `[12, 15, 32, 42, 55, 75, 122, 132, 150, 180, 200]`, write a program that returns the numbers that:\n",
    "- are divisible by 2\n",
    "- are divisible by 3 and 5"
   ]
  },
  {
   "cell_type": "code",
   "execution_count": null,
   "metadata": {},
   "outputs": [],
   "source": []
  },
  {
   "cell_type": "code",
   "execution_count": null,
   "metadata": {},
   "outputs": [],
   "source": []
  },
  {
   "cell_type": "code",
   "execution_count": null,
   "metadata": {},
   "outputs": [],
   "source": []
  },
  {
   "cell_type": "code",
   "execution_count": null,
   "metadata": {},
   "outputs": [],
   "source": []
  },
  {
   "cell_type": "code",
   "execution_count": null,
   "metadata": {},
   "outputs": [],
   "source": []
  },
  {
   "cell_type": "code",
   "execution_count": null,
   "metadata": {},
   "outputs": [],
   "source": []
  },
  {
   "cell_type": "code",
   "execution_count": null,
   "metadata": {},
   "outputs": [],
   "source": []
  },
  {
   "cell_type": "code",
   "execution_count": null,
   "metadata": {},
   "outputs": [],
   "source": []
  },
  {
   "cell_type": "code",
   "execution_count": null,
   "metadata": {},
   "outputs": [],
   "source": []
  }
 ],
 "metadata": {
  "kernelspec": {
   "display_name": "Python 3",
   "language": "python",
   "name": "python3"
  },
  "language_info": {
   "codemirror_mode": {
    "name": "ipython",
    "version": 3
   },
   "file_extension": ".py",
   "mimetype": "text/x-python",
   "name": "python",
   "nbconvert_exporter": "python",
   "pygments_lexer": "ipython3",
   "version": "3.7.6"
  }
 },
 "nbformat": 4,
 "nbformat_minor": 4
}
