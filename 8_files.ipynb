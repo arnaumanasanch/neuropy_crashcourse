{
 "cells": [
  {
   "cell_type": "markdown",
   "metadata": {},
   "source": [
    "# Persistence\n",
    "\n",
    "The programs we have written so far are volatile. This means that once they finish and their output disappears nothing is left: if we want again their output we need to run the program again.\n",
    "\n",
    "Programs can achieve persistence by storing data in files that are written in permanent storage (e.g. hard drive, flash memory). \n",
    "\n",
    "In this section of the course you'll learn how to write data into files."
   ]
  },
  {
   "cell_type": "markdown",
   "metadata": {},
   "source": [
    "## Reading and writing\n",
    "\n",
    "In some sense the most simple file you can write is a text file.\n",
    "\n",
    "To write a file, you have to open it with write mode, 'w' as a second parameter:"
   ]
  },
  {
   "cell_type": "code",
   "execution_count": 1,
   "metadata": {},
   "outputs": [],
   "source": [
    "fout = open('output.txt', 'w')"
   ]
  },
  {
   "cell_type": "markdown",
   "metadata": {},
   "source": [
    "If the file already exists, opening it in write mode clears out the old data and starts fresh, so **be careful**!\n",
    "\n",
    "If the file doesn’t exist, a new one is created.\n",
    "\n",
    "`open` returns a file object that provides methods for working with the file. The write method puts data into the file."
   ]
  },
  {
   "cell_type": "code",
   "execution_count": 2,
   "metadata": {},
   "outputs": [
    {
     "data": {
      "text/plain": [
       "56"
      ]
     },
     "execution_count": 2,
     "metadata": {},
     "output_type": "execute_result"
    }
   ],
   "source": [
    "line1 = \"The first principle is that you must not fool yourself,\\n\"\n",
    "fout.write(line1)"
   ]
  },
  {
   "cell_type": "markdown",
   "metadata": {},
   "source": [
    "The return value is the number of characters that were written. The file object keeps track of where it is, so if you call write again, it adds the new data to the end of the file."
   ]
  },
  {
   "cell_type": "code",
   "execution_count": 3,
   "metadata": {},
   "outputs": [
    {
     "data": {
      "text/plain": [
       "40"
      ]
     },
     "execution_count": 3,
     "metadata": {},
     "output_type": "execute_result"
    }
   ],
   "source": [
    "line2 = \"And you are the easiest person to fool.\\n\"\n",
    "fout.write(line2)"
   ]
  },
  {
   "cell_type": "markdown",
   "metadata": {},
   "source": [
    "When you are done writing, you should close the file."
   ]
  },
  {
   "cell_type": "code",
   "execution_count": 4,
   "metadata": {},
   "outputs": [],
   "source": [
    "fout.close()"
   ]
  },
  {
   "cell_type": "markdown",
   "metadata": {},
   "source": [
    "If you don’t close the file, it gets closed for you when the program ends.\n",
    "\n",
    "In order to read the file you have to open it again in read mode."
   ]
  },
  {
   "cell_type": "code",
   "execution_count": 5,
   "metadata": {},
   "outputs": [],
   "source": [
    "fin = open('output.txt')"
   ]
  },
  {
   "cell_type": "code",
   "execution_count": 7,
   "metadata": {},
   "outputs": [
    {
     "data": {
      "text/plain": [
       "'And you are the easiest person to fool.\\n'"
      ]
     },
     "execution_count": 7,
     "metadata": {},
     "output_type": "execute_result"
    }
   ],
   "source": [
    "fin.readline()"
   ]
  },
  {
   "cell_type": "markdown",
   "metadata": {},
   "source": [
    "It's always a good idea to close file objects."
   ]
  },
  {
   "cell_type": "code",
   "execution_count": 8,
   "metadata": {},
   "outputs": [],
   "source": [
    "fin.close()"
   ]
  },
  {
   "cell_type": "markdown",
   "metadata": {},
   "source": [
    "You can also loop through the lines of the file."
   ]
  },
  {
   "cell_type": "code",
   "execution_count": 9,
   "metadata": {},
   "outputs": [
    {
     "name": "stdout",
     "output_type": "stream",
     "text": [
      "The first principle is that you must not fool yourself,\n",
      "\n",
      "And you are the easiest person to fool.\n",
      "\n"
     ]
    }
   ],
   "source": [
    "fin = open('output.txt')\n",
    "for line in fin:\n",
    "    print(line)"
   ]
  },
  {
   "cell_type": "markdown",
   "metadata": {},
   "source": [
    "## CSV files\n",
    "\n",
    "A very useful text file format is the so called CSV (Comma Separated Value) file format.\n",
    "\n",
    "CSV are useful to store information in a tabular format (with columns and rows like in a spreadsheet).\n",
    "\n",
    "Many type of data can be represented in tabular form and tables are building blocks of relational databases, so this format can be very useful in science.\n",
    "\n",
    "In a CSV columns are separate by a given character (usually a comma).\n",
    "\n",
    "Let's write an example CSV that could store the metadata of an experiment."
   ]
  },
  {
   "cell_type": "code",
   "execution_count": 10,
   "metadata": {},
   "outputs": [
    {
     "name": "stdout",
     "output_type": "stream",
     "text": [
      "subID,isofluorane,stimulus\n",
      "\n",
      "S01,0,none\n",
      "\n",
      "S01,100,none\n",
      "\n",
      "S01,0,4\n",
      "\n",
      "S01,100,4\n"
     ]
    }
   ],
   "source": [
    "fout = open('metadata.csv', 'w')\n",
    "header = \"subID,isofluorane,stimulus\\n\"\n",
    "lines = \"S01,0,none\\nS01,100,none\\nS01,0,4\\nS01,100,4\"\n",
    "fout.write(header + lines)\n",
    "fout.close()\n",
    "fin = open('metadata.csv')\n",
    "for line in fin:\n",
    "    print(line)"
   ]
  },
  {
   "cell_type": "markdown",
   "metadata": {},
   "source": [
    "you can also import this file in a spreadsheet program to get a nicely looking table.\n",
    "\n",
    "However you'll mostly read information from tabular files than write them. For this the `pandas` library is more convenient but it's always good to know how things work at a lower level."
   ]
  },
  {
   "cell_type": "markdown",
   "metadata": {},
   "source": [
    "## Filenames and paths\n",
    "\n",
    "Files are organized into directories (also called “folders”). Every running program has a “current directory”, which is the default directory for most operations. For example, when you open a file for reading, Python looks for it in the current directory.\n",
    "\n",
    "The `os` module provides functions for working with files and directories (\"os\" stands for \"operating system\"). `os.getcwd` returns the name of the current directory:"
   ]
  },
  {
   "cell_type": "code",
   "execution_count": 11,
   "metadata": {},
   "outputs": [
    {
     "data": {
      "text/plain": [
       "'/home/andrea/Documents/clases/python_crash_course'"
      ]
     },
     "execution_count": 11,
     "metadata": {},
     "output_type": "execute_result"
    }
   ],
   "source": [
    "import os\n",
    "cwd = os.getcwd()\n",
    "cwd"
   ]
  },
  {
   "cell_type": "markdown",
   "metadata": {},
   "source": [
    "`cwd` stands for “current working directory”. \n",
    "\n",
    "A string like '/home/andrea/Documents/clases/python_crash_course' that identifies a file or directory is called a **path**.\n",
    "\n",
    "A simple filename, like 'metadata.csv' is also considered a path, but it is a relative path because it relates to the current directory. If the current directory is '/home', the filename 'metadata.csv' would refer to '/home/metadata.csv'.\n",
    "\n",
    "A path that begins with '/' does not depend on the current directory; it is called an absolute path. To find the absolute path to a file, you can use `os.path.abspath`:"
   ]
  },
  {
   "cell_type": "code",
   "execution_count": 12,
   "metadata": {},
   "outputs": [
    {
     "data": {
      "text/plain": [
       "'/home/andrea/Documents/clases/python_crash_course/metadata.csv'"
      ]
     },
     "execution_count": 12,
     "metadata": {},
     "output_type": "execute_result"
    }
   ],
   "source": [
    "os.path.abspath('metadata.csv')"
   ]
  },
  {
   "cell_type": "markdown",
   "metadata": {},
   "source": [
    "`os.path` provides other functions for working with filenames and paths. For example, `os.path.exists` checks whether a file or directory exists:"
   ]
  },
  {
   "cell_type": "code",
   "execution_count": 14,
   "metadata": {},
   "outputs": [
    {
     "data": {
      "text/plain": [
       "True"
      ]
     },
     "execution_count": 14,
     "metadata": {},
     "output_type": "execute_result"
    }
   ],
   "source": [
    "os.path.exists('metadata.csv')"
   ]
  },
  {
   "cell_type": "markdown",
   "metadata": {},
   "source": [
    "If it exists, `os.path.isdir` checks whether it’s a directory:"
   ]
  },
  {
   "cell_type": "code",
   "execution_count": 17,
   "metadata": {},
   "outputs": [
    {
     "data": {
      "text/plain": [
       "True"
      ]
     },
     "execution_count": 17,
     "metadata": {},
     "output_type": "execute_result"
    }
   ],
   "source": [
    "os.path.isdir('metadata.csv')"
   ]
  },
  {
   "cell_type": "code",
   "execution_count": 16,
   "metadata": {},
   "outputs": [
    {
     "data": {
      "text/plain": [
       "True"
      ]
     },
     "execution_count": 16,
     "metadata": {},
     "output_type": "execute_result"
    }
   ],
   "source": [
    "os.path.isdir('/home/andrea')"
   ]
  },
  {
   "cell_type": "markdown",
   "metadata": {},
   "source": [
    "Similarly, `os.path.isfile` checks whether it’s a file.\n",
    "\n",
    "`os.listdir` returns a list of the files (and other directories) in the given directory:"
   ]
  },
  {
   "cell_type": "code",
   "execution_count": 18,
   "metadata": {},
   "outputs": [
    {
     "data": {
      "text/plain": [
       "['exercises_1_sol.ipynb',\n",
       " 'functions.ipynb',\n",
       " 'sequences.ipynb',\n",
       " '.git',\n",
       " 'myfile.npy',\n",
       " 'variables.ipynb',\n",
       " 'exercises_1_partial_solutions.ipynb',\n",
       " 'tuples.ipynb',\n",
       " '__pycache__',\n",
       " 'myfile.txt',\n",
       " 'numpy.ipynb',\n",
       " 'files.ipynb',\n",
       " 'course_outline.ipynb',\n",
       " 'cortical_networks.py',\n",
       " 'exercises',\n",
       " '.ipynb_checkpoints',\n",
       " 'README.md',\n",
       " 'conditionals.ipynb',\n",
       " 'output.txt',\n",
       " 'dictionaries.ipynb',\n",
       " 'myfile.npz',\n",
       " 'exercises_1.ipynb',\n",
       " 'course_outline.html',\n",
       " 'metadata.csv']"
      ]
     },
     "execution_count": 18,
     "metadata": {},
     "output_type": "execute_result"
    }
   ],
   "source": [
    "os.listdir(cwd)"
   ]
  },
  {
   "cell_type": "markdown",
   "metadata": {},
   "source": [
    "To demonstrate these functions, the following example takes a directory, lists all the files and prints the filename and content of all CSV files."
   ]
  },
  {
   "cell_type": "code",
   "execution_count": 26,
   "metadata": {},
   "outputs": [
    {
     "name": "stdout",
     "output_type": "stream",
     "text": [
      "/home/andrea/Documents/clases/python_crash_course/metadata.csv:\n",
      "subID,isofluorane,stimulus\n",
      "\n",
      "S01,0,none\n",
      "\n",
      "S01,100,none\n",
      "\n",
      "S01,0,4\n",
      "\n",
      "S01,100,4\n"
     ]
    }
   ],
   "source": [
    "def print_all_csv(dirname):\n",
    "    for name in os.listdir(dirname):\n",
    "        path = os.path.join(dirname, name)\n",
    "        if os.path.isfile(path):\n",
    "            splitted = path.split('.')\n",
    "            if splitted[-1]=='csv':\n",
    "                print(path + ':')\n",
    "                fin = open(path)\n",
    "                for line in fin:\n",
    "                    print(line)\n",
    "\n",
    "print_all_csv(cwd)"
   ]
  },
  {
   "cell_type": "markdown",
   "metadata": {},
   "source": [
    "`os.path.join` takes a directory and a file name and joins them into a complete path.\n",
    "The string method `split` splits a string in a list of strings using its parameter as a separator."
   ]
  },
  {
   "cell_type": "markdown",
   "metadata": {},
   "source": [
    "## Catching exceptions\n",
    "\n",
    "A lot of things can go wrong when you try to read and write files. For example if you try to open a file that doesn’t exist, you get an `FileNotFoundError`:"
   ]
  },
  {
   "cell_type": "code",
   "execution_count": 27,
   "metadata": {},
   "outputs": [
    {
     "ename": "FileNotFoundError",
     "evalue": "[Errno 2] No such file or directory: 'bad_file'",
     "output_type": "error",
     "traceback": [
      "\u001b[0;31m---------------------------------------------------------------------------\u001b[0m",
      "\u001b[0;31mFileNotFoundError\u001b[0m                         Traceback (most recent call last)",
      "\u001b[0;32m<ipython-input-27-a7d7d7ad396b>\u001b[0m in \u001b[0;36m<module>\u001b[0;34m\u001b[0m\n\u001b[0;32m----> 1\u001b[0;31m \u001b[0mfin\u001b[0m \u001b[0;34m=\u001b[0m \u001b[0mopen\u001b[0m\u001b[0;34m(\u001b[0m\u001b[0;34m'bad_file'\u001b[0m\u001b[0;34m)\u001b[0m\u001b[0;34m\u001b[0m\u001b[0;34m\u001b[0m\u001b[0m\n\u001b[0m",
      "\u001b[0;31mFileNotFoundError\u001b[0m: [Errno 2] No such file or directory: 'bad_file'"
     ]
    }
   ],
   "source": [
    "fin = open('bad_file')"
   ]
  },
  {
   "cell_type": "markdown",
   "metadata": {},
   "source": [
    "Checking if a file exist can be a solution but many more things can go wrong.\n",
    "It is better to go ahead and try — and deal with problems if they happen — which is exactly what the `try` statement does. The syntax is similar to an if...else statement:"
   ]
  },
  {
   "cell_type": "code",
   "execution_count": 28,
   "metadata": {},
   "outputs": [
    {
     "name": "stdout",
     "output_type": "stream",
     "text": [
      "Something went wrong.\n"
     ]
    }
   ],
   "source": [
    "try:    \n",
    "    fin = open('bad_file')\n",
    "except:\n",
    "    print('Something went wrong.')"
   ]
  },
  {
   "cell_type": "markdown",
   "metadata": {},
   "source": [
    "Python starts by executing the *try* clause. If all goes well, it skips the *except* clause and proceeds. If an exception occurs, it jumps out of the *try* clause and runs the *except* clause.\n",
    "\n",
    "Handling an exception with a try statement is called **catching** an exception and is a very common and useful pattern in programming. In this example, the except clause prints an error message that is not very helpful. In general, catching an exception gives you a chance to fix the problem, or try again, or at least end the program gracefully."
   ]
  },
  {
   "cell_type": "markdown",
   "metadata": {},
   "source": [
    "## Pickling\n",
    "\n",
    "Text files are nice and simple but they have many limitations. For example you cannot store a floating point number in a text file. They also tend to use a large amount of storage.\n",
    "\n",
    "The `pickle` module can help here. It translates almost any type of object into a string suitable for storage, and then translates strings back into objects.\n",
    "\n",
    "`pickle.dumps` takes an object as a parameter and returns a string representation (dumps is short for “dump string”):"
   ]
  },
  {
   "cell_type": "code",
   "execution_count": 29,
   "metadata": {},
   "outputs": [
    {
     "data": {
      "text/plain": [
       "b'\\x80\\x03]q\\x00(K\\x01K\\x02K\\x03e.'"
      ]
     },
     "execution_count": 29,
     "metadata": {},
     "output_type": "execute_result"
    }
   ],
   "source": [
    "import pickle\n",
    "t = [1, 2, 3]\n",
    "pickle.dumps(t)"
   ]
  },
  {
   "cell_type": "markdown",
   "metadata": {},
   "source": [
    "The format isn’t obvious to human readers; it is meant to be easy for pickle to interpret.\n",
    "In practice you won't be using these strings directly but you'll store them in files.\n",
    "`pickle.dump` without the 's' transforms python objects and stores them in the file given as second parameter."
   ]
  },
  {
   "cell_type": "code",
   "execution_count": 30,
   "metadata": {},
   "outputs": [],
   "source": [
    "fout = open('myfile.txt', 'wb')\n",
    "pickle.dump(t, fout)\n",
    "fout.close()"
   ]
  },
  {
   "cell_type": "markdown",
   "metadata": {},
   "source": [
    "`pickle.load` reads the file and reconstitutes the object:"
   ]
  },
  {
   "cell_type": "code",
   "execution_count": 31,
   "metadata": {},
   "outputs": [
    {
     "data": {
      "text/plain": [
       "[1, 2, 3]"
      ]
     },
     "execution_count": 31,
     "metadata": {},
     "output_type": "execute_result"
    }
   ],
   "source": [
    "t2 = pickle.load(open('myfile.txt', 'rb'))\n",
    "t2"
   ]
  },
  {
   "cell_type": "markdown",
   "metadata": {},
   "source": [
    "## Numpy files\n",
    "\n",
    "`pickle` works with almost all type of objects you are gonna use. However when you are using numpy arrays you can use `np.save` and `np.load`."
   ]
  },
  {
   "cell_type": "code",
   "execution_count": 32,
   "metadata": {},
   "outputs": [
    {
     "data": {
      "text/plain": [
       "array([1, 2, 3])"
      ]
     },
     "execution_count": 32,
     "metadata": {},
     "output_type": "execute_result"
    }
   ],
   "source": [
    "import numpy as np\n",
    "t1 = np.array([1, 2, 3])\n",
    "np.save('myfile.npy', t1)\n",
    "t2 = np.load('myfile.npy')\n",
    "t2"
   ]
  },
  {
   "cell_type": "markdown",
   "metadata": {},
   "source": [
    "`np.save` takes a string as first parameter and creates a file with that name. The .npy extension is customary for numpy files (but of course you can use it also to pickle other objects), and if you omit it numpy will add it for you. You can also pass an opened file object if you prefer.\n",
    "\n",
    "If you need to save more than one variable you can use `np.savez`."
   ]
  },
  {
   "cell_type": "code",
   "execution_count": 38,
   "metadata": {},
   "outputs": [
    {
     "name": "stdout",
     "output_type": "stream",
     "text": [
      "['t1', 't3']\n"
     ]
    },
    {
     "data": {
      "text/plain": [
       "array([5.1, 3.4, 1.8])"
      ]
     },
     "execution_count": 38,
     "metadata": {},
     "output_type": "execute_result"
    }
   ],
   "source": [
    "t3 = [5.1, 3.4, 1.8]\n",
    "np.savez('myfile.npz', t1=t1, t3=t3)\n",
    "d = np.load('myfile.npz')\n",
    "print(d.files)\n",
    "d['t3']"
   ]
  },
  {
   "cell_type": "markdown",
   "metadata": {},
   "source": [
    "Files saved through `np.savez` have the extension .npz (numpy will add it for you if you don't write it).\n",
    "\n",
    "As you can see, when you load an .npz file you get a dictionary-like object that can be queried for the variable names with the attribute `.files`. The original saved variables are named after the parameter name given at the call of `np.savez`, if you don't provide the name a generic name will be used. "
   ]
  },
  {
   "cell_type": "markdown",
   "metadata": {},
   "source": [
    "## External commands\n",
    "\n",
    "Most operating systems provide a command-line interface, also known as a shell. Shells usually provide commands to navigate the file system and launch applications. For example, in Unix you can change directories with cd, display the contents of a directory with ls, and launch a web browser by typing (for example) firefox.\n",
    "\n",
    "Any program that you can launch from the shell can also be launched from Python using the `subprocess` module.\n",
    "\n",
    "For example, the Unix command `ls -l` normally displays the contents of the current directory in long format. You can launch external commands like `ls` with `subprocess.run`:"
   ]
  },
  {
   "cell_type": "code",
   "execution_count": 40,
   "metadata": {},
   "outputs": [
    {
     "data": {
      "text/plain": [
       "CompletedProcess(args=['wc', '-lw', 'output.txt'], returncode=0, stdout=b' 2 18 output.txt\\n', stderr=b'')"
      ]
     },
     "execution_count": 40,
     "metadata": {},
     "output_type": "execute_result"
    }
   ],
   "source": [
    "import subprocess\n",
    "subprocess.run([\"wc\", \"-lw\", \"output.txt\"], capture_output=True)"
   ]
  },
  {
   "cell_type": "markdown",
   "metadata": {},
   "source": [
    "How `subprocess` works in details is out of scope in this course but the ability of running external commands is very valuable in scientific settings where code for specilized purposed might be available in languages other than Python. In such cases, provided that the external code stores its results in a file, you can run code using `subprocess` then read the file with the results and go on with Python for further processing.\n",
    "\n",
    "For example, if you happen to have some code written for GNU Octave or Matlab in file `preprocessing.m`, you could run:"
   ]
  },
  {
   "cell_type": "code",
   "execution_count": null,
   "metadata": {},
   "outputs": [],
   "source": [
    "subprocess.run([\"octave\", \"preprocessing.m\"]"
   ]
  },
  {
   "cell_type": "markdown",
   "metadata": {},
   "source": [
    "## Writing modules\n",
    "\n",
    "Any file that contains Python code can be imported as a module. For example, suppose we collect some functions we have written so far in a file called `cortical_networks.py`, with this content:"
   ]
  },
  {
   "cell_type": "code",
   "execution_count": null,
   "metadata": {},
   "outputs": [],
   "source": [
    "import numpy as np\n",
    "import matplotlib.pyplot as plt\n",
    "\n",
    "def make_linear_data(n, c=0, a=1, b=.1, xlow=0, xhigh=10):\n",
    "    x = np.linspace(xlow, xhigh, n)\n",
    "    eta = np.random.normal(loc=0, scale=1, size=n)\n",
    "    y = c + a*x + b*eta\n",
    "    return x, y\n",
    "\n",
    "def make_sin_data(n, c=0, a=1, f=.1, b=.1, xlow=0, xhigh=10):\n",
    "    x = np.linspace(xlow, xhigh, n)\n",
    "    eta = np.random.normal(loc=0, scale=1, size=n)\n",
    "    y = c + a*np.sin(2*np.pi*f*x) + b*eta\n",
    "    return x, y\n",
    "\n",
    "def make_dampedsin_data(n, c=0, a=1, f=.1, b=.1, xlow=0, xhigh=10):\n",
    "    x = np.linspace(xlow, xhigh, n)\n",
    "    eta = np.random.normal(loc=0, scale=1, size=n)\n",
    "    y = c + a * np.exp(-x) * np.sin(2*np.pi*f*x) + b * eta\n",
    "    return x, y\n",
    "\n",
    "def make_syn_data(n, model='linear', params=[0, 1, .1], xlow=0, xhigh=10):\n",
    "    if model == 'linear':\n",
    "        c, a, b = params\n",
    "        x, y = make_linear_data(n, c, a, b, xlow, xhigh)\n",
    "    elif model == 'sine':\n",
    "        c, a, f, b = params\n",
    "        x, y = make_sin_data(n, c, a, f, b, xlow, xhigh)\n",
    "    elif model == 'damped sine':\n",
    "        c, a, f, b = params\n",
    "        x, y = make_dampedsin_data(n, c, a, f, b, xlow, xhigh)\n",
    "    else:\n",
    "        raise ValueError(\"model has to be 'linear', 'sine' or 'damped sine'\")\n",
    "            \n",
    "    return x, y\n"
   ]
  },
  {
   "cell_type": "markdown",
   "metadata": {},
   "source": [
    "This program contains only function definitions, so if we run it \"nothing\" happens. However we can import it like this:"
   ]
  },
  {
   "cell_type": "code",
   "execution_count": 48,
   "metadata": {},
   "outputs": [],
   "source": [
    "import cortical_networks as cn"
   ]
  },
  {
   "cell_type": "markdown",
   "metadata": {},
   "source": [
    "Now we have a module object `cn`:"
   ]
  },
  {
   "cell_type": "code",
   "execution_count": 42,
   "metadata": {},
   "outputs": [
    {
     "data": {
      "text/plain": [
       "<module 'cortical_networks' from '/home/andrea/Documents/clases/python_crash_course/cortical_networks.py'>"
      ]
     },
     "execution_count": 42,
     "metadata": {},
     "output_type": "execute_result"
    }
   ],
   "source": [
    "cn"
   ]
  },
  {
   "cell_type": "markdown",
   "metadata": {},
   "source": [
    "The module object provides `make_syn_data`:"
   ]
  },
  {
   "cell_type": "code",
   "execution_count": 50,
   "metadata": {},
   "outputs": [
    {
     "name": "stdout",
     "output_type": "stream",
     "text": [
      "hello2\n"
     ]
    },
    {
     "data": {
      "text/plain": [
       "[<matplotlib.lines.Line2D at 0x7f86c60ddcd0>]"
      ]
     },
     "execution_count": 50,
     "metadata": {},
     "output_type": "execute_result"
    },
    {
     "data": {
      "image/png": "[encoded data removed]",
      "text/plain": [
       "<Figure size 432x288 with 1 Axes>"
      ]
     },
     "metadata": {
      "needs_background": "light"
     },
     "output_type": "display_data"
    }
   ],
   "source": [
    "import matplotlib.pyplot as plt\n",
    "x, y = cn.make_syn_data(100, model='damped sine', params=[0, 1, .1, .01])\n",
    "plt.plot(x, y)"
   ]
  },
  {
   "cell_type": "markdown",
   "metadata": {},
   "source": [
    "Now you can start writing your own libraries. When you develop code organizing it into module files you often make changes to functions but Python will not be aware of those changes, even if you reimport the module. A drastic solution is to close the program and restart it but if you execute the following two lines of code the current Python session will be aware of any change written to the file (remember to save files after you change them!) of an imported module. "
   ]
  },
  {
   "cell_type": "code",
   "execution_count": 46,
   "metadata": {},
   "outputs": [],
   "source": [
    "%load_ext autoreload\n",
    "%autoreload 2"
   ]
  },
  {
   "cell_type": "markdown",
   "metadata": {},
   "source": [
    "code starting with \"%\" is called a magic line and is a great enhancement of IPython, jupyter notebook and similar platforms."
   ]
  },
  {
   "cell_type": "markdown",
   "metadata": {},
   "source": [
    "# Goodies\n",
    "\n",
    "The following features are not really necessary but they are convenient because they make the code easier to read or more compact or more efficient.  "
   ]
  },
  {
   "cell_type": "markdown",
   "metadata": {},
   "source": [
    "##  Conditional expressions\n",
    "\n",
    "Conditional statements are often used to choose one of two values; for example:"
   ]
  },
  {
   "cell_type": "code",
   "execution_count": null,
   "metadata": {},
   "outputs": [],
   "source": [
    "if x > 0:\n",
    "    y = math.log(x)\n",
    "else:\n",
    "    y = float('nan')"
   ]
  },
  {
   "cell_type": "markdown",
   "metadata": {},
   "source": [
    "This statement checks whether x is positive. If so, it computes math.log. If not, math.log would raise a ValueError. To avoid stopping the program, we generate a “NaN”, which is a special floating-point value that represents “Not a Number”.\n",
    "\n",
    "We can write this statement more concisely using a conditional expression:"
   ]
  },
  {
   "cell_type": "code",
   "execution_count": 54,
   "metadata": {},
   "outputs": [],
   "source": [
    "y = math.log(x) if x > 0 else float('nan')"
   ]
  },
  {
   "cell_type": "markdown",
   "metadata": {},
   "source": [
    "You can almost read this line like English: “y gets log-x if x is greater than 0; otherwise it gets NaN”.\n",
    "\n",
    "Here we used `math` because `numpy` already returns a NaN when its input is not greater than 0."
   ]
  },
  {
   "cell_type": "markdown",
   "metadata": {},
   "source": [
    "In general, you can replace a conditional statement with a conditional expression if both branches contain simple expressions that are either returned or assigned to the same variable."
   ]
  },
  {
   "cell_type": "markdown",
   "metadata": {},
   "source": [
    "## List comprehensions\n",
    "\n",
    "Whenever you need to create a list in an iterative way you can used list comprehension instead of loops.\n",
    "For example the following code creates a list with the first 10 squares."
   ]
  },
  {
   "cell_type": "code",
   "execution_count": 55,
   "metadata": {},
   "outputs": [
    {
     "data": {
      "text/plain": [
       "[0, 1, 4, 9, 16, 25, 36, 49, 64, 81]"
      ]
     },
     "execution_count": 55,
     "metadata": {},
     "output_type": "execute_result"
    }
   ],
   "source": [
    "x = []\n",
    "for i in range(10):\n",
    "    x.append(i**2)\n",
    "x"
   ]
  },
  {
   "cell_type": "markdown",
   "metadata": {},
   "source": [
    "You can do the same more concisely with:"
   ]
  },
  {
   "cell_type": "code",
   "execution_count": 56,
   "metadata": {},
   "outputs": [
    {
     "data": {
      "text/plain": [
       "[0, 1, 4, 9, 16, 25, 36, 49, 64, 81]"
      ]
     },
     "execution_count": 56,
     "metadata": {},
     "output_type": "execute_result"
    }
   ],
   "source": [
    "x = [i**2 for i in range(10)]\n",
    "x"
   ]
  },
  {
   "cell_type": "markdown",
   "metadata": {},
   "source": [
    "The bracket operators indicate that we are constructing a new list. The expression inside the brackets specifies the elements of the list, and the for clause indicates what sequence we are traversing.\n",
    "\n",
    "The syntax of a list comprehension is a little awkward because the loop variable, `i` in this example, appears in the expression before we get to the definition.\n",
    "\n",
    "We can also filter elements from a list comprehension using an if. For example if we only want even squares:"
   ]
  },
  {
   "cell_type": "code",
   "execution_count": 57,
   "metadata": {},
   "outputs": [
    {
     "data": {
      "text/plain": [
       "[0, 4, 16, 36, 64]"
      ]
     },
     "execution_count": 57,
     "metadata": {},
     "output_type": "execute_result"
    }
   ],
   "source": [
    "x = [i**2 for i in range(10) if i%2==0]\n",
    "x"
   ]
  },
  {
   "cell_type": "markdown",
   "metadata": {},
   "source": [
    "If we want to use an if/else the syntax changes: we need to use a conditional expression inside the list comprehension. For example if we want to substitute odd squares with NaNs."
   ]
  },
  {
   "cell_type": "code",
   "execution_count": 58,
   "metadata": {},
   "outputs": [
    {
     "data": {
      "text/plain": [
       "[0, nan, 4, nan, 16, nan, 36, nan, 64, nan]"
      ]
     },
     "execution_count": 58,
     "metadata": {},
     "output_type": "execute_result"
    }
   ],
   "source": [
    "x = [i**2 if i%2==0 else np.nan for i in range(10)]\n",
    "x"
   ]
  },
  {
   "cell_type": "markdown",
   "metadata": {},
   "source": [
    "List comprehensions are concise and easy to read, at least for simple expressions. And they are usually faster than the equivalent `for` loops, sometimes much faster.\n",
    "However list comprehensions are harder to debug so use them only if the computation is simple enough that you are likely to get it right the first time. "
   ]
  },
  {
   "cell_type": "markdown",
   "metadata": {},
   "source": [
    "## Generator expressions\n",
    "\n",
    "Generator expressions are similar to list comprehensions, but with parentheses instead of square brackets:"
   ]
  },
  {
   "cell_type": "code",
   "execution_count": 64,
   "metadata": {},
   "outputs": [
    {
     "data": {
      "text/plain": [
       "<generator object <genexpr> at 0x7f86c60b30d0>"
      ]
     },
     "execution_count": 64,
     "metadata": {},
     "output_type": "execute_result"
    }
   ],
   "source": [
    "g = (x**2 for x in range(10))\n",
    "g"
   ]
  },
  {
   "cell_type": "markdown",
   "metadata": {},
   "source": [
    "The result is a generator object that knows how to iterate through a sequence of values. But unlike a list comprehension, it does not compute the values all at once; it waits to be asked. The built-in function `next` gets the next value from the generator:"
   ]
  },
  {
   "cell_type": "code",
   "execution_count": 61,
   "metadata": {},
   "outputs": [
    {
     "data": {
      "text/plain": [
       "1"
      ]
     },
     "execution_count": 61,
     "metadata": {},
     "output_type": "execute_result"
    }
   ],
   "source": [
    "next(g)"
   ]
  },
  {
   "cell_type": "markdown",
   "metadata": {},
   "source": [
    "When you get to the end of the sequence, `next` raises a `StopIteration` exception. You can also use a for loop to iterate through the values:"
   ]
  },
  {
   "cell_type": "code",
   "execution_count": 65,
   "metadata": {},
   "outputs": [
    {
     "name": "stdout",
     "output_type": "stream",
     "text": [
      "0\n",
      "1\n",
      "4\n",
      "9\n",
      "16\n",
      "25\n",
      "36\n",
      "49\n",
      "64\n",
      "81\n"
     ]
    }
   ],
   "source": [
    "for val in g:\n",
    "     print(val)"
   ]
  },
  {
   "cell_type": "markdown",
   "metadata": {},
   "source": [
    "The generator object keeps track of where it is in the sequence, so the for loop picks up where next left off. Once the generator is exhausted, it continues to raise StopIteration:"
   ]
  },
  {
   "cell_type": "code",
   "execution_count": 63,
   "metadata": {},
   "outputs": [
    {
     "ename": "StopIteration",
     "evalue": "",
     "output_type": "error",
     "traceback": [
      "\u001b[0;31m---------------------------------------------------------------------------\u001b[0m",
      "\u001b[0;31mStopIteration\u001b[0m                             Traceback (most recent call last)",
      "\u001b[0;32m<ipython-input-63-e734f8aca5ac>\u001b[0m in \u001b[0;36m<module>\u001b[0;34m\u001b[0m\n\u001b[0;32m----> 1\u001b[0;31m \u001b[0mnext\u001b[0m\u001b[0;34m(\u001b[0m\u001b[0mg\u001b[0m\u001b[0;34m)\u001b[0m\u001b[0;34m\u001b[0m\u001b[0;34m\u001b[0m\u001b[0m\n\u001b[0m",
      "\u001b[0;31mStopIteration\u001b[0m: "
     ]
    }
   ],
   "source": [
    "next(g)"
   ]
  },
  {
   "cell_type": "markdown",
   "metadata": {},
   "source": [
    "Generator expressions are often used with functions like sum, max, and min:"
   ]
  },
  {
   "cell_type": "code",
   "execution_count": 66,
   "metadata": {},
   "outputs": [
    {
     "data": {
      "text/plain": [
       "285"
      ]
     },
     "execution_count": 66,
     "metadata": {},
     "output_type": "execute_result"
    }
   ],
   "source": [
    "sum(x**2 for x in range(10))"
   ]
  },
  {
   "cell_type": "markdown",
   "metadata": {},
   "source": [
    "## Gathering keyword args\n",
    "\n",
    "You already saw how to write a function that gathers its arguments into a tuple:"
   ]
  },
  {
   "cell_type": "code",
   "execution_count": 67,
   "metadata": {},
   "outputs": [],
   "source": [
    "def printall(*args):\n",
    "    print(args)"
   ]
  },
  {
   "cell_type": "markdown",
   "metadata": {},
   "source": [
    "But the * operator doesn’t gather keyword arguments:"
   ]
  },
  {
   "cell_type": "markdown",
   "metadata": {},
   "source": [
    "To gather keyword arguments, you can use the ** operator:"
   ]
  },
  {
   "cell_type": "code",
   "execution_count": 68,
   "metadata": {},
   "outputs": [],
   "source": [
    "def printall(*args, **kwargs):\n",
    "    print(args, kwargs)"
   ]
  },
  {
   "cell_type": "markdown",
   "metadata": {},
   "source": [
    "You can call the keyword gathering parameter anything you want, but kwargs is a common choice. The result is a dictionary that maps keywords to values:"
   ]
  },
  {
   "cell_type": "code",
   "execution_count": 70,
   "metadata": {},
   "outputs": [
    {
     "name": "stdout",
     "output_type": "stream",
     "text": [
      "(1, 2.0) {'third': '3', 'fourth': '5'}\n"
     ]
    }
   ],
   "source": [
    "printall(1, 2.0, third='3', fourth='5')"
   ]
  },
  {
   "cell_type": "markdown",
   "metadata": {},
   "source": [
    "If you have a dictionary of keywords and values, you can use the scatter operator, ** to call a function:"
   ]
  },
  {
   "cell_type": "code",
   "execution_count": 71,
   "metadata": {},
   "outputs": [
    {
     "data": {
      "image/png": "[encoded data removed]",
      "text/plain": [
       "<Figure size 432x288 with 1 Axes>"
      ]
     },
     "metadata": {
      "needs_background": "light"
     },
     "output_type": "display_data"
    }
   ],
   "source": [
    "fnc_params = {'model':'damped sine', 'params':[0, 1, .1, .01]}\n",
    "x, y = cn.make_syn_data(100, **fnc_params)\n",
    "plt.plot(x, y);"
   ]
  },
  {
   "cell_type": "markdown",
   "metadata": {},
   "source": [
    "When you are working with functions that have a large number of parameters, it is often useful to create and pass around dictionaries that specify frequently used options."
   ]
  },
  {
   "cell_type": "markdown",
   "metadata": {},
   "source": [
    "# Exercises\n",
    "\n",
    "## Exercise 1\n",
    "\n",
    "Imaging you just moved to a new lab, where they have done rodents experiments over the past 20 years. They want you to do a new analysis pooling data over all experiments done with mice (they also do rats), using the odd-ball task. \n",
    "Fortunately enough they have followed good practices of data storage and organization: all experiments are in a centralized folder and each experiment is in a subfolder, where, together with neural recordings, you find a metadata file in CSV format. All metadata files have a *species* and *task* column (plus several others). \n",
    "\n",
    "Write a function that takes a path as parameter (the centralized experiments folder) and returns a list of folder names that correspond to the experiments you are interested into.\n",
    "\n",
    "Create a folder structure populated with few (let's say about 10) CSV files to simulate the scenario proposed by the exercise. Test your function.\n",
    "\n",
    "## Exercise 2\n",
    "\n",
    "Collect all functions you have written so far in a module. Remember to import all modules needed (numpy, etc.) in the your module. Write clear docstrings in case you haven't done so yet.\n",
    "Try to import and use some function for your module.\n",
    "\n",
    "## Exercise 3\n",
    "\n",
    "Change your functions making use of list comprehension, generators, conditional expressions and gathering variables. Test your functions to be sure their output is still the same."
   ]
  }
 ],
 "metadata": {
  "kernelspec": {
   "display_name": "Python 3",
   "language": "python",
   "name": "python3"
  },
  "language_info": {
   "codemirror_mode": {
    "name": "ipython",
    "version": 3
   },
   "file_extension": ".py",
   "mimetype": "text/x-python",
   "name": "python",
   "nbconvert_exporter": "python",
   "pygments_lexer": "ipython3",
   "version": "3.7.6"
  }
 },
 "nbformat": 4,
 "nbformat_minor": 4
}
