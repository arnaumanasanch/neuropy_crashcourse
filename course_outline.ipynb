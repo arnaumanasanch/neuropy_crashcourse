{
 "cells": [
  {
   "cell_type": "markdown",
   "metadata": {},
   "source": [
    "# Python crash course for neuroscientists\n",
    "\n",
    "Repository for a programming crash course in Python. Intended audience are biologists and psychologists working in neuroscience. This course has been taught at the Cortical Networks Lab, IDIBAPS.\n",
    "\n",
    "## Instructors:\n",
    "\n",
    "* Arnau Manasanch\n",
    "* [Andrea Insabato](https://andreainsabato.eu)\n",
    "\n",
    "## Credits:\n",
    "\n",
    "This course is mainly based upon the excellent book \"How to think like a computer scientist\" by Allen Downey, freely downloadable from here: https://greenteapress.com/wp/think-python-2e/\n",
    "\n",
    "We omitted some sections and summarized others in order to adjust the contents to the expected audience. We also included some additional contents that are usually needed for the analysis of neuroscience data (mainly numpy, basic statistics with pandas, visualization with matplotlib and seaborn).\n",
    "\n",
    "All errors and confusions are most probably due to our alterations of the original book.\n",
    "\n",
    "## License:\n",
    "\n",
    "The materials of this course are available under the [Creative Commons Attribution-NonCommercial-ShareAlike 4.0 International License](http://creativecommons.org/licenses/by-nc-sa/4.0/), which means that you are free to copy, distribute, and modify it, as long as you attribute the work and don’t use it for commercial purposes and you should also redistribute using the same license.\n",
    "\n",
    "## Outline:\n",
    "\n",
    "\n",
    "The course is taught throught jupyter notebooks with an hands-on focus.\n",
    "\n",
    "Each notebook correspond to one 2 hours session.\n",
    "\n",
    "At the end of each notebook there are some exercises. During programming labs the exercises are solved collectively and different solutions are discussed.\n",
    "\n",
    "The order of notebooks is the following:\n",
    "\n",
    "1. [variables](1_variables.ipynb)\n",
    "2. [functions](2_functions.ipynb)\n",
    "3. [conditionals and recursion](3_conditionals.ipynb)\n",
    "4. [sequences](4_sequences.ipynb)\n",
    "5. [numpy](5_numpy.ipynb)\n",
    "6. [dictionaries](6_dictionaries.ipynb)\n",
    "7. [tuples](7_tuples.ipynb)\n",
    "8. [files](8_files.ipynb)\n",
    "9. [DataFrames](9_pandas.ipynb)\n",
    "10. [distributions](10_distributions.ipynb)\n",
    "11. [visualization](11_visualization.ipynb)\n",
    "\n",
    "There are also two notebooks for programming labs with collections of exercises from different notebooks plus some extra exercises:\n",
    "\n",
    "1. [programming lab 1](exercises_1.ipynb)\n",
    "2. [programming lab 2](exercises_2.ipynb)"
   ]
  }
 ],
 "metadata": {
  "kernelspec": {
   "display_name": "Python 3",
   "language": "python",
   "name": "python3"
  },
  "language_info": {
   "codemirror_mode": {
    "name": "ipython",
    "version": 3
   },
   "file_extension": ".py",
   "mimetype": "text/x-python",
   "name": "python",
   "nbconvert_exporter": "python",
   "pygments_lexer": "ipython3",
   "version": "3.7.7"
  }
 },
 "nbformat": 4,
 "nbformat_minor": 4
}
