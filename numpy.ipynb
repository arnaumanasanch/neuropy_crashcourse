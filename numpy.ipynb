{
 "cells": [
  {
   "cell_type": "markdown",
   "metadata": {},
   "source": [
    "# NUMPY "
   ]
  },
  {
   "cell_type": "code",
   "execution_count": 207,
   "metadata": {},
   "outputs": [],
   "source": [
    "import numpy as np"
   ]
  },
  {
   "cell_type": "markdown",
   "metadata": {},
   "source": [
    "In this chapter, we wil review some of the most important numpy functions. If you want to understand better all the functionalities of `numpy`, you can go to its website: https://numpy.org/doc/1.18/reference/index.html <br/>\n",
    "This session's index is as follows:\n",
    "- **Numpy arrays**\n",
    "    - ndim, shape, size, len, reshape, flat\n",
    "    - arange, linspace, logspace\n",
    "- **Manipulation of arrays**\n",
    "    - .sum, .max, .min, .mean, .std, .diff, .cumsum (axis)\n",
    "    - replication of arrays (tile)\n",
    "    - where, nonzero\n",
    "    - argmin, argmax\n",
    "- **Indexing**\n",
    "    - arrays of indices\n",
    "    - boolean indexing\n",
    "- **Linear Algebra // Matrix manipulation**\n",
    "    - dot\n",
    "    - diagonal\n",
    "    - transpose\n",
    "    - eye\n",
    "    - trace\n",
    "    - lower/upper triangle\n",
    "\n",
    "\n",
    "# 1. Numpy arrays\n",
    "There are several numpy functions that allow us to create arrays and know their properties. <br/>\n",
    "Let's create a 1D array and a 2D array:"
   ]
  },
  {
   "cell_type": "code",
   "execution_count": 10,
   "metadata": {},
   "outputs": [
    {
     "name": "stdout",
     "output_type": "stream",
     "text": [
      "array 1D: \n",
      " [0 1 2 3 4 5]\n",
      "array 2D: \n",
      " [[0 1 2 3 4 5]\n",
      " [0 1 2 3 4 5]\n",
      " [0 1 2 3 4 5]]\n"
     ]
    }
   ],
   "source": [
    "array1D = np.array([0,1,2,3,4,5])\n",
    "array2D = np.array([array1D,array1D,array1D])\n",
    "print('array 1D: \\n', array1D)\n",
    "print('array 2D: \\n', array2D)"
   ]
  },
  {
   "cell_type": "markdown",
   "metadata": {},
   "source": [
    "### `np.ndim`\n",
    "Know the number of dimensions of the arrays."
   ]
  },
  {
   "cell_type": "code",
   "execution_count": 11,
   "metadata": {},
   "outputs": [
    {
     "name": "stdout",
     "output_type": "stream",
     "text": [
      "ndim arrray1D:  1\n",
      "ndim arrray2D:  2\n"
     ]
    }
   ],
   "source": [
    "print('ndim arrray1D: ', np.ndim(array1D))\n",
    "print('ndim arrray2D: ', np.ndim(array2D))"
   ]
  },
  {
   "cell_type": "markdown",
   "metadata": {},
   "source": [
    "### `np.shape`\n",
    "Know the length of each dimension of the array."
   ]
  },
  {
   "cell_type": "code",
   "execution_count": 12,
   "metadata": {},
   "outputs": [
    {
     "name": "stdout",
     "output_type": "stream",
     "text": [
      "shape arrray1D:  (6,)\n",
      "shape arrray2D:  (3, 6)\n"
     ]
    }
   ],
   "source": [
    "print('shape arrray1D: ', np.shape(array1D))\n",
    "print('shape arrray2D: ', np.shape(array2D))"
   ]
  },
  {
   "cell_type": "markdown",
   "metadata": {},
   "source": [
    "### `np.size`\n",
    "Know the overall size  of the array."
   ]
  },
  {
   "cell_type": "code",
   "execution_count": 13,
   "metadata": {},
   "outputs": [
    {
     "name": "stdout",
     "output_type": "stream",
     "text": [
      "size arrray1D:  6\n",
      "size arrray2D:  18\n"
     ]
    }
   ],
   "source": [
    "print('size arrray1D: ', np.size(array1D))\n",
    "print('size arrray2D: ', np.size(array2D))"
   ]
  },
  {
   "cell_type": "markdown",
   "metadata": {},
   "source": [
    "### `np.reshape`\n",
    "Reshape an array into a desired shape. <br/>\n",
    "The final shape should have the same number of elements as the original. Let's take as an example the 2D array 3x6 (18 elements) and we want to reshape it to 6x3 (18 elements)."
   ]
  },
  {
   "cell_type": "code",
   "execution_count": 14,
   "metadata": {},
   "outputs": [
    {
     "name": "stdout",
     "output_type": "stream",
     "text": [
      "original 2D array: \n",
      " [[0 1 2 3 4 5]\n",
      " [0 1 2 3 4 5]\n",
      " [0 1 2 3 4 5]]\n",
      "shape arrray2D:  (3, 6)\n",
      "reshaped 2D array: \n",
      " [[0 1 2]\n",
      " [3 4 5]\n",
      " [0 1 2]\n",
      " [3 4 5]\n",
      " [0 1 2]\n",
      " [3 4 5]]\n",
      "shape reshaped array:  (6, 3)\n"
     ]
    }
   ],
   "source": [
    "array_reshaped = np.reshape(array2D,(6,3))\n",
    "print('original 2D array: \\n', array2D)\n",
    "print('shape arrray2D: ', np.shape(array2D))\n",
    "print('reshaped 2D array: \\n', array_reshaped)\n",
    "print('shape reshaped array: ', np.shape(array_reshaped))"
   ]
  },
  {
   "cell_type": "markdown",
   "metadata": {},
   "source": [
    "### `np.ndarray.flatten`\n",
    "This function allows us to flatten a ndarray. Let's flatten the reshaped array."
   ]
  },
  {
   "cell_type": "code",
   "execution_count": 15,
   "metadata": {},
   "outputs": [
    {
     "name": "stdout",
     "output_type": "stream",
     "text": [
      "[0 1 2 3 4 5 0 1 2 3 4 5 0 1 2 3 4 5]\n",
      "1\n"
     ]
    }
   ],
   "source": [
    "flatten = np.ndarray.flatten(array_reshaped)\n",
    "print(flatten)\n",
    "print(np.ndim(flatten))"
   ]
  },
  {
   "cell_type": "markdown",
   "metadata": {},
   "source": [
    "It is the same as reshaping the original array into 1 x 18. If you want to flatten an array to just one dimension, you don't have to add `(1,n)` but just `(n)`.\n"
   ]
  },
  {
   "cell_type": "code",
   "execution_count": 16,
   "metadata": {},
   "outputs": [
    {
     "name": "stdout",
     "output_type": "stream",
     "text": [
      "[0 1 2 3 4 5 0 1 2 3 4 5 0 1 2 3 4 5]\n",
      "1\n"
     ]
    }
   ],
   "source": [
    "reshaped_flatten = np.reshape(array2D,18)\n",
    "print(reshaped_flatten)\n",
    "print(np.ndim(reshaped_flatten))"
   ]
  },
  {
   "cell_type": "markdown",
   "metadata": {},
   "source": [
    "## Buidling arrays\n",
    "### `np.arange`\n",
    "In previous sessions we saw the use of `range`, which allowed us to iterate over integers. If we want to create an array spanning a range of integers usinge `range`, we have to do the following:"
   ]
  },
  {
   "cell_type": "code",
   "execution_count": 17,
   "metadata": {},
   "outputs": [
    {
     "name": "stdout",
     "output_type": "stream",
     "text": [
      "[3 4 5 6 7]\n"
     ]
    }
   ],
   "source": [
    "# initialize the array as a list (you could also create an empty array)\n",
    "array_range = []\n",
    "for i in range(3,8):\n",
    "    array_range.append(i)\n",
    "# convert to array\n",
    "array_range = np.array(array_range)\n",
    "print(array_range)"
   ]
  },
  {
   "cell_type": "markdown",
   "metadata": {},
   "source": [
    "There is an easy way to create this array: `np.arange(start,stop,step,dtype)`"
   ]
  },
  {
   "cell_type": "code",
   "execution_count": 18,
   "metadata": {},
   "outputs": [
    {
     "name": "stdout",
     "output_type": "stream",
     "text": [
      "[3 4 5 6 7]\n"
     ]
    }
   ],
   "source": [
    "array_range = np.arange(start = 3, stop = 8, step = 1,dtype = int)\n",
    "print(array_range)"
   ]
  },
  {
   "cell_type": "markdown",
   "metadata": {},
   "source": [
    "Take into account that `stop >= start` and `step != 0`. <br/>\n",
    "We can also change the step and the type: "
   ]
  },
  {
   "cell_type": "code",
   "execution_count": 19,
   "metadata": {},
   "outputs": [
    {
     "name": "stdout",
     "output_type": "stream",
     "text": [
      "[ 0. 10. 20. 30. 40. 50. 60. 70. 80. 90.]\n"
     ]
    }
   ],
   "source": [
    "array_range2 = np.arange(0,100,10,dtype = float)\n",
    "print(array_range2)"
   ]
  },
  {
   "cell_type": "markdown",
   "metadata": {},
   "source": [
    "### `np.linspace`\n",
    "We have already seen this function, but let's review it. `np.linspace(start, stop, num,...)`. It allows us to create a linear space between two points `[start, stop]` and with as many element as `num`. "
   ]
  },
  {
   "cell_type": "code",
   "execution_count": 20,
   "metadata": {},
   "outputs": [
    {
     "name": "stdout",
     "output_type": "stream",
     "text": [
      "[0.         0.11111111 0.22222222 0.33333333 0.44444444 0.55555556\n",
      " 0.66666667 0.77777778 0.88888889 1.        ]\n"
     ]
    },
    {
     "data": {
      "text/plain": [
       "[<matplotlib.lines.Line2D at 0x11abcbc50>]"
      ]
     },
     "execution_count": 20,
     "metadata": {},
     "output_type": "execute_result"
    },
    {
     "data": {
      "image/png": "[encoded data removed]",
      "text/plain": [
       "<Figure size 432x288 with 1 Axes>"
      ]
     },
     "metadata": {
      "needs_background": "light"
     },
     "output_type": "display_data"
    }
   ],
   "source": [
    "import matplotlib.pyplot as plt\n",
    "array_linspace = np.linspace(start = 0, stop = 1, num = 10)\n",
    "print(array_linspace)\n",
    "plt.figure()\n",
    "plt.plot(array_linspace)"
   ]
  },
  {
   "cell_type": "markdown",
   "metadata": {},
   "source": [
    "In this case, `stop` can be greater, lesser or equal than `start`, and `num`can be `0`."
   ]
  },
  {
   "cell_type": "code",
   "execution_count": 21,
   "metadata": {},
   "outputs": [
    {
     "name": "stdout",
     "output_type": "stream",
     "text": [
      "[]\n"
     ]
    }
   ],
   "source": [
    "array_linspace = np.linspace(start = 0, stop = 0, num = 0)\n",
    "print(array_linspace)"
   ]
  },
  {
   "cell_type": "markdown",
   "metadata": {},
   "source": [
    "### `np.logspace`\n",
    "It works similar as the `np.linspace` but in this case, points are logarithmically distributed in space: `np.linspace(start, stop, num, base...)`. If `base` argument is not defined, `base = 10` (logarithm with base 10)"
   ]
  },
  {
   "cell_type": "code",
   "execution_count": 22,
   "metadata": {},
   "outputs": [
    {
     "name": "stdout",
     "output_type": "stream",
     "text": [
      "[   1.            2.15443469    4.64158883   10.           21.5443469\n",
      "   46.41588834  100.          215.443469    464.15888336 1000.        ]\n"
     ]
    },
    {
     "data": {
      "text/plain": [
       "<matplotlib.collections.PathCollection at 0x1179f1668>"
      ]
     },
     "execution_count": 22,
     "metadata": {},
     "output_type": "execute_result"
    },
    {
     "data": {
      "image/png": "[encoded data removed]",
      "text/plain": [
       "<Figure size 1008x360 with 2 Axes>"
      ]
     },
     "metadata": {
      "needs_background": "light"
     },
     "output_type": "display_data"
    }
   ],
   "source": [
    "array_logspace = np.logspace(start = 0, stop = 3,num = 10, base = 10)\n",
    "print(array_logspace)\n",
    "fig, axes = plt.subplots(nrows = 1, ncols = 2, figsize = (14,5))\n",
    "axes[0].plot(array_logspace, c = 'k')\n",
    "axes[1].scatter(array_logspace, array_logspace, marker = 'x', c = 'r')"
   ]
  },
  {
   "cell_type": "markdown",
   "metadata": {},
   "source": [
    "# 2. Manipulation of arrays\n",
    "In this chapter, we review some of the most common used functions from numpy.\n",
    "### `np.sum`\n",
    "This allows us to sum the numbers of an array. If the array is n-dimensional, we should specify the `axis`(dimension) where we want to perform the sum of the elements. <br/>\n",
    "**1D array**"
   ]
  },
  {
   "cell_type": "code",
   "execution_count": 23,
   "metadata": {},
   "outputs": [
    {
     "name": "stdout",
     "output_type": "stream",
     "text": [
      "[0 1 2 3 4 5]\n",
      "15\n"
     ]
    }
   ],
   "source": [
    "print(array1D)\n",
    "print(np.sum(array1D))"
   ]
  },
  {
   "cell_type": "markdown",
   "metadata": {},
   "source": [
    "**2D array**<br/>\n",
    "if we don't specify the `axis`, the sum will be performed across the entire n-dimensional array. If `axis` is specified, the function returns the sum of the elements along the specified dimension. "
   ]
  },
  {
   "cell_type": "code",
   "execution_count": 24,
   "metadata": {},
   "outputs": [
    {
     "name": "stdout",
     "output_type": "stream",
     "text": [
      "[[ 0  1  2  3  4  5]\n",
      " [ 0  2  4  6  8 10]\n",
      " [ 0  3  6  9 12 15]]\n",
      "sum with axis not specified:\n",
      " 90\n",
      "sum along dim 0:\n",
      " [ 0  6 12 18 24 30]\n",
      "sum along dim 1:\n",
      " [15 30 45]\n"
     ]
    }
   ],
   "source": [
    "array2D = np.array([array1D,2*array1D,3*array1D])\n",
    "print(array2D)\n",
    "print('sum with axis not specified:\\n', np.sum(array2D)) \n",
    "print('sum along dim 0:\\n', np.sum(array2D, axis = 0)) # sum along dim 1\n",
    "print('sum along dim 1:\\n' , np.sum(array2D, axis = 1)) # sum along dim 2"
   ]
  },
  {
   "cell_type": "markdown",
   "metadata": {},
   "source": [
    "### `np.max` and `np.min`\n",
    "These functions are similar to the ones from Python. We can get the maximum or minimum of an array. If the array is n-dimensional, we can also specify the axis or not if we just want to obtain the max or min of the entire array. \n"
   ]
  },
  {
   "cell_type": "code",
   "execution_count": 25,
   "metadata": {},
   "outputs": [
    {
     "name": "stdout",
     "output_type": "stream",
     "text": [
      "[[ 0  1  2  3  4  5]\n",
      " [ 0  2  4  6  8 10]\n",
      " [ 0  3  6  9 12 15]]\n",
      "Axis not specified:\n",
      " max:  15 \n",
      " min:  0\n",
      "Axis = 0:\n",
      " max:  [ 0  3  6  9 12 15] \n",
      " min:  [0 1 2 3 4 5]\n",
      "Axis = 1:\n",
      " max:  [ 5 10 15] \n",
      " min:  [0 0 0]\n"
     ]
    }
   ],
   "source": [
    "print(array2D)\n",
    "print('Axis not specified:\\n max: ', np.max(array2D), '\\n min: ', np.min(array2D)) \n",
    "print('Axis = 0:\\n max: ', np.max(array2D, axis = 0), '\\n min: ', np.min(array2D, axis = 0)) \n",
    "print('Axis = 1:\\n max: ', np.max(array2D, axis = 1), '\\n min: ', np.min(array2D, axis = 1)) "
   ]
  },
  {
   "cell_type": "markdown",
   "metadata": {},
   "source": [
    "### `np.mean` and `np.std`\n",
    "These functions allow you to compute the mean and standard deviation along a given axis. If axis is not specified, it will be computed along the entire array."
   ]
  },
  {
   "cell_type": "code",
   "execution_count": 26,
   "metadata": {},
   "outputs": [
    {
     "name": "stdout",
     "output_type": "stream",
     "text": [
      "[[ 0  1  2  3  4  5]\n",
      " [ 0  2  4  6  8 10]\n",
      " [ 0  3  6  9 12 15]]\n",
      "mean with no axis specified: \n",
      " 5.0\n",
      "mean along axis 0: \n",
      " [ 0.  2.  4.  6.  8. 10.]\n",
      "mean along axis 1: \n",
      " [2.5 5.  7.5]\n"
     ]
    }
   ],
   "source": [
    "print(array2D)\n",
    "print('mean with no axis specified: \\n', np.mean(array2D))\n",
    "print('mean along axis 0: \\n', np.mean(array2D, axis = 0))\n",
    "print('mean along axis 1: \\n', np.mean(array2D, axis = 1))"
   ]
  },
  {
   "cell_type": "code",
   "execution_count": 27,
   "metadata": {},
   "outputs": [
    {
     "name": "stdout",
     "output_type": "stream",
     "text": [
      "[[ 0  1  2  3  4  5]\n",
      " [ 0  2  4  6  8 10]\n",
      " [ 0  3  6  9 12 15]]\n",
      "std with no axis specified: \n",
      " 4.216370213557839\n",
      "std along axis 0: \n",
      " [0.         0.81649658 1.63299316 2.44948974 3.26598632 4.0824829 ]\n",
      "std along axis 1: \n",
      " [1.70782513 3.41565026 5.12347538]\n"
     ]
    }
   ],
   "source": [
    "print(array2D)\n",
    "print('std with no axis specified: \\n', np.std(array2D))\n",
    "print('std along axis 0: \\n', np.std(array2D, axis = 0))\n",
    "print('std along axis 1: \\n', np.std(array2D, axis = 1))"
   ]
  },
  {
   "cell_type": "markdown",
   "metadata": {},
   "source": [
    "### `np.diff`\n",
    "This function allows to compute the n-th discrete difference along the given axis. <br/>\n",
    "The difference for an element is computed as `diff_array[i] = array[i+1]-array[i]`. If `n > 1` diff is used recursively. If `axis` is not specified, `axis = 1`. If `n` is not specified, `n = 1`."
   ]
  },
  {
   "cell_type": "code",
   "execution_count": 28,
   "metadata": {},
   "outputs": [
    {
     "name": "stdout",
     "output_type": "stream",
     "text": [
      "[[ 0  1  2  3  4  5]\n",
      " [ 0  2  4  6  8 10]\n",
      " [ 0  3  6  9 12 15]]\n",
      "diff along axis 0: \n",
      " [[0 1 2 3 4 5]\n",
      " [0 1 2 3 4 5]]\n",
      "diff along axis 1: \n",
      " [[1 1 1 1 1]\n",
      " [2 2 2 2 2]\n",
      " [3 3 3 3 3]]\n"
     ]
    }
   ],
   "source": [
    "print(array2D)\n",
    "print('diff along axis 0: \\n', np.diff(array2D, axis = 0))\n",
    "print('diff along axis 1: \\n', np.diff(array2D, axis = 1))"
   ]
  },
  {
   "cell_type": "markdown",
   "metadata": {},
   "source": [
    "We can illustrate this by computing the first and second discrete derivatives of a Sigmoid function. <br/>\n",
    "The sigmoid function can be defined as:\n",
    "\n",
    "$$f(x) = \\frac{1}{1 + e^{-x}}$$"
   ]
  },
  {
   "cell_type": "code",
   "execution_count": 169,
   "metadata": {},
   "outputs": [
    {
     "data": {
      "text/plain": [
       "Text(0.5, 1.0, '2nd derivative')"
      ]
     },
     "execution_count": 169,
     "metadata": {},
     "output_type": "execute_result"
    },
    {
     "data": {
      "image/png": "[encoded data removed]",
      "text/plain": [
       "<Figure size 1152x360 with 3 Axes>"
      ]
     },
     "metadata": {
      "needs_background": "light"
     },
     "output_type": "display_data"
    }
   ],
   "source": [
    "xx = np.arange(-10,10,0.1)\n",
    "Sigmoid = 1/(1+np.exp(-xx))\n",
    "fig, axes = plt.subplots(nrows = 1, ncols = 3, figsize = (16,5))\n",
    "axes[0].plot(Sigmoid,'k',linewidth = 5)\n",
    "axes[0].set_title('Sigmoid')\n",
    "axes[1].plot(np.diff(Sigmoid),'b',linewidth = 5)\n",
    "axes[1].set_title('1st derivative')\n",
    "axes[2].plot(np.diff(Sigmoid,n = 2),'r',linewidth = 5)\n",
    "axes[2].set_title('2nd derivative')"
   ]
  },
  {
   "cell_type": "markdown",
   "metadata": {},
   "source": [
    "### `np.cumsum`\n",
    "This function return the `cum`ulative `sum` of elements along a given axis. The cumulative sum of the i-th element of an array will be given by:\n",
    "\n",
    "$$ cumsum[i] = \\sum_{j=0}^{i} array[j] $$\n",
    "\n",
    "If axis is not specified, it returns the cumulative sum along the entire array as if the array was flattened. "
   ]
  },
  {
   "cell_type": "code",
   "execution_count": 30,
   "metadata": {},
   "outputs": [
    {
     "name": "stdout",
     "output_type": "stream",
     "text": [
      "[[ 0  1  2  3  4  5]\n",
      " [ 0  2  4  6  8 10]\n",
      " [ 0  3  6  9 12 15]]\n",
      "cumsum with no axis specified: \n",
      " [ 0  1  3  6 10 15 15 17 21 27 35 45 45 48 54 63 75 90]\n",
      "cumsum along axis 0: \n",
      " [[ 0  1  2  3  4  5]\n",
      " [ 0  3  6  9 12 15]\n",
      " [ 0  6 12 18 24 30]]\n",
      "cumsum along axis 1: \n",
      " [[ 0  1  3  6 10 15]\n",
      " [ 0  2  6 12 20 30]\n",
      " [ 0  3  9 18 30 45]]\n"
     ]
    }
   ],
   "source": [
    "print(array2D)\n",
    "print('cumsum with no axis specified: \\n', np.cumsum(array2D))\n",
    "print('cumsum along axis 0: \\n', np.cumsum(array2D, axis = 0))\n",
    "print('cumsum along axis 1: \\n', np.cumsum(array2D, axis = 1))"
   ]
  },
  {
   "cell_type": "markdown",
   "metadata": {},
   "source": [
    "### Replication of arrays `np.tile`\n",
    "In previous sessions we saw that we could replicate a list by just doing:"
   ]
  },
  {
   "cell_type": "code",
   "execution_count": 31,
   "metadata": {},
   "outputs": [
    {
     "name": "stdout",
     "output_type": "stream",
     "text": [
      "[0, 1, 2, 3, 0, 1, 2, 3, 0, 1, 2, 3]\n"
     ]
    }
   ],
   "source": [
    "list_numbers = [0,1,2,3]\n",
    "replicated_list = list_numbers*3\n",
    "print(replicated_list)"
   ]
  },
  {
   "cell_type": "markdown",
   "metadata": {},
   "source": [
    "But if we try to do that with a numpy array:"
   ]
  },
  {
   "cell_type": "code",
   "execution_count": 32,
   "metadata": {},
   "outputs": [
    {
     "name": "stdout",
     "output_type": "stream",
     "text": [
      "[0 3 6 9]\n"
     ]
    }
   ],
   "source": [
    "array_numbers = np.array([0,1,2,3])\n",
    "replicated_array = array_numbers*3\n",
    "print(replicated_array)"
   ]
  },
  {
   "cell_type": "markdown",
   "metadata": {},
   "source": [
    "In this case, we are not replicating the array but just multplying it by 3. If we want to replicate it `n` times, we have to make use of the `np.tile` function. `reps` will be the number of repetitions we want ot have. "
   ]
  },
  {
   "cell_type": "code",
   "execution_count": 33,
   "metadata": {},
   "outputs": [
    {
     "name": "stdout",
     "output_type": "stream",
     "text": [
      "[0 1 2 3 0 1 2 3 0 1 2 3]\n"
     ]
    }
   ],
   "source": [
    "replicated_array = np.tile(array_numbers,reps = 3)\n",
    "print(replicated_array)"
   ]
  },
  {
   "cell_type": "markdown",
   "metadata": {},
   "source": [
    "We can also perform this in a 2D array. Repetitions will be performed along axis 0. "
   ]
  },
  {
   "cell_type": "code",
   "execution_count": 34,
   "metadata": {},
   "outputs": [
    {
     "name": "stdout",
     "output_type": "stream",
     "text": [
      "array2D: \n",
      " [[ 0  1  2  3  4  5]\n",
      " [ 0  2  4  6  8 10]\n",
      " [ 0  3  6  9 12 15]]\n",
      "replicated_array2D: \n",
      " [[ 0  1  2  3  4  5  0  1  2  3  4  5]\n",
      " [ 0  2  4  6  8 10  0  2  4  6  8 10]\n",
      " [ 0  3  6  9 12 15  0  3  6  9 12 15]]\n"
     ]
    }
   ],
   "source": [
    "replicated_array2D = np.tile(array2D,reps = 2)\n",
    "print('array2D: \\n', array2D)\n",
    "print('replicated_array2D: \\n', replicated_array2D)"
   ]
  },
  {
   "cell_type": "markdown",
   "metadata": {},
   "source": [
    "### `np.where`\n",
    "This function return the elements chosen from `x` or `y` depending on condition. <br/>\n",
    "`np.where(condition, x, y)`: \n",
    "   - `condition`: where `True`, yield `x`, otherwise yield `y`.\n",
    "   - `x`, `y`: Values from which to choose.\n",
    "   \n",
    "Let's first use the `np.where` without using `x`and `y`, only using `condition`. This will return us the indices where condition is `True`. "
   ]
  },
  {
   "cell_type": "code",
   "execution_count": 35,
   "metadata": {},
   "outputs": [
    {
     "name": "stdout",
     "output_type": "stream",
     "text": [
      "[0 1 2 3 4 5]\n",
      "(array([3, 4, 5]),)\n"
     ]
    }
   ],
   "source": [
    "print(array1D)\n",
    "idxs_greater_2 = np.where(array1D>2)\n",
    "print(idxs_greater_2)"
   ]
  },
  {
   "cell_type": "markdown",
   "metadata": {},
   "source": [
    "Having this indices, we can obtain the values that meet this condition: (we will review indexing later, this is just a trailer)"
   ]
  },
  {
   "cell_type": "code",
   "execution_count": 36,
   "metadata": {},
   "outputs": [
    {
     "name": "stdout",
     "output_type": "stream",
     "text": [
      "[3 4 5]\n"
     ]
    }
   ],
   "source": [
    "print(array1D[idxs_greater_2])"
   ]
  },
  {
   "cell_type": "markdown",
   "metadata": {},
   "source": [
    "Now we want to make use of `x`and `y` arguments: <br/>\n",
    "In this example, we want the funtion to return as an array with the same shape as the original one where those elements greater than 2 are multplied by a factor of 10, and those which do not meet the condition, are returned as they originally were. "
   ]
  },
  {
   "cell_type": "code",
   "execution_count": 37,
   "metadata": {},
   "outputs": [
    {
     "name": "stdout",
     "output_type": "stream",
     "text": [
      "[0 1 2 3 4 5]\n",
      "[ 0  1  2 30 40 50]\n"
     ]
    }
   ],
   "source": [
    "print(array1D)\n",
    "print(np.where(array1D>2,10*array1D,array1D))"
   ]
  },
  {
   "cell_type": "markdown",
   "metadata": {},
   "source": [
    "### `np.nonzero`\n",
    "This function returns the indices of the elements that are non-zero. If array is 1D, it just returns one array (one coordinate). If the array is n-dimensional, it returns an n-d array, where each array contains the specific coordinate for a point in that dimension. "
   ]
  },
  {
   "cell_type": "code",
   "execution_count": 38,
   "metadata": {},
   "outputs": [
    {
     "name": "stdout",
     "output_type": "stream",
     "text": [
      "[0, 1, 1, 0, 1, 0, 1]\n",
      "(array([1, 2, 4, 6]),)\n"
     ]
    }
   ],
   "source": [
    "binary_array1D = [0,1,1,0,1,0,1]\n",
    "print(binary_array1D)\n",
    "print(np.nonzero(binary_array1D))"
   ]
  },
  {
   "cell_type": "markdown",
   "metadata": {},
   "source": [
    "If we do it for a 2D array:"
   ]
  },
  {
   "cell_type": "code",
   "execution_count": 39,
   "metadata": {},
   "outputs": [
    {
     "name": "stdout",
     "output_type": "stream",
     "text": [
      "[[0, 1, 0, 2], [0, 0, 32, 0]]\n",
      "(array([0, 0, 1]), array([1, 3, 2]))\n"
     ]
    }
   ],
   "source": [
    "array_aux = [[0,1,0,2],[0,0,32,0]]\n",
    "print(array_aux)\n",
    "print(np.nonzero(array_aux))"
   ]
  },
  {
   "cell_type": "markdown",
   "metadata": {},
   "source": [
    "We can do the same with boolean arrays:"
   ]
  },
  {
   "cell_type": "code",
   "execution_count": 40,
   "metadata": {},
   "outputs": [
    {
     "name": "stdout",
     "output_type": "stream",
     "text": [
      "(array([0, 2, 3]),)\n"
     ]
    }
   ],
   "source": [
    "boolean_array = [True, False, True, True, False]\n",
    "print(np.nonzero(boolean_array))"
   ]
  },
  {
   "cell_type": "markdown",
   "metadata": {},
   "source": [
    "### `np.argmax` and `np.argmin`\n",
    "These functions return the indices of the maximum/minimum values along an axis.<br/>\n",
    "If axis is not specified, it returns the index as if the array was flattened:"
   ]
  },
  {
   "cell_type": "code",
   "execution_count": 41,
   "metadata": {},
   "outputs": [
    {
     "name": "stdout",
     "output_type": "stream",
     "text": [
      "[[ 0  1  2  3  4  5]\n",
      " [ 0  2  4  6  8 10]\n",
      " [ 0  3  6  9 12 15]]\n",
      "17\n",
      "0\n"
     ]
    }
   ],
   "source": [
    "print(array2D)\n",
    "print(np.argmax(array2D))\n",
    "print(np.argmin(array2D))"
   ]
  },
  {
   "cell_type": "markdown",
   "metadata": {},
   "source": [
    "Along axis = 0. It is important to remark that, if there is more than one element having the maximum, the function will just return the index of the first of them. "
   ]
  },
  {
   "cell_type": "code",
   "execution_count": 42,
   "metadata": {},
   "outputs": [
    {
     "name": "stdout",
     "output_type": "stream",
     "text": [
      "[[ 0  1  2  3  4  5]\n",
      " [ 0  2  4  6  8 10]\n",
      " [ 0  3  6  9 12 15]]\n",
      "[0 2 2 2 2 2]\n",
      "[0 0 0 0 0 0]\n"
     ]
    }
   ],
   "source": [
    "print(array2D)\n",
    "print(np.argmax(array2D, axis = 0))\n",
    "print(np.argmin(array2D, axis = 0))"
   ]
  },
  {
   "cell_type": "markdown",
   "metadata": {},
   "source": [
    "Along axis = 1"
   ]
  },
  {
   "cell_type": "code",
   "execution_count": 43,
   "metadata": {},
   "outputs": [
    {
     "name": "stdout",
     "output_type": "stream",
     "text": [
      "[[ 0  1  2  3  4  5]\n",
      " [ 0  2  4  6  8 10]\n",
      " [ 0  3  6  9 12 15]]\n",
      "[5 5 5]\n",
      "[0 0 0]\n"
     ]
    }
   ],
   "source": [
    "print(array2D)\n",
    "print(np.argmax(array2D, axis = 1))\n",
    "print(np.argmin(array2D, axis = 1))"
   ]
  },
  {
   "cell_type": "markdown",
   "metadata": {},
   "source": [
    "Let's put that as an example: <br/>\n",
    "With the Sigmoid plots from before and its derivatives, find the maximum and minimum and scatter those points in the plots."
   ]
  },
  {
   "cell_type": "code",
   "execution_count": 46,
   "metadata": {},
   "outputs": [
    {
     "data": {
      "text/plain": [
       "<matplotlib.collections.PathCollection at 0x11b4b7240>"
      ]
     },
     "execution_count": 46,
     "metadata": {},
     "output_type": "execute_result"
    },
    {
     "data": {
      "image/png": "[encoded data removed]",
      "text/plain": [
       "<Figure size 1152x360 with 3 Axes>"
      ]
     },
     "metadata": {
      "needs_background": "light"
     },
     "output_type": "display_data"
    }
   ],
   "source": [
    "fig, axes = plt.subplots(nrows = 1, ncols = 3, figsize = (16,5))\n",
    "# Sigmoid\n",
    "axes[0].plot(Sigmoid,'b')\n",
    "idx_max = np.argmax(Sigmoid)\n",
    "idx_min = np.argmin(Sigmoid)\n",
    "axes[0].scatter(idx_max, Sigmoid[idx_max], c = 'r', s = 300)\n",
    "axes[0].scatter(idx_min, Sigmoid[idx_min], c = 'g', s = 300)\n",
    "# 1st derivative\n",
    "axes[1].plot(np.diff(Sigmoid),'b')\n",
    "idx_max = np.argmax(np.diff(Sigmoid))\n",
    "idx_min = np.argmin(np.diff(Sigmoid))\n",
    "axes[1].scatter(idx_max, np.diff(Sigmoid)[idx_max], c = 'r', s = 300)\n",
    "axes[1].scatter(idx_min, np.diff(Sigmoid)[idx_min], c = 'g', s = 300)\n",
    "# 2nd derivative\n",
    "axes[2].plot(np.diff(Sigmoid,n = 2),'b')\n",
    "idx_max = np.argmax(np.diff(Sigmoid,n = 2))\n",
    "idx_min = np.argmin(np.diff(Sigmoid,n = 2))\n",
    "axes[2].scatter(idx_max, np.diff(Sigmoid,n = 2)[idx_max], c = 'r', s = 300)\n",
    "axes[2].scatter(idx_min, np.diff(Sigmoid,n = 2)[idx_min], c = 'g', s = 300)"
   ]
  },
  {
   "cell_type": "markdown",
   "metadata": {},
   "source": [
    "## 3. Indexing\n",
    "### Array Indexing\n",
    "Array indexing is the same as accessing an array element. You can access any array element by referring to its index number. Let's say we want to access the 4-th element of a 1D array:"
   ]
  },
  {
   "cell_type": "code",
   "execution_count": 60,
   "metadata": {},
   "outputs": [
    {
     "name": "stdout",
     "output_type": "stream",
     "text": [
      "3\n"
     ]
    }
   ],
   "source": [
    "fourth = array1D[3]\n",
    "print(fourth)"
   ]
  },
  {
   "cell_type": "markdown",
   "metadata": {},
   "source": [
    "If we have a 2D array, we can access its elements by typing the index of that element in each dimension. example: output the element in 3rd row and 4th column. "
   ]
  },
  {
   "cell_type": "code",
   "execution_count": 62,
   "metadata": {},
   "outputs": [
    {
     "name": "stdout",
     "output_type": "stream",
     "text": [
      "[[ 0  1  2  3  4  5]\n",
      " [ 0  2  4  6  8 10]\n",
      " [ 0  3  6  9 12 15]]\n",
      "9\n"
     ]
    }
   ],
   "source": [
    "print(array2D)\n",
    "r3c4 = array2D[2,3]\n",
    "print(r3c4)"
   ]
  },
  {
   "cell_type": "markdown",
   "metadata": {},
   "source": [
    "We can also extract the elements of an array with some condition. Let's extract the elements of the 2D array that are even. One way of doing this is by the use of `np.where`:"
   ]
  },
  {
   "cell_type": "code",
   "execution_count": 76,
   "metadata": {},
   "outputs": [
    {
     "name": "stdout",
     "output_type": "stream",
     "text": [
      "array2D: \n",
      " [[ 0  1  2  3  4  5]\n",
      " [ 0  2  4  6  8 10]\n",
      " [ 0  3  6  9 12 15]]\n",
      "The indices of the array2D where elements are even are: \n",
      " 1st dim:  [0 0 0 1 1 1 1 1 1 2 2 2] \n",
      " 2nd dim:  [0 2 4 0 1 2 3 4 5 0 2 4]\n",
      "Odd elements of array2D are: \n",
      " [ 0  2  4  0  2  4  6  8 10  0  6 12]\n"
     ]
    }
   ],
   "source": [
    "even = np.where(array2D % 2 == 0)\n",
    "print('array2D: \\n', array2D)\n",
    "print('The indices of the array2D where elements are even are: \\n 1st dim: ', even[0], '\\n 2nd dim: ', even[1] )\n",
    "print('Odd elements of array2D are: \\n', array2D[even[0],even[1]])"
   ]
  },
  {
   "cell_type": "markdown",
   "metadata": {},
   "source": [
    "### Boolean arrays\n",
    "Instead of having integer indices, we can also have boolean types. If we take the same example as before:"
   ]
  },
  {
   "cell_type": "code",
   "execution_count": 80,
   "metadata": {},
   "outputs": [
    {
     "name": "stdout",
     "output_type": "stream",
     "text": [
      "[[ True False  True False  True False]\n",
      " [ True  True  True  True  True  True]\n",
      " [ True False  True False  True False]]\n",
      "Odd elements of array2D are: \n",
      " [ 0  2  4  0  2  4  6  8 10  0  6 12]\n"
     ]
    }
   ],
   "source": [
    "even = array2D%2 == 0\n",
    "print(even)\n",
    "print('Odd elements of array2D are: \\n', array2D[even])"
   ]
  },
  {
   "cell_type": "markdown",
   "metadata": {},
   "source": [
    "## 4. Linear Algebra // Matrix Manipulation\n",
    "### `np.dot`\n",
    "The dot product is an algebraic operation that takes two equal-length sequences of numbers (usually coordinate vectors) and returns a single number. Algebraically, the dot product is the sum of the products of the corresponding entries of the two sequences of numbers. \n",
    "\n",
    "$$\n",
    "\\begin{bmatrix}\n",
    "u_1 & u_2 & u_3\n",
    "\\end{bmatrix}\n",
    "\\begin{bmatrix}\n",
    "v_1 \\\\\n",
    "v_2 \\\\\n",
    "v_3\n",
    "\\end{bmatrix}\n",
    "= u_1·v_1 + u_2·v_2 + u_3·v_3 = \\overrightarrow{U} · \\overrightarrow{V}\n",
    "$$"
   ]
  },
  {
   "cell_type": "code",
   "execution_count": 89,
   "metadata": {},
   "outputs": [
    {
     "name": "stdout",
     "output_type": "stream",
     "text": [
      "13\n"
     ]
    }
   ],
   "source": [
    "u = [1, 2, 3, 4, 5]\n",
    "v = [0, 1, 2, 0, 1]\n",
    "dot_prod = np.dot(u,v)\n",
    "print(dot_prod)"
   ]
  },
  {
   "cell_type": "markdown",
   "metadata": {},
   "source": [
    "### `np.diag`\n",
    "Return the diagonal of a 2D array. If array is 1D, it constructs a matrix of zeros where the array will be the diagonal. "
   ]
  },
  {
   "cell_type": "code",
   "execution_count": 97,
   "metadata": {},
   "outputs": [
    {
     "name": "stdout",
     "output_type": "stream",
     "text": [
      "[[0 0 0 0 0 0]\n",
      " [0 1 0 0 0 0]\n",
      " [0 0 2 0 0 0]\n",
      " [0 0 0 3 0 0]\n",
      " [0 0 0 0 4 0]\n",
      " [0 0 0 0 0 5]]\n",
      "[[0, 1, 2], [3, 4, 5], [6, 7, 8]]\n",
      "[0 4 8]\n"
     ]
    }
   ],
   "source": [
    "# construct\n",
    "diag1D = np.diag(array1D)\n",
    "print(diag1D)\n",
    "# diagonal from 2D array\n",
    "array_diag = [[0,1,2],[3,4,5],[6,7,8]]\n",
    "diag2D = np.diag(array_diag)\n",
    "print(array_diag)\n",
    "print(diag2D)"
   ]
  },
  {
   "cell_type": "markdown",
   "metadata": {},
   "source": [
    "### `np.diagonal`\n",
    "If array is 2-D, returns the diagonal of a with the given offset."
   ]
  },
  {
   "cell_type": "code",
   "execution_count": 99,
   "metadata": {},
   "outputs": [
    {
     "name": "stdout",
     "output_type": "stream",
     "text": [
      "array2D: \n",
      " [[ 0  1  2  3  4  5]\n",
      " [ 0  2  4  6  8 10]\n",
      " [ 0  3  6  9 12 15]]\n",
      "diagonal offset 0: \n",
      " [0 2 6]\n",
      "diagonal offset 1: \n",
      " [1 4 9]\n",
      "diagonal offset 2: \n",
      " [ 2  6 12]\n"
     ]
    }
   ],
   "source": [
    "print('array2D: \\n', array2D)\n",
    "print('diagonal offset 0: \\n', np.diagonal(array2D, offset = 0))\n",
    "print('diagonal offset 1: \\n', np.diagonal(array2D, offset = 1))\n",
    "print('diagonal offset 2: \\n', np.diagonal(array2D, offset = 2))"
   ]
  },
  {
   "cell_type": "markdown",
   "metadata": {},
   "source": [
    "### `np.transpose`\n",
    "Permute the dimensions of an array.\n",
    "$$\n",
    "\\begin{bmatrix}\n",
    "a_1 & a_2 \\\\\n",
    "a_3 & a_4 \\\\\n",
    "a_5 & a_6\n",
    "\\end{bmatrix}^T\n",
    "= \\begin{bmatrix}\n",
    "a_1 & a_3 & a_5\\\\\n",
    "a_2 & a_4 & a_6\\\\\n",
    "\\end{bmatrix}\n",
    "$$"
   ]
  },
  {
   "cell_type": "code",
   "execution_count": 100,
   "metadata": {},
   "outputs": [
    {
     "name": "stdout",
     "output_type": "stream",
     "text": [
      "array2D: \n",
      " [[ 0  1  2  3  4  5]\n",
      " [ 0  2  4  6  8 10]\n",
      " [ 0  3  6  9 12 15]]\n",
      "array2D tranposed: \n",
      " [[ 0  0  0]\n",
      " [ 1  2  3]\n",
      " [ 2  4  6]\n",
      " [ 3  6  9]\n",
      " [ 4  8 12]\n",
      " [ 5 10 15]]\n"
     ]
    }
   ],
   "source": [
    "print('array2D: \\n', array2D)\n",
    "print('array2D tranposed: \\n', np.transpose(array2D))"
   ]
  },
  {
   "cell_type": "markdown",
   "metadata": {},
   "source": [
    "### `np.eye`\n",
    "Return a 2-D array with ones on the diagonal and zeros elsewhere. `N:` number of rows. `M:`number of columns, if `M` not specified, `M = N`."
   ]
  },
  {
   "cell_type": "code",
   "execution_count": 102,
   "metadata": {},
   "outputs": [
    {
     "name": "stdout",
     "output_type": "stream",
     "text": [
      "[[1. 0. 0. 0. 0.]\n",
      " [0. 1. 0. 0. 0.]\n",
      " [0. 0. 1. 0. 0.]\n",
      " [0. 0. 0. 1. 0.]\n",
      " [0. 0. 0. 0. 1.]]\n"
     ]
    }
   ],
   "source": [
    "print(np.eye(N = 5))"
   ]
  },
  {
   "cell_type": "code",
   "execution_count": 104,
   "metadata": {},
   "outputs": [
    {
     "name": "stdout",
     "output_type": "stream",
     "text": [
      "[[1. 0. 0. 0. 0. 0. 0. 0. 0. 0.]\n",
      " [0. 1. 0. 0. 0. 0. 0. 0. 0. 0.]\n",
      " [0. 0. 1. 0. 0. 0. 0. 0. 0. 0.]\n",
      " [0. 0. 0. 1. 0. 0. 0. 0. 0. 0.]\n",
      " [0. 0. 0. 0. 1. 0. 0. 0. 0. 0.]]\n"
     ]
    }
   ],
   "source": [
    "print(np.eye(N = 5, M = 10))"
   ]
  },
  {
   "cell_type": "markdown",
   "metadata": {},
   "source": [
    "### `np.trace`\n",
    "The trace of a square matrix is defined as the sum of elements in the main diagonal (or offset). "
   ]
  },
  {
   "cell_type": "code",
   "execution_count": 118,
   "metadata": {},
   "outputs": [
    {
     "name": "stdout",
     "output_type": "stream",
     "text": [
      "matrix: \n",
      " [[0, 1, 2, 3], [3, 4, 5, 6], [6, 7, 8, 9], [0, 1, 2, 1]]\n",
      "13\n",
      "15\n",
      "12\n"
     ]
    }
   ],
   "source": [
    "array_diag = [[0,1,2,3],[3,4,5,6],[6,7,8,9],[0,1,2,1]]\n",
    "print('matrix: \\n', array_diag)\n",
    "print(np.trace(array_diag, offset = 0))\n",
    "print(np.trace(array_diag, offset = 1))\n",
    "print(np.trace(array_diag, offset = -1))"
   ]
  },
  {
   "cell_type": "markdown",
   "metadata": {},
   "source": [
    "### `np.triu` and `np.tril`\n",
    "Returns the upper or lower triangles of the matrix. k is the offset for the main diagonal. \n"
   ]
  },
  {
   "cell_type": "code",
   "execution_count": 122,
   "metadata": {},
   "outputs": [
    {
     "data": {
      "text/plain": [
       "array([[0, 1, 2, 3],\n",
       "       [0, 4, 5, 6],\n",
       "       [0, 0, 8, 9],\n",
       "       [0, 0, 0, 1]])"
      ]
     },
     "execution_count": 122,
     "metadata": {},
     "output_type": "execute_result"
    }
   ],
   "source": [
    "np.triu(array_diag, k = 0)"
   ]
  },
  {
   "cell_type": "code",
   "execution_count": 123,
   "metadata": {},
   "outputs": [
    {
     "data": {
      "text/plain": [
       "array([[0, 0, 0, 0],\n",
       "       [3, 4, 0, 0],\n",
       "       [6, 7, 8, 0],\n",
       "       [0, 1, 2, 1]])"
      ]
     },
     "execution_count": 123,
     "metadata": {},
     "output_type": "execute_result"
    }
   ],
   "source": [
    "np.tril(array_diag, k = 0)"
   ]
  },
  {
   "cell_type": "code",
   "execution_count": 126,
   "metadata": {},
   "outputs": [
    {
     "data": {
      "text/plain": [
       "array([[0, 1, 0, 0],\n",
       "       [3, 4, 5, 0],\n",
       "       [6, 7, 8, 9],\n",
       "       [0, 1, 2, 1]])"
      ]
     },
     "execution_count": 126,
     "metadata": {},
     "output_type": "execute_result"
    }
   ],
   "source": [
    "np.tril(array_diag, k = 1)"
   ]
  },
  {
   "cell_type": "markdown",
   "metadata": {},
   "source": [
    "# Exercises"
   ]
  },
  {
   "cell_type": "markdown",
   "metadata": {},
   "source": [
    "## Ex 1\n",
    "\n",
    "The covariance matrix (as the correlation matrix) is a symmetric matrix such that the covariance between time series $i$ and $j$ is the same as the covariance of $j$ and $i$: $C_{ij} = C_{ji}$. On the diagonal of the covariance matrix there are the values of the variance of each time series.\n",
    "\n",
    "Write a function that take a sequence of `p` time series, calculates the $p$ x $p$ covariance matrix and returns a vector of length $p(p-1)/2$ with the covariance values without repetitions and without the variance elements."
   ]
  },
  {
   "cell_type": "code",
   "execution_count": null,
   "metadata": {},
   "outputs": [],
   "source": []
  },
  {
   "cell_type": "markdown",
   "metadata": {},
   "source": [
    "## Ex 2\n",
    "\n",
    "Modify the function `make_linear_data` from previous session in order to build data that depends linearly on more than one variable. The model will be $y_i = c + \\sum_{j=1}^{P} a_j x_{ij} + b \\eta_i$, so that $x$ will be now a matrix with as many rows as samples and as many columns as variables.\n",
    "1. Generate `x` as random samples from the uniform distribution. `np.random.rand(3, 4)` generates uniformly distributed data from 0 to 1 in an array of shape `(3, 4)`.\n",
    "2. Add a parameter to choose the number of dimensions of `x`.\n",
    "\n",
    "It's ok if you want to start with an iterative solution but your final code should make use of the dot product."
   ]
  },
  {
   "cell_type": "code",
   "execution_count": null,
   "metadata": {},
   "outputs": [],
   "source": []
  },
  {
   "cell_type": "markdown",
   "metadata": {},
   "source": [
    "## Ex 3\n",
    "As we did in previous sessions, create a function that:\n",
    "- Plots a sinusoidal function given a certain frequency value and time range.\n",
    "$$ y_i(t) = A  sin(2\\pi f t_i)$$\n",
    "- Has the possibility of adding noise to the signal. \n",
    "$$ y_i(t) = A  sin(2\\pi f t_i) + b \\eta_i$$\n",
    "- Plots/Scatters **ALL** the maximums (in red) and minimums (in green) in the same plot. \n",
    "The arguments of the function have to be:\n",
    "- `A`: Amplitude of the sinousoidal (int or float).\n",
    "- `f`: Frequency (int or float).\n",
    "- `noise`: Noise if noise is not wanted, int or float if wanted. The value will correspond to $b$.\n",
    "- `time_range:`: 2-element array/list with the limits of time to plot the sinousoidal function, e.g. `time_range = [0, 100]`, the plot will go from 0 to 100 seconds. Check that `time_range[0] < time_range[1]`.\n",
    "- `samp_freq`: Sampling frequency of the signal (int). The sampling frequency is generally defined as the number of samples obtained in one second. In this case, when buidling the time array, its length should be: `samp_freq * (time_range[1] - time_range[0])`."
   ]
  },
  {
   "cell_type": "code",
   "execution_count": null,
   "metadata": {},
   "outputs": [],
   "source": []
  },
  {
   "cell_type": "markdown",
   "metadata": {},
   "source": [
    "## Ex 4\n",
    "Given the following time array, extract the average sampling frequency. The sampling frequency `[in Hz]` is defined as the inverse of the average differences."
   ]
  },
  {
   "cell_type": "code",
   "execution_count": null,
   "metadata": {},
   "outputs": [],
   "source": [
    "time = [0, 0.0149, 0.0787, 0.1793, 0.303, 0.399,  0.495,  0.5991, 0.7019, 0.8067, 0.9142,\n",
    " 0.9853, 1.0847, 1.1885, 1.3013, 1.4096, 1.5103, 1.5957, 1.7018, 1.7911, 1.9006,\n",
    " 2.0072, 2.1093, 2.2114, 2.2988, 2.3992, 2.5058, 2.6027, 2.7094, 2.7829, 2.8819,\n",
    " 2.9791, 3.0855, 3.207,  3.3079, 3.3937, 3.4825, 3.6054, 3.6979, 3.8029, 3.9001,\n",
    " 4.0029, 4.1028, 4.2036, 4.2965, 4.3943, 4.4806, 4.6013, 4.6924, 4.7908, 4.9095]"
   ]
  },
  {
   "cell_type": "code",
   "execution_count": 156,
   "metadata": {},
   "outputs": [],
   "source": []
  },
  {
   "cell_type": "markdown",
   "metadata": {},
   "source": [
    "## Ex 5\n",
    "Try to answer the following questions without executing any code. Think about them, and only if you know the answer for right, execute the code to validate it. <br/>\n",
    "\n",
    "Given the `array = [0,1,2,3,4]`:\n",
    "1. Is `np.cumsum(array)[-1] == np.sum(array)`? \n",
    "2. What if the array is `array_sorted_descending = sorted(array)[::-1]`? `sorted()` just sorts the array in ascending order. `[::-1]` just flips the array. \n",
    "3. Is `np.trace(np.diag(array)) == np.sum(array)`?\n",
    "4. How many dimensions will have\n",
    "    - `array_nd = [array*3]`? \n",
    "    - `array_nd = np.tile(array,3)`? \n",
    "    - `array_nd = np.tile(array,3).reshape(3,5)`?\n",
    "5. Given `array_nd = np.tile(array,3).reshape(3,5)`, what is its transpose `array_nd_transpose`? Write it on a separate sheet and then validate it. \n",
    "6. Given `array_nd_transpose`, what is the output of:\n",
    "    - `np.trace(array_nd_transpose, offset = 0)`? \n",
    "    - `np.trace(array_nd_transpose, offset = -2)`\n",
    "    - `np.sum(np.triu(array_nd_transpose, k = 0))`\n",
    "    - `np.sum(np.tril(array_nd_transpose, k = 1))`\n",
    "7. Given the binary array `bin_array = [0, 0, 0, 0, 1, 0, 0, 1]`, and the previous `array`, what is the output of:\n",
    "    - `np.argmax(bin_array)-np.argmin(bin_array)`?\n",
    "    - `np.argmax(array)-np.argmin(bin_array)`?\n",
    "    - `np.argmin(array)-np.argmin(bin_array)`?"
   ]
  },
  {
   "cell_type": "code",
   "execution_count": null,
   "metadata": {},
   "outputs": [],
   "source": []
  },
  {
   "cell_type": "code",
   "execution_count": null,
   "metadata": {},
   "outputs": [],
   "source": []
  },
  {
   "cell_type": "code",
   "execution_count": null,
   "metadata": {},
   "outputs": [],
   "source": []
  },
  {
   "cell_type": "code",
   "execution_count": null,
   "metadata": {},
   "outputs": [],
   "source": []
  },
  {
   "cell_type": "code",
   "execution_count": null,
   "metadata": {},
   "outputs": [],
   "source": []
  },
  {
   "cell_type": "code",
   "execution_count": null,
   "metadata": {},
   "outputs": [],
   "source": []
  },
  {
   "cell_type": "code",
   "execution_count": null,
   "metadata": {},
   "outputs": [],
   "source": []
  },
  {
   "cell_type": "code",
   "execution_count": null,
   "metadata": {},
   "outputs": [],
   "source": []
  },
  {
   "cell_type": "code",
   "execution_count": null,
   "metadata": {},
   "outputs": [],
   "source": []
  }
 ],
 "metadata": {
  "kernelspec": {
   "display_name": "Python 3",
   "language": "python",
   "name": "python3"
  },
  "language_info": {
   "codemirror_mode": {
    "name": "ipython",
    "version": 3
   },
   "file_extension": ".py",
   "mimetype": "text/x-python",
   "name": "python",
   "nbconvert_exporter": "python",
   "pygments_lexer": "ipython3",
   "version": "3.7.3"
  }
 },
 "nbformat": 4,
 "nbformat_minor": 4
}
