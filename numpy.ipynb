{
 "cells": [
  {
   "cell_type": "code",
   "execution_count": 1,
   "metadata": {},
   "outputs": [],
   "source": [
    "import numpy as np"
   ]
  },
  {
   "cell_type": "markdown",
   "metadata": {},
   "source": [
    "# ndim, shape, size, len, reshape, flat\n",
    "\n",
    "# arange, linspace, logspace\n",
    "\n",
    "# Linear algebra\n",
    "## dot\n",
    "\n",
    "## diagonal\n",
    "\n",
    "## transpose\n",
    "\n",
    "## eye\n",
    "\n",
    "## trace\n",
    "\n",
    "## lower/upper triangle\n",
    "\n",
    "# indexing\n",
    "## arrays of indices\n",
    "## boolean indexing\n",
    "\n",
    "# manipulation of arrays\n",
    "## .sum, .max, .min, .mean, .std, .diff, .cumsum (axis)\n",
    "\n",
    "## replication of arrays (tile)\n",
    "\n",
    "## where, nonzero\n",
    "\n",
    "## argmin, argmax\n",
    "\n",
    "# random\n",
    "## rand, randn, permute\n",
    "\n"
   ]
  },
  {
   "cell_type": "code",
   "execution_count": null,
   "metadata": {},
   "outputs": [],
   "source": []
  }
 ],
 "metadata": {
  "kernelspec": {
   "display_name": "Python 3",
   "language": "python",
   "name": "python3"
  },
  "language_info": {
   "codemirror_mode": {
    "name": "ipython",
    "version": 3
   },
   "file_extension": ".py",
   "mimetype": "text/x-python",
   "name": "python",
   "nbconvert_exporter": "python",
   "pygments_lexer": "ipython3",
   "version": "3.7.3"
  }
 },
 "nbformat": 4,
 "nbformat_minor": 4
}
