{
 "cells": [
  {
   "cell_type": "markdown",
   "metadata": {},
   "source": [
    "# DataFrames\n",
    "\n",
    "## DataFrames manipulation\n",
    "\n",
    "### read from csv\n",
    "\n",
    "### export to csv and other formats\n",
    "\n",
    "### insert\n",
    "\n",
    "### concatenation\n",
    "\n",
    "### drop\n",
    "\n",
    "### indexing\n",
    "\n",
    "#### Series\n",
    "\n",
    "### getting values"
   ]
  }
 ],
 "metadata": {
  "kernelspec": {
   "display_name": "Python 3",
   "language": "python",
   "name": "python3"
  },
  "language_info": {
   "codemirror_mode": {
    "name": "ipython",
    "version": 3
   },
   "file_extension": ".py",
   "mimetype": "text/x-python",
   "name": "python",
   "nbconvert_exporter": "python",
   "pygments_lexer": "ipython3",
   "version": "3.7.6"
  }
 },
 "nbformat": 4,
 "nbformat_minor": 4
}
