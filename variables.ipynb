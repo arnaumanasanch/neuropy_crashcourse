{
 "cells": [
  {
   "cell_type": "markdown",
   "metadata": {},
   "source": [
    "**Python Programming Course**\n",
    "\n",
    "Welcome to the Python programming course of the Cortical Networks Lab, IDIBAPS. \n",
    "\n",
    "Over the course, you will learn many things that will help you in getting familar with programming. We will start from the basics and then expand to more complex topics (not meaning difficult). \n",
    "\n",
    "The main objective of this course is that you understand how basic programming works and how to use existing scripts or create new ones to be able to analyse your own data in an autonomous way. \n",
    "\n",
    "We hope you enjoy it!\n",
    "\n",
    "This course is based on the following book from Allen B. Downey (available oline): www.greenteapress.com/thinkpython2/html/index.html\n",
    "\n",
    "Authors of the course:\n",
    "- Andrea Insabato\n",
    "- Arnau Manasanch\n",
    "\n"
   ]
  },
  {
   "cell_type": "markdown",
   "metadata": {},
   "source": [
    "# 0. Course Syllabus #\n",
    "1. Setting up environment\n",
    "2. Values and types\n",
    "3. Variables, state diagrams, names\n",
    "4. Functions\n",
    "5. Fruitful functions\n",
    "6. Interface design\n",
    "7. Conditionals (and recursion)\n",
    "8. Incremental dev 6.2-6.4 (6.5)\n",
    "9. Iteration\n",
    "10. Strings and lists\n",
    "11. np.arrays* with basic linear algebra\n",
    "12. dicts\n",
    "13. Tuples\n",
    "14. pandas* with basic probability & statistics\n",
    "15. Data structure selection\n",
    "16. Files\n",
    "17. plotting* and basic data visualization\n",
    "18. (Object-oriented programming).\n",
    "19. (goodies)\n",
    "\n",
    "\n",
    "\n",
    "\n",
    "\n",
    "\n"
   ]
  },
  {
   "cell_type": "markdown",
   "metadata": {},
   "source": [
    "# **1. Setting up the environment**\n",
    "At this point, we should have helped you in setting up the environment where we will be working on along the course. \n",
    "We recommend to use Jupyter notebooks, but first of all we need to make sure Python is installed in our computer (which it typically is). To know which version of python you have, run in the command window: ***python --version***. \n",
    "\n",
    "Then, we have to install jupyter notebooks on your computer, in this case we are going to have them through the Anaconda platform:\n",
    "\n",
    "Download Anaconda from: https://www.anaconda.com/distribution/ . This will install an application on your computer. Once it is installed, you only need to navigate to jupyter notebooks and click on it. A window will open and you will be able to create a new notebook by clicking on the **\"New\"** button. \n",
    "\n",
    "In order to do some exercises, we will use some external libraries/modules, some of them are already installed and some of them will have to be installed on your computer. These libraries are:\n",
    "\n",
    "- numpy\n",
    "- pandas\n",
    "- matplotlib\n",
    "- scipy\n",
    "\n",
    "In order to know which modules are already installed in our computer, we can open the anaconda prompt terminal (just open it in applications) and type the command:\n",
    "\n",
    "- conda list. \n",
    "\n",
    "If some of the modules listed above are not in this list, you can install them by using:\n",
    "\n",
    "- conda install module\n",
    "\n",
    "**How does a Jupyter notebook work?**\n",
    "\n",
    "A notebook is a document that can contain code, text and other rich elements such as figures, equations, etc. They are ideal because you can have all the analysis in it (with comments, explanations, code, real-time results, graphic visualizations, ...). \n",
    "\n",
    "\n",
    "So, once this has been all set-up, shall we start? "
   ]
  },
  {
   "cell_type": "markdown",
   "metadata": {},
   "source": [
    "# **2. Values and types**\n",
    "In Python , as in many other programming languages, there exist different types of values that have different purposes depending on what needs to be done. Ususally, we do not use them separately but as a combination of them. \n",
    "\n",
    "A **value** is one of the basic thing a program works with, like a letter or a number. When a value is created, it has an own **TYPE**, these types can be:\n",
    "- 2 (integer)\n",
    "- 2.56 (floating point)\n",
    "- 'Hello' (string)\n",
    "\n",
    "An **integer number** is a value which is not a fraction, no commas, just a whole number. <br/>\n",
    "A **floating point number** in the most general way is a value which contains decimals. <br/>\n",
    "A **string** in Python is always represented in quotation marks, theycan be both letters or numbers. \n",
    "\n",
    "**So, how can we know the type that a value has?**\n",
    "We just have to write the following command and we will obtain the ***class*** in the sense of category of the value: \n",
    "- type(value)\n",
    "\n",
    "Below there are some examples:"
   ]
  },
  {
   "cell_type": "code",
   "execution_count": 18,
   "metadata": {},
   "outputs": [
    {
     "name": "stdout",
     "output_type": "stream",
     "text": [
      "<class 'float'>\n",
      "<class 'str'>\n"
     ]
    },
    {
     "data": {
      "text/plain": [
       "int"
      ]
     },
     "execution_count": 18,
     "metadata": {},
     "output_type": "execute_result"
    }
   ],
   "source": [
    "print(type(5.00))\n",
    "print(type('Barcelona'))\n",
    "type(5)\n"
   ]
  },
  {
   "cell_type": "markdown",
   "metadata": {},
   "source": [
    "# **3. Variables, state diagrams and names**\n",
    "One of the most powerful features of a programming language is the ability to manipulate **variables**. A variable is a name that refers to a value.\n",
    "\n",
    "**Assignment statement** <br/>\n",
    "An assignment statement creates a new variable and gives it a value. In the example below, we declare some variables and inspect which type they have."
   ]
  },
  {
   "cell_type": "code",
   "execution_count": 28,
   "metadata": {},
   "outputs": [
    {
     "name": "stdout",
     "output_type": "stream",
     "text": [
      "<class 'str'>\n",
      "<class 'int'>\n",
      "<class 'float'>\n"
     ]
    }
   ],
   "source": [
    "location = 'Barcelona'\n",
    "N = 5 # number of experimentalists\n",
    "pi = 3.14159\n",
    "\n",
    "print(type(location))\n",
    "print(type(N))\n",
    "print(type(pi))"
   ]
  },
  {
   "cell_type": "code",
   "execution_count": 33,
   "metadata": {},
   "outputs": [
    {
     "name": "stdout",
     "output_type": "stream",
     "text": [
      "5\n",
      "10\n"
     ]
    }
   ],
   "source": [
    "n = 5\n",
    "N=10\n",
    "print(n)\n",
    "print(  N  )"
   ]
  },
  {
   "cell_type": "code",
   "execution_count": 34,
   "metadata": {},
   "outputs": [
    {
     "ename": "SyntaxError",
     "evalue": "invalid syntax (<ipython-input-34-77a5af493d2c>, line 1)",
     "output_type": "error",
     "traceback": [
      "\u001b[1;36m  File \u001b[1;32m\"<ipython-input-34-77a5af493d2c>\"\u001b[1;36m, line \u001b[1;32m1\u001b[0m\n\u001b[1;33m    5people = 5\u001b[0m\n\u001b[1;37m          ^\u001b[0m\n\u001b[1;31mSyntaxError\u001b[0m\u001b[1;31m:\u001b[0m invalid syntax\n"
     ]
    }
   ],
   "source": []
  },
  {
   "cell_type": "markdown",
   "metadata": {},
   "source": [
    "Usually, the common way to represent variables on paper is by the use of **State Diagrams**, where we write the name of the variable and an arrow pointing to its value. <br />\n",
    "**location --> 'Barcelona'**<br />\n",
    "**N        --> 5**<br />\n",
    "**pi       --> 3.14159**<br />"
   ]
  },
  {
   "cell_type": "markdown",
   "metadata": {},
   "source": [
    "**Variable names**\n",
    "Programmers usually choose names or their variables that are meaningfull, also documenting what the variable is or will be used for. variable names can be as long as you like. They can contain both letters and numbers, but **can't begin with a number**. Also, it is legal to use uppercase letters, but it is conventional to use only lower case for variable names. Python is **case-sensitive**. The underscore character _ can appear in a name. It is often used in names with multiple words, e.g. your_name, raw_signal, spectrogram_10Hz, ... On the other hand, you **can't use a dash**, e.g. raw-signal is not permitted. You **can't use illegal characters** such as @ / ? < > \\ : * | ¿ \"<br />\n",
    "\n",
    "If you give an illegal name to a variable, the program will return you a ***SyntaxError***. Examples below:"
   ]
  },
  {
   "cell_type": "code",
   "execution_count": 35,
   "metadata": {},
   "outputs": [
    {
     "ename": "SyntaxError",
     "evalue": "can't assign to operator (<ipython-input-35-465751cf9a8f>, line 1)",
     "output_type": "error",
     "traceback": [
      "\u001b[1;36m  File \u001b[1;32m\"<ipython-input-35-465751cf9a8f>\"\u001b[1;36m, line \u001b[1;32m1\u001b[0m\n\u001b[1;33m    raw-signal = 3.4\u001b[0m\n\u001b[1;37m                    ^\u001b[0m\n\u001b[1;31mSyntaxError\u001b[0m\u001b[1;31m:\u001b[0m can't assign to operator\n"
     ]
    }
   ],
   "source": [
    "raw-signal = 3.4"
   ]
  },
  {
   "cell_type": "code",
   "execution_count": 36,
   "metadata": {},
   "outputs": [
    {
     "ename": "SyntaxError",
     "evalue": "can't assign to operator (<ipython-input-36-f97dff50ca01>, line 1)",
     "output_type": "error",
     "traceback": [
      "\u001b[1;36m  File \u001b[1;32m\"<ipython-input-36-f97dff50ca01>\"\u001b[1;36m, line \u001b[1;32m1\u001b[0m\n\u001b[1;33m    arn@au = 23\u001b[0m\n\u001b[1;37m               ^\u001b[0m\n\u001b[1;31mSyntaxError\u001b[0m\u001b[1;31m:\u001b[0m can't assign to operator\n"
     ]
    }
   ],
   "source": [
    "arnau = 23"
   ]
  },
  {
   "cell_type": "code",
   "execution_count": 39,
   "metadata": {},
   "outputs": [
    {
     "name": "stdout",
     "output_type": "stream",
     "text": [
      "city\n"
     ]
    }
   ],
   "source": [
    "Barcelona = 'city'\n",
    "print(Barcelona)"
   ]
  },
  {
   "cell_type": "markdown",
   "metadata": {},
   "source": [
    "There exist other variable names, that a priori do not have any syntax error, but **can't be used** to define a variable. These are the **keywords** of Python, the interpreter uses them to recognize the structure of the program. The following words are all the keywords of Python: <br/>\n",
    "   \n",
    "|        |          |        |             |       |        |          |\n",
    "|--------|----------|--------|-------------|-------|--------|----------|\n",
    "| False  | class    | finally| is          | return| assert | else     |\n",
    "|  None  | continue | for    | lambda      | try   | break  | except   |\n",
    "|  True  | def      | from   | nonlocal    | while | import | pass     |\n",
    "|  and   | del      | global | not         | with  |  in    | raise    | \n",
    "|   as   | elif     | if     | or          | yield |        |          |\n",
    "\n",
    "\n",
    "\n"
   ]
  },
  {
   "cell_type": "code",
   "execution_count": 42,
   "metadata": {},
   "outputs": [
    {
     "ename": "SyntaxError",
     "evalue": "invalid syntax (<ipython-input-42-bbd9d5c94be7>, line 1)",
     "output_type": "error",
     "traceback": [
      "\u001b[1;36m  File \u001b[1;32m\"<ipython-input-42-bbd9d5c94be7>\"\u001b[1;36m, line \u001b[1;32m1\u001b[0m\n\u001b[1;33m    class = 'Lab'\u001b[0m\n\u001b[1;37m          ^\u001b[0m\n\u001b[1;31mSyntaxError\u001b[0m\u001b[1;31m:\u001b[0m invalid syntax\n"
     ]
    }
   ],
   "source": [
    "class = 'Lab'"
   ]
  },
  {
   "cell_type": "code",
   "execution_count": 5,
   "metadata": {},
   "outputs": [
    {
     "ename": "SyntaxError",
     "evalue": "invalid syntax (<ipython-input-5-d9dbd8a5937f>, line 1)",
     "output_type": "error",
     "traceback": [
      "\u001b[1;36m  File \u001b[1;32m\"<ipython-input-5-d9dbd8a5937f>\"\u001b[1;36m, line \u001b[1;32m1\u001b[0m\n\u001b[1;33m    from = 'Barcelona'\u001b[0m\n\u001b[1;37m         ^\u001b[0m\n\u001b[1;31mSyntaxError\u001b[0m\u001b[1;31m:\u001b[0m invalid syntax\n"
     ]
    }
   ],
   "source": [
    "from = 'Barcelona'"
   ]
  },
  {
   "cell_type": "markdown",
   "metadata": {},
   "source": [
    "\n",
    "There is no need in memorizing this, usually, these keywords come in a different color when you write them on a program. \n",
    "\n",
    "**Expressions and statements**\n",
    "An **expression** is a combination of values, variables and operators. A value by itself is considered an expression, and so is a variable."
   ]
  },
  {
   "cell_type": "code",
   "execution_count": 43,
   "metadata": {},
   "outputs": [
    {
     "data": {
      "text/plain": [
       "42"
      ]
     },
     "execution_count": 43,
     "metadata": {},
     "output_type": "execute_result"
    }
   ],
   "source": [
    "42 #This is an expression"
   ]
  },
  {
   "cell_type": "markdown",
   "metadata": {},
   "source": [
    "An **statement** is a unit of code that has an effect, like creating a variable or displaying a value. "
   ]
  },
  {
   "cell_type": "code",
   "execution_count": 44,
   "metadata": {},
   "outputs": [
    {
     "name": "stdout",
     "output_type": "stream",
     "text": [
      "17\n",
      "<class 'int'>\n"
     ]
    }
   ],
   "source": [
    "#These are statements\n",
    "n = 17 \n",
    "print(n)\n",
    "print(type(n))"
   ]
  },
  {
   "cell_type": "markdown",
   "metadata": {},
   "source": [
    "# **Exercises** \n",
    "The following exercises give an idea of what we have learnt in the previous topics. \n",
    "\n",
    "**Exercise 1**\n",
    "- In a print statement, what happens if you leave out one of the parentheses, or both?"
   ]
  },
  {
   "cell_type": "code",
   "execution_count": 49,
   "metadata": {},
   "outputs": [
    {
     "name": "stdout",
     "output_type": "stream",
     "text": [
      "17\n"
     ]
    }
   ],
   "source": [
    "n = 5\n",
    "print(n)"
   ]
  },
  {
   "cell_type": "markdown",
   "metadata": {},
   "source": [
    "- If you are trying to print a string, what happens if you leave out one of the quotation marks, or both?"
   ]
  },
  {
   "cell_type": "code",
   "execution_count": 55,
   "metadata": {},
   "outputs": [
    {
     "name": "stdout",
     "output_type": "stream",
     "text": [
      "city\n"
     ]
    }
   ],
   "source": [
    "Reus = 'city'\n",
    "print(Reus)"
   ]
  },
  {
   "cell_type": "markdown",
   "metadata": {},
   "source": [
    "- You can use a minus sign to make a negative number like -2. What happens if you put a plus sign before a number? What about 2++2?"
   ]
  },
  {
   "cell_type": "code",
   "execution_count": 62,
   "metadata": {},
   "outputs": [
    {
     "name": "stdout",
     "output_type": "stream",
     "text": [
      "-10\n"
     ]
    }
   ],
   "source": [
    "number = 2*(-5)\n",
    "print(number)"
   ]
  },
  {
   "cell_type": "markdown",
   "metadata": {},
   "source": [
    "- In math notation, leading zeros are ok, as in 09. What happens if you try this in Python? What about 011?\n",
    "What happens if you have two values with no operator between them?"
   ]
  },
  {
   "cell_type": "code",
   "execution_count": 65,
   "metadata": {},
   "outputs": [
    {
     "ename": "SyntaxError",
     "evalue": "invalid syntax (<ipython-input-65-a16d82357bb3>, line 1)",
     "output_type": "error",
     "traceback": [
      "\u001b[1;36m  File \u001b[1;32m\"<ipython-input-65-a16d82357bb3>\"\u001b[1;36m, line \u001b[1;32m1\u001b[0m\n\u001b[1;33m    print(1 1)\u001b[0m\n\u001b[1;37m            ^\u001b[0m\n\u001b[1;31mSyntaxError\u001b[0m\u001b[1;31m:\u001b[0m invalid syntax\n"
     ]
    }
   ],
   "source": [
    "print(011)"
   ]
  },
  {
   "cell_type": "markdown",
   "metadata": {},
   "source": [
    "**Exercise 2**. Use the Python interpreter as a calculator. \n",
    "- How many seconds are there in 42 minutes 42 seconds?\n",
    "\n",
    "\n",
    "\n",
    "\n"
   ]
  },
  {
   "cell_type": "code",
   "execution_count": 81,
   "metadata": {},
   "outputs": [
    {
     "name": "stdout",
     "output_type": "stream",
     "text": [
      "4392\n"
     ]
    }
   ],
   "source": [
    "number1 = 42*60+42\n",
    "number2 = 30*60+30\n",
    "number3 = number1+number2\n",
    "print(number3)"
   ]
  },
  {
   "cell_type": "markdown",
   "metadata": {},
   "source": [
    "- How many miles are there in 10 kilometers? Hint: there are 1.61 kilometers in a mile.\n"
   ]
  },
  {
   "cell_type": "code",
   "execution_count": 87,
   "metadata": {},
   "outputs": [
    {
     "name": "stdout",
     "output_type": "stream",
     "text": [
      "6.211180124223602\n"
     ]
    }
   ],
   "source": [
    "number = 10/1.61\n",
    "print(number)"
   ]
  },
  {
   "cell_type": "markdown",
   "metadata": {},
   "source": [
    "- If you run a 10 kilometer race in 42 minutes 42 seconds, what is your average pace (time per mile in minutes and seconds)? What is your average speed in miles per hour?\n"
   ]
  },
  {
   "cell_type": "code",
   "execution_count": 92,
   "metadata": {},
   "outputs": [
    {
     "name": "stdout",
     "output_type": "stream",
     "text": [
      "256.2\n",
      "4.27\n"
     ]
    }
   ],
   "source": [
    "n_km = 10\n",
    "n_seconds = 42*60 + 42\n",
    "avgpace_seconds = n_seconds/n_km\n",
    "print(avgpace_seconds)\n",
    "print(avgpace_seconds/60)\n"
   ]
  },
  {
   "cell_type": "markdown",
   "metadata": {},
   "source": [
    "**Exercise 3**\n",
    "We’ve seen that n = 42 is legal. What about 42 = n?\n",
    "\n"
   ]
  },
  {
   "cell_type": "code",
   "execution_count": 95,
   "metadata": {},
   "outputs": [
    {
     "ename": "SyntaxError",
     "evalue": "can't assign to literal (<ipython-input-95-2979eaa86850>, line 1)",
     "output_type": "error",
     "traceback": [
      "\u001b[1;36m  File \u001b[1;32m\"<ipython-input-95-2979eaa86850>\"\u001b[1;36m, line \u001b[1;32m1\u001b[0m\n\u001b[1;33m    42 = n\u001b[0m\n\u001b[1;37m          ^\u001b[0m\n\u001b[1;31mSyntaxError\u001b[0m\u001b[1;31m:\u001b[0m can't assign to literal\n"
     ]
    }
   ],
   "source": [
    "n = 42\n",
    "print(n)"
   ]
  },
  {
   "cell_type": "markdown",
   "metadata": {},
   "source": [
    "- How about x = y = 1?"
   ]
  },
  {
   "cell_type": "code",
   "execution_count": 98,
   "metadata": {},
   "outputs": [
    {
     "name": "stdout",
     "output_type": "stream",
     "text": [
      "10\n",
      "10\n"
     ]
    }
   ],
   "source": [
    "x = y = 10\n",
    "print(x)\n",
    "print(y)"
   ]
  },
  {
   "cell_type": "code",
   "execution_count": 99,
   "metadata": {},
   "outputs": [
    {
     "name": "stdout",
     "output_type": "stream",
     "text": [
      "10\n",
      "10\n"
     ]
    }
   ],
   "source": [
    "x = 10\n",
    "y = 10\n",
    "print(x)\n",
    "print(y)"
   ]
  },
  {
   "cell_type": "markdown",
   "metadata": {},
   "source": [
    "- In some languages every statement ends with a semi-colon, ;. What happens if you put a semi-colon at the end of a Python statement?"
   ]
  },
  {
   "cell_type": "code",
   "execution_count": 112,
   "metadata": {},
   "outputs": [
    {
     "name": "stdout",
     "output_type": "stream",
     "text": [
      "5 3 4\n"
     ]
    }
   ],
   "source": [
    "a = 3; b = 4; c = 5\n",
    "print(c,a,b)\n"
   ]
  },
  {
   "cell_type": "markdown",
   "metadata": {},
   "source": [
    "- What if you put a dot at the end of a statement?\n"
   ]
  },
  {
   "cell_type": "code",
   "execution_count": 116,
   "metadata": {},
   "outputs": [
    {
     "ename": "SyntaxError",
     "evalue": "invalid syntax (<ipython-input-116-186b76c9057e>, line 1)",
     "output_type": "error",
     "traceback": [
      "\u001b[1;36m  File \u001b[1;32m\"<ipython-input-116-186b76c9057e>\"\u001b[1;36m, line \u001b[1;32m1\u001b[0m\n\u001b[1;33m    number = 5..\u001b[0m\n\u001b[1;37m                ^\u001b[0m\n\u001b[1;31mSyntaxError\u001b[0m\u001b[1;31m:\u001b[0m invalid syntax\n"
     ]
    }
   ],
   "source": [
    "number = 5..\n",
    "print(type(number))"
   ]
  },
  {
   "cell_type": "markdown",
   "metadata": {},
   "source": [
    "- In math notation you can multiply x and y like this: x y. What happens if you try that in Python?"
   ]
  },
  {
   "cell_type": "code",
   "execution_count": 121,
   "metadata": {},
   "outputs": [
    {
     "name": "stdout",
     "output_type": "stream",
     "text": [
      "6\n"
     ]
    }
   ],
   "source": [
    "x = 3; y = 4\n",
    "print(2*x)"
   ]
  },
  {
   "cell_type": "markdown",
   "metadata": {},
   "source": [
    "**Exercise 4**\n",
    "The volume of a sphere with radius r is 4/3 π r3. What is the volume of a sphere with radius 5?\n"
   ]
  },
  {
   "cell_type": "code",
   "execution_count": null,
   "metadata": {},
   "outputs": [],
   "source": []
  },
  {
   "cell_type": "markdown",
   "metadata": {},
   "source": [
    "Suppose the cover price of a book is 24.95 dollars, but bookstores get a 40 percent discount. Shipping costs $3 for the first copy and 75 cents for each additional copy. What is the total wholesale cost for 60 copies?\n"
   ]
  },
  {
   "cell_type": "code",
   "execution_count": null,
   "metadata": {},
   "outputs": [],
   "source": []
  },
  {
   "cell_type": "markdown",
   "metadata": {},
   "source": [
    "If I leave my house at 6:52 am and run 1 mile at an easy pace (8:15 per mile), then 3 miles at tempo (7:12 per mile) and 1 mile at easy pace again, what time do I get home for breakfast?"
   ]
  },
  {
   "cell_type": "code",
   "execution_count": null,
   "metadata": {},
   "outputs": [],
   "source": []
  },
  {
   "cell_type": "code",
   "execution_count": 19,
   "metadata": {},
   "outputs": [],
   "source": [
    "n = 17"
   ]
  },
  {
   "cell_type": "code",
   "execution_count": null,
   "metadata": {},
   "outputs": [],
   "source": [
    "b = 12"
   ]
  },
  {
   "cell_type": "code",
   "execution_count": 20,
   "metadata": {},
   "outputs": [],
   "source": [
    "a = 19"
   ]
  },
  {
   "cell_type": "code",
   "execution_count": null,
   "metadata": {},
   "outputs": [],
   "source": []
  },
  {
   "cell_type": "code",
   "execution_count": null,
   "metadata": {},
   "outputs": [],
   "source": []
  },
  {
   "cell_type": "code",
   "execution_count": null,
   "metadata": {},
   "outputs": [],
   "source": []
  },
  {
   "cell_type": "code",
   "execution_count": null,
   "metadata": {},
   "outputs": [],
   "source": []
  },
  {
   "cell_type": "code",
   "execution_count": 82,
   "metadata": {},
   "outputs": [
    {
     "data": {
      "text/plain": [
       "4392"
      ]
     },
     "execution_count": 82,
     "metadata": {},
     "output_type": "execute_result"
    }
   ],
   "source": [
    "number3"
   ]
  },
  {
   "cell_type": "code",
   "execution_count": null,
   "metadata": {},
   "outputs": [],
   "source": []
  },
  {
   "cell_type": "code",
   "execution_count": null,
   "metadata": {},
   "outputs": [],
   "source": []
  }
 ],
 "metadata": {
  "kernelspec": {
   "display_name": "Python 3",
   "language": "python",
   "name": "python3"
  },
  "language_info": {
   "codemirror_mode": {
    "name": "ipython",
    "version": 3
   },
   "file_extension": ".py",
   "mimetype": "text/x-python",
   "name": "python",
   "nbconvert_exporter": "python",
   "pygments_lexer": "ipython3",
   "version": "3.7.6"
  }
 },
 "nbformat": 4,
 "nbformat_minor": 4
}
