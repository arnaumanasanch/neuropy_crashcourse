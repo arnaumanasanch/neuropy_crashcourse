{
 "cells": [
  {
   "cell_type": "markdown",
   "metadata": {},
   "source": [
    "# Distributions\n",
    "\n",
    "Let's first import some data."
   ]
  },
  {
   "cell_type": "code",
   "execution_count": 26,
   "metadata": {},
   "outputs": [],
   "source": [
    "import pandas as pd\n",
    "import numpy as np\n",
    "import matplotlib.pyplot as plt\n",
    "\n",
    "data = pd.read_csv('Dataframe_UDs.csv', sep=',', skiprows=4)"
   ]
  },
  {
   "cell_type": "code",
   "execution_count": 2,
   "metadata": {},
   "outputs": [
    {
     "data": {
      "text/html": [
       "<div>\n",
       "<style scoped>\n",
       "    .dataframe tbody tr th:only-of-type {\n",
       "        vertical-align: middle;\n",
       "    }\n",
       "\n",
       "    .dataframe tbody tr th {\n",
       "        vertical-align: top;\n",
       "    }\n",
       "\n",
       "    .dataframe thead th {\n",
       "        text-align: right;\n",
       "    }\n",
       "</style>\n",
       "<table border=\"1\" class=\"dataframe\">\n",
       "  <thead>\n",
       "    <tr style=\"text-align: right;\">\n",
       "      <th></th>\n",
       "      <th>Up_dur</th>\n",
       "      <th>Down_dur</th>\n",
       "      <th>id</th>\n",
       "      <th>level</th>\n",
       "    </tr>\n",
       "  </thead>\n",
       "  <tbody>\n",
       "    <tr>\n",
       "      <th>0</th>\n",
       "      <td>0.515100</td>\n",
       "      <td>2.973300</td>\n",
       "      <td>0</td>\n",
       "      <td>deep</td>\n",
       "    </tr>\n",
       "    <tr>\n",
       "      <th>1</th>\n",
       "      <td>0.362100</td>\n",
       "      <td>1.076100</td>\n",
       "      <td>0</td>\n",
       "      <td>deep</td>\n",
       "    </tr>\n",
       "    <tr>\n",
       "      <th>2</th>\n",
       "      <td>0.387600</td>\n",
       "      <td>1.626900</td>\n",
       "      <td>0</td>\n",
       "      <td>deep</td>\n",
       "    </tr>\n",
       "    <tr>\n",
       "      <th>3</th>\n",
       "      <td>0.331500</td>\n",
       "      <td>0.851700</td>\n",
       "      <td>0</td>\n",
       "      <td>deep</td>\n",
       "    </tr>\n",
       "    <tr>\n",
       "      <th>4</th>\n",
       "      <td>0.703800</td>\n",
       "      <td>1.739100</td>\n",
       "      <td>0</td>\n",
       "      <td>deep</td>\n",
       "    </tr>\n",
       "    <tr>\n",
       "      <th>...</th>\n",
       "      <td>...</td>\n",
       "      <td>...</td>\n",
       "      <td>...</td>\n",
       "      <td>...</td>\n",
       "    </tr>\n",
       "    <tr>\n",
       "      <th>1548</th>\n",
       "      <td>0.834854</td>\n",
       "      <td>0.267833</td>\n",
       "      <td>9</td>\n",
       "      <td>sleep</td>\n",
       "    </tr>\n",
       "    <tr>\n",
       "      <th>1549</th>\n",
       "      <td>1.182382</td>\n",
       "      <td>0.248758</td>\n",
       "      <td>9</td>\n",
       "      <td>sleep</td>\n",
       "    </tr>\n",
       "    <tr>\n",
       "      <th>1550</th>\n",
       "      <td>0.787297</td>\n",
       "      <td>0.298405</td>\n",
       "      <td>9</td>\n",
       "      <td>sleep</td>\n",
       "    </tr>\n",
       "    <tr>\n",
       "      <th>1551</th>\n",
       "      <td>0.637833</td>\n",
       "      <td>0.304153</td>\n",
       "      <td>9</td>\n",
       "      <td>sleep</td>\n",
       "    </tr>\n",
       "    <tr>\n",
       "      <th>1552</th>\n",
       "      <td>0.544810</td>\n",
       "      <td>0.384111</td>\n",
       "      <td>9</td>\n",
       "      <td>sleep</td>\n",
       "    </tr>\n",
       "  </tbody>\n",
       "</table>\n",
       "<p>1553 rows × 4 columns</p>\n",
       "</div>"
      ],
      "text/plain": [
       "        Up_dur  Down_dur  id  level\n",
       "0     0.515100  2.973300   0   deep\n",
       "1     0.362100  1.076100   0   deep\n",
       "2     0.387600  1.626900   0   deep\n",
       "3     0.331500  0.851700   0   deep\n",
       "4     0.703800  1.739100   0   deep\n",
       "...        ...       ...  ..    ...\n",
       "1548  0.834854  0.267833   9  sleep\n",
       "1549  1.182382  0.248758   9  sleep\n",
       "1550  0.787297  0.298405   9  sleep\n",
       "1551  0.637833  0.304153   9  sleep\n",
       "1552  0.544810  0.384111   9  sleep\n",
       "\n",
       "[1553 rows x 4 columns]"
      ]
     },
     "execution_count": 2,
     "metadata": {},
     "output_type": "execute_result"
    }
   ],
   "source": [
    "data"
   ]
  },
  {
   "cell_type": "markdown",
   "metadata": {},
   "source": [
    "A simple way to discribe one variable is by listing the values that appear in its elements together with their frequency, the number of times they appear. This representation is called the distribution of the variable.\n",
    "\n",
    "We come to distributions in a moment but first we have to distinguish types of variables.\n",
    "\n",
    "In general there are two type of variables: discrete, those that can only take discrete values (like 1, 2, 3 or \"rat\", \"mouse\", \"ferret\") and continuous, that can take any value between two extremes (which can also be -Inf and +Inf). Also discrete variable can be ordered (like 'bad', 'fair', 'good') or unordered as in the previous example of animals (unless you want to see any evolutionary order in those species).\n",
    "\n",
    "We first deal with discrete variable and then with continuous ones."
   ]
  },
  {
   "cell_type": "markdown",
   "metadata": {},
   "source": [
    "## Discrete"
   ]
  },
  {
   "cell_type": "markdown",
   "metadata": {},
   "source": [
    "You can imagine the distribution of a variable as a simple map from values to frequencies.\n",
    "We can compute the distribution of a variable with `np.histogram` function.\n",
    "\n",
    "In our data set there is a discrete variable: `level`. Let's see what its distribution look like. But first we have to transform the values of the variable in something numpy can handle (numbers). Pandas function `map` comes in handy. This function maps strings to numeric values (or other strings if you wish) using a dictionary as a map."
   ]
  },
  {
   "cell_type": "code",
   "execution_count": 24,
   "metadata": {},
   "outputs": [
    {
     "data": {
      "text/plain": [
       "array([0, 1, 2])"
      ]
     },
     "execution_count": 24,
     "metadata": {},
     "output_type": "execute_result"
    }
   ],
   "source": [
    "level_num = data.level.map({'deep':0, 'light':1, 'sleep':2}).values\n",
    "np.unique(level_num)"
   ]
  },
  {
   "cell_type": "markdown",
   "metadata": {},
   "source": [
    "Now that we got out variable mapped to numbers we can calculate the histogram."
   ]
  },
  {
   "cell_type": "code",
   "execution_count": 25,
   "metadata": {},
   "outputs": [
    {
     "data": {
      "text/plain": [
       "(array([518, 534, 501]), array([0, 1, 2, 3]))"
      ]
     },
     "execution_count": 25,
     "metadata": {},
     "output_type": "execute_result"
    }
   ],
   "source": [
    "np.histogram(level_num, bins=[0, 1, 2, 3])"
   ]
  },
  {
   "cell_type": "markdown",
   "metadata": {},
   "source": [
    "as you can see `np.histogram` returns an array with the frequencies and an array with the values. There is an additional value that doesn't appear in out variable, we'll see why when we come to continuous variables.\n",
    "\n",
    "It's common to visualize histograms as bar graphs. We could do a bar graph out of the output of `np.histogram` but matplotlib as a useful function that integrates histogram calculation and plotting."
   ]
  },
  {
   "cell_type": "code",
   "execution_count": 37,
   "metadata": {},
   "outputs": [
    {
     "data": {
      "text/plain": [
       "(array([518., 534., 501.]), array([0, 1, 2, 3]), <a list of 3 Patch objects>)"
      ]
     },
     "execution_count": 37,
     "metadata": {},
     "output_type": "execute_result"
    },
    {
     "data": {
      "image/png": "[encoded data removed]",
      "text/plain": [
       "<Figure size 432x288 with 1 Axes>"
      ]
     },
     "metadata": {
      "needs_background": "light"
     },
     "output_type": "display_data"
    }
   ],
   "source": [
    "plt.hist(level_num, bins=[0, 1, 2, 3], rwidth=0.9)"
   ]
  },
  {
   "cell_type": "markdown",
   "metadata": {},
   "source": [
    "`rwidth` parameter allows you to put some space between bars (if you set it it 1 there's no space).\n",
    "\n",
    "As you can see there is a problem with labels on the x-axis but the numeric labels are also not so interesting for us. This can be fixed but it's even easier to let pandas take care of everything.\n",
    "\n",
    "The method `value_count` counts the occurrencies of each value in a column of a DataFrame (the frequency), even if values are not numbers (so we don't need to do any mapping). There is also a pandas method `plot` to plot the result. And everything can be written in just one line."
   ]
  },
  {
   "cell_type": "code",
   "execution_count": 45,
   "metadata": {},
   "outputs": [
    {
     "data": {
      "text/plain": [
       "<matplotlib.axes._subplots.AxesSubplot at 0x7f1780f84c10>"
      ]
     },
     "execution_count": 45,
     "metadata": {},
     "output_type": "execute_result"
    },
    {
     "data": {
      "image/png": "[encoded data removed]",
      "text/plain": [
       "<Figure size 432x288 with 1 Axes>"
      ]
     },
     "metadata": {
      "needs_background": "light"
     },
     "output_type": "display_data"
    }
   ],
   "source": [
    "data.level.value_counts().plot(kind='bar')"
   ]
  },
  {
   "cell_type": "markdown",
   "metadata": {},
   "source": [
    "## Continuous\n",
    "\n",
    "## Histograms\n",
    "\n",
    "## KDE\n",
    "\n",
    "## Outliers\n",
    "\n",
    "## Stats\n",
    "\n",
    "### Mean, median, mode\n",
    "\n",
    "### standard deviation\n",
    "\n",
    "### range, quantiles\n",
    "\n",
    "## (t-test)"
   ]
  }
 ],
 "metadata": {
  "kernelspec": {
   "display_name": "Python 3",
   "language": "python",
   "name": "python3"
  },
  "language_info": {
   "codemirror_mode": {
    "name": "ipython",
    "version": 3
   },
   "file_extension": ".py",
   "mimetype": "text/x-python",
   "name": "python",
   "nbconvert_exporter": "python",
   "pygments_lexer": "ipython3",
   "version": "3.7.6"
  }
 },
 "nbformat": 4,
 "nbformat_minor": 4
}
