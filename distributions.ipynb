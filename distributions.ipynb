{
 "cells": [
  {
   "cell_type": "markdown",
   "metadata": {},
   "source": [
    "# Distributions\n",
    "\n",
    "## Discrete\n",
    "\n",
    "## Continuous\n",
    "\n",
    "## Histograms\n",
    "\n",
    "## KDE\n",
    "\n",
    "## Outliers\n",
    "\n",
    "## Stats\n",
    "\n",
    "### Mean, median, mode\n",
    "\n",
    "### standard deviation\n",
    "\n",
    "### range, quantiles\n",
    "\n",
    "## (t-test)"
   ]
  }
 ],
 "metadata": {
  "kernelspec": {
   "display_name": "Python 3",
   "language": "python",
   "name": "python3"
  },
  "language_info": {
   "codemirror_mode": {
    "name": "ipython",
    "version": 3
   },
   "file_extension": ".py",
   "mimetype": "text/x-python",
   "name": "python",
   "nbconvert_exporter": "python",
   "pygments_lexer": "ipython3",
   "version": "3.7.6"
  }
 },
 "nbformat": 4,
 "nbformat_minor": 4
}
