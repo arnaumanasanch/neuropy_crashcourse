{
 "cells": [
  {
   "cell_type": "markdown",
   "metadata": {},
   "source": [
    "# Functions\n",
    "\n",
    "## Function calls\n",
    "\n",
    "`function`: a **sequence of statements** that performs a computation and that goes under a given **name**. \n",
    "\n",
    "When you define a function, you specify the name and the sequence of statements. Later, you can “call” the function by name.\n",
    "\n",
    "You already used a function before..."
   ]
  },
  {
   "cell_type": "code",
   "execution_count": 1,
   "metadata": {},
   "outputs": [
    {
     "data": {
      "text/plain": [
       "int"
      ]
     },
     "execution_count": 1,
     "metadata": {},
     "output_type": "execute_result"
    }
   ],
   "source": [
    "type(42)"
   ]
  },
  {
   "cell_type": "markdown",
   "metadata": {},
   "source": [
    "The name of the function is _type_. The expression in parentheses is called the argument of the function. The result, for this function, is the type of the argument.\n",
    "\n",
    "Python provides functions that convert values from one type to another."
   ]
  },
  {
   "cell_type": "code",
   "execution_count": 5,
   "metadata": {},
   "outputs": [
    {
     "data": {
      "text/plain": [
       "3"
      ]
     },
     "execution_count": 5,
     "metadata": {},
     "output_type": "execute_result"
    }
   ],
   "source": [
    "int(3.6)"
   ]
  },
  {
   "cell_type": "code",
   "execution_count": 6,
   "metadata": {},
   "outputs": [
    {
     "data": {
      "text/plain": [
       "4.0"
      ]
     },
     "execution_count": 6,
     "metadata": {},
     "output_type": "execute_result"
    }
   ],
   "source": [
    "float(4)"
   ]
  },
  {
   "cell_type": "code",
   "execution_count": 7,
   "metadata": {},
   "outputs": [
    {
     "data": {
      "text/plain": [
       "'3.1415'"
      ]
     },
     "execution_count": 7,
     "metadata": {},
     "output_type": "execute_result"
    }
   ],
   "source": [
    "str(3.1415)"
   ]
  },
  {
   "cell_type": "markdown",
   "metadata": {},
   "source": [
    "## Math functions\n",
    "\n",
    "As with most programming languages related functions can be collected together in a file, such a file is called in Python a module. A package is a specific type of module that generally may include submodules. \n",
    "Python has a `math` module that provides most of the familiar mathematical functions. \n",
    "However, we are not going to use this module but a package called `numpy` that offers more advanced numeric computation capability beyond simple math.\n",
    "\n",
    "Before we can use the functions in a module, we have to import it with an import statement:"
   ]
  },
  {
   "cell_type": "code",
   "execution_count": 12,
   "metadata": {},
   "outputs": [],
   "source": [
    "import numpy as np"
   ]
  },
  {
   "cell_type": "markdown",
   "metadata": {},
   "source": [
    "This statement creates a module object named np (if you don't provide the `as` part the name will be just numpy).\n",
    "\n",
    "To access one of the functions of the module, you have to specify the name of the module and the name of the function, separated by a dot (also known as a period). This format is called **dot notation**."
   ]
  },
  {
   "cell_type": "code",
   "execution_count": 10,
   "metadata": {},
   "outputs": [
    {
     "name": "stdout",
     "output_type": "stream",
     "text": [
      "0.7071067811865475\n"
     ]
    }
   ],
   "source": [
    "degrees = 45\n",
    "radians = degrees / 180.0 * np.pi\n",
    "height = np.sin(radians)\n",
    "print(height)"
   ]
  },
  {
   "cell_type": "markdown",
   "metadata": {},
   "source": [
    "As you can see some module not only have functions but also variables defined such as `np.pi` which is the value of $\\pi$."
   ]
  },
  {
   "cell_type": "markdown",
   "metadata": {},
   "source": [
    "## Compositionality\n",
    "\n",
    "So far, we have looked at the elements of a program in isolation without talking about how to combine them.\n",
    "One of the most useful features of programming languages is their ability to take small building blocks and compose them. For example, the argument of a function can be any kind of expression, including arithmetic operators:"
   ]
  },
  {
   "cell_type": "code",
   "execution_count": 11,
   "metadata": {},
   "outputs": [
    {
     "data": {
      "text/plain": [
       "0.7071067811865475"
      ]
     },
     "execution_count": 11,
     "metadata": {},
     "output_type": "execute_result"
    }
   ],
   "source": [
    "x = np.sin(degrees / 360.0 * 2 * np.pi)\n",
    "x"
   ]
  },
  {
   "cell_type": "markdown",
   "metadata": {},
   "source": [
    "And even function calls:"
   ]
  },
  {
   "cell_type": "code",
   "execution_count": 12,
   "metadata": {},
   "outputs": [
    {
     "data": {
      "text/plain": [
       "1.7071067811865475"
      ]
     },
     "execution_count": 12,
     "metadata": {},
     "output_type": "execute_result"
    }
   ],
   "source": [
    "x = np.exp(np.log(x+1))\n",
    "x"
   ]
  },
  {
   "cell_type": "markdown",
   "metadata": {},
   "source": [
    "Almost anywhere you can put a value, you can put an arbitrary expression, with one exception: the left side of an assignment statement has to be a variable name. Any other expression on the left side is a syntax error."
   ]
  },
  {
   "cell_type": "code",
   "execution_count": 13,
   "metadata": {},
   "outputs": [
    {
     "ename": "SyntaxError",
     "evalue": "can't assign to operator (<ipython-input-13-e40822aac543>, line 2)",
     "output_type": "error",
     "traceback": [
      "\u001b[0;36m  File \u001b[0;32m\"<ipython-input-13-e40822aac543>\"\u001b[0;36m, line \u001b[0;32m2\u001b[0m\n\u001b[0;31m    hours * 60 = minutes                 # wrong!\u001b[0m\n\u001b[0m                                                 ^\u001b[0m\n\u001b[0;31mSyntaxError\u001b[0m\u001b[0;31m:\u001b[0m can't assign to operator\n"
     ]
    }
   ],
   "source": [
    "minutes = hours * 60                 # right\n",
    "hours * 60 = minutes                 # wrong!"
   ]
  },
  {
   "cell_type": "markdown",
   "metadata": {},
   "source": [
    "## Adding new functions\n",
    "\n",
    "So far, we have only been using the functions that come with modules, but it is also possible to add new functions. A **function definition** specifies the name of a new function and the sequence of statements that run when the function is called.\n",
    "\n",
    "Here is an example:"
   ]
  },
  {
   "cell_type": "code",
   "execution_count": 2,
   "metadata": {},
   "outputs": [],
   "source": [
    "def print_exp():\n",
    "    print(\"In vivo mouse experiment.\")\n",
    "    print(\"Multielectrode array recordings (32 channels).\")"
   ]
  },
  {
   "cell_type": "markdown",
   "metadata": {},
   "source": [
    "`def` is a keyword that indicates that this is a function definition. The name of the function is `print_lyrics`. \n",
    "The rules for function names are the same as for variable names: letters, numbers and underscore are legal, but the first character can’t be a number. You can’t use a keyword as the name of a function, and you should avoid having a variable and a function with the same name.\n",
    "\n",
    "The empty parentheses after the name indicate that this function doesn’t take any arguments.\n",
    "\n",
    "The first line of the function definition is called the header; the rest is called the body. The header has to end with a colon and the body has to be indented. By convention, indentation is always four spaces. The body can contain any number of statements.\n",
    "\n",
    "The strings in the print statements are enclosed in double quotes. Single quotes and double quotes do the same thing; most people use single quotes except in cases like this where a single quote (which is also an apostrophe) appears in the string.\n",
    "\n",
    "Defining a function creates a **function object**, which has type `function`:"
   ]
  },
  {
   "cell_type": "code",
   "execution_count": 3,
   "metadata": {},
   "outputs": [
    {
     "name": "stdout",
     "output_type": "stream",
     "text": [
      "<function print_exp_name at 0x7f5de073e680>\n"
     ]
    },
    {
     "data": {
      "text/plain": [
       "function"
      ]
     },
     "execution_count": 3,
     "metadata": {},
     "output_type": "execute_result"
    }
   ],
   "source": [
    "print(print_exp)\n",
    "type(print_exp)"
   ]
  },
  {
   "cell_type": "markdown",
   "metadata": {},
   "source": [
    "The syntax for calling the new function is the same as for built-in functions:"
   ]
  },
  {
   "cell_type": "code",
   "execution_count": 4,
   "metadata": {},
   "outputs": [
    {
     "name": "stdout",
     "output_type": "stream",
     "text": [
      "In vivo mouse experiment.\n",
      "Multielectrode array recordings (32 channels).\n"
     ]
    }
   ],
   "source": [
    "print_exp()"
   ]
  },
  {
   "cell_type": "markdown",
   "metadata": {},
   "source": [
    "Once you have defined a function, you can use it inside another function. For example, to repeat the previous refrain, we could write a function called print_twice:"
   ]
  },
  {
   "cell_type": "code",
   "execution_count": 5,
   "metadata": {},
   "outputs": [],
   "source": [
    "def print_twice():\n",
    "    print_exp()\n",
    "    print_exp()"
   ]
  },
  {
   "cell_type": "markdown",
   "metadata": {},
   "source": [
    "And then call print_twice:"
   ]
  },
  {
   "cell_type": "code",
   "execution_count": 6,
   "metadata": {},
   "outputs": [
    {
     "name": "stdout",
     "output_type": "stream",
     "text": [
      "In vivo mouse experiment.\n",
      "Multielectrode array recordings (32 channels).\n",
      "In vivo mouse experiment.\n",
      "Multielectrode array recordings (32 channels).\n"
     ]
    }
   ],
   "source": [
    "print_twice()"
   ]
  },
  {
   "cell_type": "markdown",
   "metadata": {},
   "source": [
    "But that’s not really useful."
   ]
  },
  {
   "cell_type": "markdown",
   "metadata": {},
   "source": [
    "## Definitions and uses\n",
    "\n",
    "We can put together all function definitions and call. Here we are slightly modifying code fragments from previous section and the whole program looks like this:"
   ]
  },
  {
   "cell_type": "code",
   "execution_count": 9,
   "metadata": {},
   "outputs": [
    {
     "name": "stdout",
     "output_type": "stream",
     "text": [
      "------- Cortical Networks Lab -------\n",
      "In vivo mouse experiment.\n",
      "Multielectrode array recordings (32 channels).\n"
     ]
    }
   ],
   "source": [
    "def print_lab():\n",
    "    print(\"------- Cortical Networks Lab -------\")\n",
    "\n",
    "def print_exp():\n",
    "    print(\"In vivo mouse experiment.\")\n",
    "    print(\"Multielectrode array recordings (32 channels).\")\n",
    "\n",
    "def print_header():\n",
    "    print_lab()\n",
    "    print_exp()\n",
    "\n",
    "print_header()"
   ]
  },
  {
   "cell_type": "markdown",
   "metadata": {},
   "source": [
    "This program contains three function definitions: `print_lab`, `print_exp` and `print_header`. Function definitions get executed just like other statements, but the effect is to create function objects. The statements inside the function do not run until the function is called, and the function definition generates no output.\n",
    "\n",
    "As you might expect, you have to create a function before you can run it. In other words, the function definition has to run before the function gets called.\n",
    "\n",
    "As an exercise, move the last line of this program to the top, so the function call appears before the definitions. Run the program and see what error message you get.\n",
    "\n",
    "Now move the function call back to the bottom and move the definition of `print_exp` after the definition of `print_header`. What happens when you run this program?"
   ]
  },
  {
   "cell_type": "markdown",
   "metadata": {},
   "source": [
    "## Flow of execution\n",
    "\n",
    "To ensure that a function is defined before its first use, you have to know the order statements run in, which is called the **flow of execution**.\n",
    "\n",
    "Execution always begins at the first statement of the program. Statements are run one at a time, in order from top to bottom.\n",
    "\n",
    "Function definitions do not alter the flow of execution of the program, but remember that statements inside the function don’t run until the function is called.\n",
    "\n",
    "A function call is like a detour in the flow of execution. Instead of going to the next statement, the flow jumps to the body of the function, runs the statements there, and then comes back to pick up where it left off.\n",
    "\n",
    "That sounds simple enough, until you remember that one function can call another. While in the middle of one function, the program might have to run the statements in another function. Then, while running that new function, the program might have to run yet another function!\n",
    "\n",
    "Fortunately, Python is good at keeping track of where it is, so each time a function completes, the program picks up where it left off in the function that called it. When it gets to the end of the program, it terminates.\n",
    "\n",
    "In summary, when you read a program, you don’t always want to read from top to bottom. Sometimes it makes more sense if you follow the flow of execution."
   ]
  },
  {
   "cell_type": "markdown",
   "metadata": {},
   "source": [
    "## Parameters and arguments\n",
    "\n",
    "Some of the functions we have seen require **arguments**. For example, when you call `np.sin` you pass a number as an argument. Some functions take more than one argument: `np.pow` takes two, the base and the exponent.\n",
    "\n",
    "Inside the function, the arguments are assigned to variables called **parameters**. Here is a definition for a function that takes an argument:"
   ]
  },
  {
   "cell_type": "code",
   "execution_count": 10,
   "metadata": {},
   "outputs": [],
   "source": [
    "def print_subject(bruce):\n",
    "    print(\"Subject name:\", end=' ')\n",
    "    print(bruce)"
   ]
  },
  {
   "cell_type": "markdown",
   "metadata": {},
   "source": [
    "This function assigns the argument to a parameter named `bruce`. When the function is called, it prints the string `\"Subject name: \"` and then the value of the parameter (whatever it is). By default print terminates every string by a new line, here we change this behaviour by defining the character to put at the end of the print.\n",
    "\n",
    "This function works with any value that can be printed."
   ]
  },
  {
   "cell_type": "code",
   "execution_count": 13,
   "metadata": {},
   "outputs": [
    {
     "name": "stdout",
     "output_type": "stream",
     "text": [
      "Subject name: P01\n",
      "Subject name: Spam\n",
      "Subject name: 42\n",
      "Subject name: 3.141592653589793\n"
     ]
    }
   ],
   "source": [
    "print_subject('P01')\n",
    "print_subject('Spam')\n",
    "print_subject(42)\n",
    "print_subject(np.pi)"
   ]
  },
  {
   "cell_type": "markdown",
   "metadata": {},
   "source": [
    "The same rules of composition that apply to built-in functions also apply to programmer-defined functions, so we can use any kind of expression as an argument for `print_subject`:"
   ]
  },
  {
   "cell_type": "code",
   "execution_count": 15,
   "metadata": {},
   "outputs": [
    {
     "name": "stdout",
     "output_type": "stream",
     "text": [
      "Subject name: P01, P03\n",
      "Subject name: P01 P01 P01 \n"
     ]
    }
   ],
   "source": [
    "print_subject('P01, ' + 'P03')\n",
    "print_subject('P01 ' * 3)"
   ]
  },
  {
   "cell_type": "markdown",
   "metadata": {},
   "source": [
    "The argument is evaluated before the function is called.. "
   ]
  },
  {
   "cell_type": "markdown",
   "metadata": {},
   "source": [
    "Be careful with argument name, argument value and parameter. The following is a convoluted example worth thinking about it."
   ]
  },
  {
   "cell_type": "code",
   "execution_count": 14,
   "metadata": {},
   "outputs": [
    {
     "name": "stdout",
     "output_type": "stream",
     "text": [
      "Subject name: bruce\n",
      "Subject name: batman\n"
     ]
    }
   ],
   "source": [
    "bruce = 'batman'\n",
    "print_subject('bruce')\n",
    "print_subject(bruce)"
   ]
  },
  {
   "cell_type": "markdown",
   "metadata": {},
   "source": [
    "The name of the variable we pass as an argument (`bruce`) has nothing to do with the name of the parameter (`bruce`). It doesn’t matter what the value was called back home (in the caller); here in `print_subject`, we call everybody `bruce`."
   ]
  },
  {
   "cell_type": "markdown",
   "metadata": {},
   "source": [
    "## Variables and parameters are local\n",
    "\n",
    "When you create a variable inside a function, it is local, which means that it only exists inside the function. \n",
    "For example:"
   ]
  },
  {
   "cell_type": "code",
   "execution_count": 16,
   "metadata": {},
   "outputs": [],
   "source": [
    "def sum_and_print_twice(num1, num2):\n",
    "    tmp = num1 + num2\n",
    "    print_twice(tmp)"
   ]
  },
  {
   "cell_type": "markdown",
   "metadata": {},
   "source": [
    "This function takes two arguments, sums them, and prints the result twice. Here is an example that uses it:"
   ]
  },
  {
   "cell_type": "code",
   "execution_count": 30,
   "metadata": {},
   "outputs": [
    {
     "name": "stdout",
     "output_type": "stream",
     "text": [
      "7\n",
      "7\n"
     ]
    }
   ],
   "source": [
    "num_one = 4\n",
    "num_two = 3\n",
    "sum_and_print_twice(num_one, num_two)"
   ]
  },
  {
   "cell_type": "markdown",
   "metadata": {},
   "source": [
    "When `sum_and_print_twice` terminates, the variable `tmp` is destroyed. If we try to print it, we get an exception:"
   ]
  },
  {
   "cell_type": "code",
   "execution_count": 31,
   "metadata": {},
   "outputs": [
    {
     "ename": "NameError",
     "evalue": "name 'tmp' is not defined",
     "output_type": "error",
     "traceback": [
      "\u001b[0;31m---------------------------------------------------------------------------\u001b[0m",
      "\u001b[0;31mNameError\u001b[0m                                 Traceback (most recent call last)",
      "\u001b[0;32m<ipython-input-31-2b0a64ccac85>\u001b[0m in \u001b[0;36m<module>\u001b[0;34m\u001b[0m\n\u001b[0;32m----> 1\u001b[0;31m \u001b[0mprint\u001b[0m\u001b[0;34m(\u001b[0m\u001b[0mtmp\u001b[0m\u001b[0;34m)\u001b[0m\u001b[0;34m\u001b[0m\u001b[0;34m\u001b[0m\u001b[0m\n\u001b[0m",
      "\u001b[0;31mNameError\u001b[0m: name 'tmp' is not defined"
     ]
    }
   ],
   "source": [
    "print(tmp)"
   ]
  },
  {
   "cell_type": "markdown",
   "metadata": {},
   "source": [
    "Parameters are also local. For example, outside `print_twice`, there is no such thing as `bruce` (unless you defined something else to be named bruce)."
   ]
  },
  {
   "cell_type": "markdown",
   "metadata": {},
   "source": [
    "## Traceback\n",
    "\n",
    "If an error occurs during a function call, Python prints the name of the function, the name of the function that called it, and the name of the function that called that, all the way back to the topmost caller. In a notebook the topmost caller is `<module>`, in an interactive session it is `__main__`.\n",
    "\n",
    "For example, if you try to access `tmp` from within `print_twice`, you get a `NameError`"
   ]
  },
  {
   "cell_type": "code",
   "execution_count": 17,
   "metadata": {},
   "outputs": [
    {
     "ename": "NameError",
     "evalue": "name 'tmp' is not defined",
     "output_type": "error",
     "traceback": [
      "\u001b[0;31m---------------------------------------------------------------------------\u001b[0m",
      "\u001b[0;31mNameError\u001b[0m                                 Traceback (most recent call last)",
      "\u001b[0;32m<ipython-input-17-435fe4d6eb6f>\u001b[0m in \u001b[0;36m<module>\u001b[0;34m\u001b[0m\n\u001b[1;32m      4\u001b[0m     \u001b[0mprint\u001b[0m\u001b[0;34m(\u001b[0m\u001b[0mbruce\u001b[0m\u001b[0;34m)\u001b[0m\u001b[0;34m\u001b[0m\u001b[0;34m\u001b[0m\u001b[0m\n\u001b[1;32m      5\u001b[0m \u001b[0;34m\u001b[0m\u001b[0m\n\u001b[0;32m----> 6\u001b[0;31m \u001b[0msum_and_print_twice\u001b[0m\u001b[0;34m(\u001b[0m\u001b[0;36m3\u001b[0m\u001b[0;34m,\u001b[0m \u001b[0;36m4\u001b[0m\u001b[0;34m)\u001b[0m\u001b[0;34m\u001b[0m\u001b[0;34m\u001b[0m\u001b[0m\n\u001b[0m",
      "\u001b[0;32m<ipython-input-16-3755ebbcdbe3>\u001b[0m in \u001b[0;36msum_and_print_twice\u001b[0;34m(num1, num2)\u001b[0m\n\u001b[1;32m      1\u001b[0m \u001b[0;32mdef\u001b[0m \u001b[0msum_and_print_twice\u001b[0m\u001b[0;34m(\u001b[0m\u001b[0mnum1\u001b[0m\u001b[0;34m,\u001b[0m \u001b[0mnum2\u001b[0m\u001b[0;34m)\u001b[0m\u001b[0;34m:\u001b[0m\u001b[0;34m\u001b[0m\u001b[0;34m\u001b[0m\u001b[0m\n\u001b[1;32m      2\u001b[0m     \u001b[0mtmp\u001b[0m \u001b[0;34m=\u001b[0m \u001b[0mnum1\u001b[0m \u001b[0;34m+\u001b[0m \u001b[0mnum2\u001b[0m\u001b[0;34m\u001b[0m\u001b[0;34m\u001b[0m\u001b[0m\n\u001b[0;32m----> 3\u001b[0;31m     \u001b[0mprint_twice\u001b[0m\u001b[0;34m(\u001b[0m\u001b[0mtmp\u001b[0m\u001b[0;34m)\u001b[0m\u001b[0;34m\u001b[0m\u001b[0;34m\u001b[0m\u001b[0m\n\u001b[0m",
      "\u001b[0;32m<ipython-input-17-435fe4d6eb6f>\u001b[0m in \u001b[0;36mprint_twice\u001b[0;34m(bruce)\u001b[0m\n\u001b[1;32m      1\u001b[0m \u001b[0;32mdef\u001b[0m \u001b[0mprint_twice\u001b[0m\u001b[0;34m(\u001b[0m\u001b[0mbruce\u001b[0m\u001b[0;34m)\u001b[0m\u001b[0;34m:\u001b[0m\u001b[0;34m\u001b[0m\u001b[0;34m\u001b[0m\u001b[0m\n\u001b[0;32m----> 2\u001b[0;31m     \u001b[0mprint\u001b[0m\u001b[0;34m(\u001b[0m\u001b[0mtmp\u001b[0m\u001b[0;34m)\u001b[0m\u001b[0;34m\u001b[0m\u001b[0;34m\u001b[0m\u001b[0m\n\u001b[0m\u001b[1;32m      3\u001b[0m     \u001b[0mprint\u001b[0m\u001b[0;34m(\u001b[0m\u001b[0mbruce\u001b[0m\u001b[0;34m)\u001b[0m\u001b[0;34m\u001b[0m\u001b[0;34m\u001b[0m\u001b[0m\n\u001b[1;32m      4\u001b[0m     \u001b[0mprint\u001b[0m\u001b[0;34m(\u001b[0m\u001b[0mbruce\u001b[0m\u001b[0;34m)\u001b[0m\u001b[0;34m\u001b[0m\u001b[0;34m\u001b[0m\u001b[0m\n\u001b[1;32m      5\u001b[0m \u001b[0;34m\u001b[0m\u001b[0m\n",
      "\u001b[0;31mNameError\u001b[0m: name 'tmp' is not defined"
     ]
    }
   ],
   "source": [
    "def print_twice(bruce):\n",
    "    print(tmp)\n",
    "    print(bruce)\n",
    "    print(bruce)\n",
    "\n",
    "sum_and_print_twice(3, 4)"
   ]
  },
  {
   "cell_type": "markdown",
   "metadata": {},
   "source": [
    "This list of functions is called a **traceback**. It tells you what program file the error occurred in, and what line, and what functions were executing at the time. It also shows the line of code that caused the error. "
   ]
  },
  {
   "cell_type": "markdown",
   "metadata": {},
   "source": [
    "## Fruitful functions and void functions\n",
    "\n",
    "Some of the functions we have used, such as the math functions, return results; for lack of a better name, I call them fruitful functions. Other functions, like print_twice, perform an action but don’t return a value. They are called void functions.\n",
    "\n",
    "When you call a fruitful function, you almost always want to do something with the result; for example, you might assign it to a variable or use it as part of an expression:"
   ]
  },
  {
   "cell_type": "code",
   "execution_count": 36,
   "metadata": {},
   "outputs": [],
   "source": [
    "x = np.cos(radians)\n",
    "golden = (np.sqrt(5) + 1) / 2"
   ]
  },
  {
   "cell_type": "markdown",
   "metadata": {},
   "source": [
    "When you call a function in interactive mode, Python displays the result:"
   ]
  },
  {
   "cell_type": "code",
   "execution_count": 38,
   "metadata": {},
   "outputs": [
    {
     "data": {
      "text/plain": [
       "2.23606797749979"
      ]
     },
     "execution_count": 38,
     "metadata": {},
     "output_type": "execute_result"
    }
   ],
   "source": [
    "np.sqrt(5)"
   ]
  },
  {
   "cell_type": "markdown",
   "metadata": {},
   "source": [
    "But in a script, if you call a fruitful function all by itself, the return value is lost forever!"
   ]
  },
  {
   "cell_type": "code",
   "execution_count": null,
   "metadata": {},
   "outputs": [],
   "source": [
    "np.sqrt(5)"
   ]
  },
  {
   "cell_type": "markdown",
   "metadata": {},
   "source": [
    "This script computes the square root of 5, but since it doesn’t store or display the result, it is not very useful.\n",
    "\n",
    "Void functions might display something on the screen or have some other effect, but they don’t have a return value. If you assign the result to a variable, you get a special value called None."
   ]
  },
  {
   "cell_type": "code",
   "execution_count": 18,
   "metadata": {},
   "outputs": [
    {
     "name": "stdout",
     "output_type": "stream",
     "text": [
      "Subject name: Braille\n",
      "None\n"
     ]
    }
   ],
   "source": [
    "result = print_subject('Braille')\n",
    "print(result)"
   ]
  },
  {
   "cell_type": "markdown",
   "metadata": {},
   "source": [
    "The value None is not the same as the string 'None'. It is a special value that has its own type:"
   ]
  },
  {
   "cell_type": "code",
   "execution_count": 42,
   "metadata": {},
   "outputs": [
    {
     "data": {
      "text/plain": [
       "NoneType"
      ]
     },
     "execution_count": 42,
     "metadata": {},
     "output_type": "execute_result"
    }
   ],
   "source": [
    "type(None)"
   ]
  },
  {
   "cell_type": "markdown",
   "metadata": {},
   "source": [
    "The functions we have written so far are all void."
   ]
  },
  {
   "cell_type": "markdown",
   "metadata": {},
   "source": [
    "## Why functions?\n",
    "\n",
    "It may not be clear why it is worth the trouble to divide a program into functions. There are several reasons:\n",
    "\n",
    "Creating a new function gives you an opportunity to name a group of statements, which makes your program easier to read and debug.\n",
    "\n",
    "Functions can make a program smaller by eliminating repetitive code. Later, if you make a change, you only have to make it in one place.\n",
    "\n",
    "Dividing a long program into functions allows you to debug the parts one at a time and then assemble them into a working whole.\n",
    "\n",
    "Well-designed functions are often useful for many programs. Once you write and debug one, you can reuse it."
   ]
  },
  {
   "cell_type": "markdown",
   "metadata": {},
   "source": [
    "## Debugging\n",
    "\n",
    "One of the most important skills you will acquire is debugging. Although it can be frustrating, debugging is one of the most intellectually rich, challenging, and interesting parts of programming.\n",
    "\n",
    "In some ways debugging is like detective work. You are confronted with clues and you have to infer the processes and events that led to the results you see.\n",
    "\n",
    "Debugging is also like an experimental science. Once you have an idea about what is going wrong, you modify your program and try again. If your hypothesis was correct, you can predict the result of the modification, and you take a step closer to a working program. If your hypothesis was wrong, you have to come up with a new one. As Sherlock Holmes pointed out, “When you have eliminated the impossible, whatever remains, however improbable, must be the truth.” (A. Conan Doyle, The Sign of Four)\n",
    "\n",
    "For some people, programming and debugging are the same thing. That is, programming is the process of gradually debugging a program until it does what you want. The idea is that you should start with a working program and make small modifications, debugging them as you go."
   ]
  },
  {
   "cell_type": "markdown",
   "metadata": {},
   "source": [
    "## Exercises?"
   ]
  },
  {
   "cell_type": "markdown",
   "metadata": {},
   "source": [
    "##  Return values\n",
    "\n",
    "Calling the function generates a return value, which we usually assign to a variable or use as part of an expression."
   ]
  },
  {
   "cell_type": "code",
   "execution_count": null,
   "metadata": {},
   "outputs": [],
   "source": [
    "e = math.exp(1.0)\n",
    "height = radius * math.sin(radians)"
   ]
  },
  {
   "cell_type": "markdown",
   "metadata": {},
   "source": [
    "The functions we have written so far are void. Speaking casually, they have no return value; more precisely, their return value is `None`.\n",
    "\n",
    "In this chapter, we are (finally) going to write fruitful functions. The first example is area, which returns the area of a circle with the given radius:"
   ]
  },
  {
   "cell_type": "code",
   "execution_count": null,
   "metadata": {},
   "outputs": [],
   "source": [
    "def area(radius):\n",
    "    a = math.pi * radius**2\n",
    "    return a"
   ]
  },
  {
   "cell_type": "markdown",
   "metadata": {},
   "source": [
    "We have seen the return statement before, but in a fruitful function the return statement includes an expression. This statement means: “Return immediately from this function and use the following expression as a return value.” The expression can be arbitrarily complicated, so we could have written this function more concisely:"
   ]
  },
  {
   "cell_type": "code",
   "execution_count": null,
   "metadata": {},
   "outputs": [],
   "source": [
    "def area(radius):\n",
    "    return math.pi * radius**2"
   ]
  },
  {
   "cell_type": "markdown",
   "metadata": {},
   "source": [
    "On the other hand, temporary variables like a can make debugging easier.\n",
    "\n",
    "Sometimes it is useful to have multiple return statements, one in each branch of a conditional:\n",
    "\n",
    "def absolute_value(x):\n",
    "    if x < 0:\n",
    "        return -x\n",
    "    else:\n",
    "        return x\n",
    "\n",
    "Since these return statements are in an alternative conditional, only one runs.\n",
    "\n",
    "As soon as a return statement runs, the function terminates without executing any subsequent statements. Code that appears after a return statement, or any other place the flow of execution can never reach, is called dead code.\n",
    "\n",
    "In a fruitful function, it is a good idea to ensure that every possible path through the program hits a return statement. For example:\n",
    "\n",
    "def absolute_value(x):\n",
    "    if x < 0:\n",
    "        return -x\n",
    "    if x > 0:\n",
    "        return x\n",
    "\n",
    "This function is incorrect because if x happens to be 0, neither condition is true, and the function ends without hitting a return statement. If the flow of execution gets to the end of a function, the return value is None, which is not the absolute value of 0.\n",
    "\n",
    ">>> print(absolute_value(0))\n",
    "None\n",
    "\n",
    "By the way, Python provides a built-in function called abs that computes absolute values.\n",
    "\n",
    "As an exercise, write a compare function that takes two values, x and y, and returns 1 if x > y, 0 if x == y, and -1 if x < y.\n",
    "6.2  Incremental development\n",
    "\n",
    "As you write larger functions, you might find yourself spending more time debugging.\n",
    "\n",
    "To deal with increasingly complex programs, you might want to try a process called incremental development. The goal of incremental development is to avoid long debugging sessions by adding and testing only a small amount of code at a time.\n",
    "\n",
    "As an example, suppose you want to find the distance between two points, given by the coordinates (x1, y1) and (x2, y2). By the Pythagorean theorem, the distance is:\n",
    "distance = \t√\t\n",
    "(x2 − x1)2 + (y2 − y1)2\n",
    "\n",
    "The first step is to consider what a distance function should look like in Python. In other words, what are the inputs (parameters) and what is the output (return value)?\n",
    "\n",
    "In this case, the inputs are two points, which you can represent using four numbers. The return value is the distance represented by a floating-point value.\n",
    "\n",
    "Immediately you can write an outline of the function:\n",
    "\n",
    "def distance(x1, y1, x2, y2):\n",
    "    return 0.0\n",
    "\n",
    "Obviously, this version doesn’t compute distances; it always returns zero. But it is syntactically correct, and it runs, which means that you can test it before you make it more complicated.\n",
    "\n",
    "To test the new function, call it with sample arguments:\n",
    "\n",
    ">>> distance(1, 2, 4, 6)\n",
    "0.0\n",
    "\n",
    "I chose these values so that the horizontal distance is 3 and the vertical distance is 4; that way, the result is 5, the hypotenuse of a 3-4-5 triangle. When testing a function, it is useful to know the right answer.\n",
    "\n",
    "At this point we have confirmed that the function is syntactically correct, and we can start adding code to the body. A reasonable next step is to find the differences x2 − x1 and y2 − y1. The next version stores those values in temporary variables and prints them.\n",
    "\n",
    "def distance(x1, y1, x2, y2):\n",
    "    dx = x2 - x1\n",
    "    dy = y2 - y1\n",
    "    print('dx is', dx)\n",
    "    print('dy is', dy)\n",
    "    return 0.0\n",
    "\n",
    "If the function is working, it should display dx is 3 and dy is 4. If so, we know that the function is getting the right arguments and performing the first computation correctly. If not, there are only a few lines to check.\n",
    "\n",
    "Next we compute the sum of squares of dx and dy:\n",
    "\n",
    "def distance(x1, y1, x2, y2):\n",
    "    dx = x2 - x1\n",
    "    dy = y2 - y1\n",
    "    dsquared = dx**2 + dy**2\n",
    "    print('dsquared is: ', dsquared)\n",
    "    return 0.0\n",
    "\n",
    "Again, you would run the program at this stage and check the output (which should be 25). Finally, you can use math.sqrt to compute and return the result:\n",
    "\n",
    "def distance(x1, y1, x2, y2):\n",
    "    dx = x2 - x1\n",
    "    dy = y2 - y1\n",
    "    dsquared = dx**2 + dy**2\n",
    "    result = math.sqrt(dsquared)\n",
    "    return result\n",
    "\n",
    "If that works correctly, you are done. Otherwise, you might want to print the value of result before the return statement.\n",
    "\n",
    "The final version of the function doesn’t display anything when it runs; it only returns a value. The print statements we wrote are useful for debugging, but once you get the function working, you should remove them. Code like that is called scaffolding because it is helpful for building the program but is not part of the final product.\n",
    "\n",
    "When you start out, you should add only a line or two of code at a time. As you gain more experience, you might find yourself writing and debugging bigger chunks. Either way, incremental development can save you a lot of debugging time.\n",
    "\n",
    "The key aspects of the process are:\n",
    "\n",
    "    Start with a working program and make small incremental changes. At any point, if there is an error, you should have a good idea where it is.\n",
    "    Use variables to hold intermediate values so you can display and check them.\n",
    "    Once the program is working, you might want to remove some of the scaffolding or consolidate multiple statements into compound expressions, but only if it does not make the program difficult to read.\n",
    "\n",
    "As an exercise, use incremental development to write a function called hypotenuse that returns the length of the hypotenuse of a right triangle given the lengths of the other two legs as arguments. Record each stage of the development process as you go.\n",
    "6.3  Composition\n",
    "\n",
    "As you should expect by now, you can call one function from within another. As an example, we’ll write a function that takes two points, the center of the circle and a point on the perimeter, and computes the area of the circle.\n",
    "\n",
    "Assume that the center point is stored in the variables xc and yc, and the perimeter point is in xp and yp. The first step is to find the radius of the circle, which is the distance between the two points. We just wrote a function, distance, that does that:\n",
    "\n",
    "radius = distance(xc, yc, xp, yp)\n",
    "\n",
    "The next step is to find the area of a circle with that radius; we just wrote that, too:\n",
    "\n",
    "result = area(radius)\n",
    "\n",
    "Encapsulating these steps in a function, we get:\n",
    "\n",
    "def circle_area(xc, yc, xp, yp):\n",
    "    radius = distance(xc, yc, xp, yp)\n",
    "    result = area(radius)\n",
    "    return result\n",
    "\n",
    "The temporary variables radius and result are useful for development and debugging, but once the program is working, we can make it more concise by composing the function calls:\n",
    "\n",
    "def circle_area(xc, yc, xp, yp):\n",
    "    return area(distance(xc, yc, xp, yp))\n",
    "\n",
    "6.4  Boolean functions\n",
    "\n",
    "Functions can return booleans, which is often convenient for hiding complicated tests inside functions. For example:\n",
    "\n",
    "def is_divisible(x, y):\n",
    "    if x % y == 0:\n",
    "        return True\n",
    "    else:\n",
    "        return False\n",
    "\n",
    "It is common to give boolean functions names that sound like yes/no questions; is_divisible returns either True or False to indicate whether x is divisible by y.\n",
    "\n",
    "Here is an example:\n",
    "\n",
    ">>> is_divisible(6, 4)\n",
    "False\n",
    ">>> is_divisible(6, 3)\n",
    "True\n",
    "\n",
    "The result of the == operator is a boolean, so we can write the function more concisely by returning it directly:\n",
    "\n",
    "def is_divisible(x, y):\n",
    "    return x % y == 0\n",
    "\n",
    "Boolean functions are often used in conditional statements:\n",
    "\n",
    "if is_divisible(x, y):\n",
    "    print('x is divisible by y')\n",
    "\n",
    "It might be tempting to write something like:\n",
    "\n",
    "if is_divisible(x, y) == True:\n",
    "    print('x is divisible by y')\n",
    "\n",
    "But the extra comparison is unnecessary.\n",
    "\n",
    "As an exercise, write a function is_between(x, y, z) that returns True if x ≤ y ≤ z or False otherwise.\n",
    "6.5  More recursion\n",
    "\n",
    "We have only covered a small subset of Python, but you might be interested to know that this subset is a complete programming language, which means that anything that can be computed can be expressed in this language. Any program ever written could be rewritten using only the language features you have learned so far (actually, you would need a few commands to control devices like the mouse, disks, etc., but that’s all).\n",
    "\n",
    "Proving that claim is a nontrivial exercise first accomplished by Alan Turing, one of the first computer scientists (some would argue that he was a mathematician, but a lot of early computer scientists started as mathematicians). Accordingly, it is known as the Turing Thesis. For a more complete (and accurate) discussion of the Turing Thesis, I recommend Michael Sipser’s book Introduction to the Theory of Computation.\n",
    "\n",
    "To give you an idea of what you can do with the tools you have learned so far, we’ll evaluate a few recursively defined mathematical functions. A recursive definition is similar to a circular definition, in the sense that the definition contains a reference to the thing being defined. A truly circular definition is not very useful:\n",
    "\n",
    "vorpal:\n",
    "    An adjective used to describe something that is vorpal. \n",
    "\n",
    "If you saw that definition in the dictionary, you might be annoyed. On the other hand, if you looked up the definition of the factorial function, denoted with the symbol !, you might get something like this:\n",
    " \t \t0! = 1 \n",
    " \t \tn! = n (n−1)!\n",
    "\n",
    "This definition says that the factorial of 0 is 1, and the factorial of any other value, n, is n multiplied by the factorial of n−1.\n",
    "\n",
    "So 3! is 3 times 2!, which is 2 times 1!, which is 1 times 0!. Putting it all together, 3! equals 3 times 2 times 1 times 1, which is 6.\n",
    "\n",
    "If you can write a recursive definition of something, you can write a Python program to evaluate it. The first step is to decide what the parameters should be. In this case it should be clear that factorial takes an integer:\n",
    "\n",
    "def factorial(n):\n",
    "\n",
    "If the argument happens to be 0, all we have to do is return 1:\n",
    "\n",
    "def factorial(n):\n",
    "    if n == 0:\n",
    "        return 1\n",
    "\n",
    "Otherwise, and this is the interesting part, we have to make a recursive call to find the factorial of n−1 and then multiply it by n:\n",
    "\n",
    "def factorial(n):\n",
    "    if n == 0:\n",
    "        return 1\n",
    "    else:\n",
    "        recurse = factorial(n-1)\n",
    "        result = n * recurse\n",
    "        return result\n",
    "\n",
    "The flow of execution for this program is similar to the flow of countdown in Section 5.8. If we call factorial with the value 3:\n",
    "\n",
    "Since 3 is not 0, we take the second branch and calculate the factorial of n-1...\n",
    "\n",
    "    Since 2 is not 0, we take the second branch and calculate the factorial of n-1...\n",
    "\n",
    "        Since 1 is not 0, we take the second branch and calculate the factorial of n-1...\n",
    "\n",
    "            Since 0 equals 0, we take the first branch and return 1 without making any more recursive calls. \n",
    "\n",
    "        The return value, 1, is multiplied by n, which is 1, and the result is returned. \n",
    "\n",
    "    The return value, 1, is multiplied by n, which is 2, and the result is returned. \n",
    "\n",
    "The return value (2) is multiplied by n, which is 3, and the result, 6, becomes the return value of the function call that started the whole process.\n",
    "\n",
    "Figure 6.1 shows what the stack diagram looks like for this sequence of function calls.\n",
    "\n",
    "    Figure 6.1: Stack diagram.\n",
    "\n",
    "The return values are shown being passed back up the stack. In each frame, the return value is the value of result, which is the product of n and recurse.\n",
    "\n",
    "In the last frame, the local variables recurse and result do not exist, because the branch that creates them does not run.\n",
    "6.6  Leap of faith\n",
    "\n",
    "Following the flow of execution is one way to read programs, but it can quickly become overwhelming. An alternative is what I call the “leap of faith”. When you come to a function call, instead of following the flow of execution, you assume that the function works correctly and returns the right result.\n",
    "\n",
    "In fact, you are already practicing this leap of faith when you use built-in functions. When you call math.cos or math.exp, you don’t examine the bodies of those functions. You just assume that they work because the people who wrote the built-in functions were good programmers.\n",
    "\n",
    "The same is true when you call one of your own functions. For example, in Section 6.4, we wrote a function called is_divisible that determines whether one number is divisible by another. Once we have convinced ourselves that this function is correct—by examining the code and testing—we can use the function without looking at the body again.\n",
    "\n",
    "The same is true of recursive programs. When you get to the recursive call, instead of following the flow of execution, you should assume that the recursive call works (returns the correct result) and then ask yourself, “Assuming that I can find the factorial of n−1, can I compute the factorial of n?” It is clear that you can, by multiplying by n.\n",
    "\n",
    "Of course, it’s a bit strange to assume that the function works correctly when you haven’t finished writing it, but that’s why it’s called a leap of faith!\n",
    "6.7  One more example\n",
    "\n",
    "After factorial, the most common example of a recursively defined mathematical function is fibonacci, which has the following definition (see http://en.wikipedia.org/wiki/Fibonacci_number):\n",
    " \t \tfibonacci(0) = 0 \n",
    " \t \tfibonacci(1) = 1 \n",
    " \t \tfibonacci(n) = fibonacci(n−1) + fibonacci(n−2)\n",
    "\n",
    "Translated into Python, it looks like this:\n",
    "\n",
    "def fibonacci(n):\n",
    "    if n == 0:\n",
    "        return 0\n",
    "    elif  n == 1:\n",
    "        return 1\n",
    "    else:\n",
    "        return fibonacci(n-1) + fibonacci(n-2)\n",
    "\n",
    "If you try to follow the flow of execution here, even for fairly small values of n, your head explodes. But according to the leap of faith, if you assume that the two recursive calls work correctly, then it is clear that you get the right result by adding them together.\n",
    "6.8  Checking types\n",
    "\n",
    "What happens if we call factorial and give it 1.5 as an argument?\n",
    "\n",
    ">>> factorial(1.5)\n",
    "RuntimeError: Maximum recursion depth exceeded\n",
    "\n",
    "It looks like an infinite recursion. How can that be? The function has a base case—when n == 0. But if n is not an integer, we can miss the base case and recurse forever.\n",
    "\n",
    "In the first recursive call, the value of n is 0.5. In the next, it is -0.5. From there, it gets smaller (more negative), but it will never be 0.\n",
    "\n",
    "We have two choices. We can try to generalize the factorial function to work with floating-point numbers, or we can make factorial check the type of its argument. The first option is called the gamma function and it’s a little beyond the scope of this book. So we’ll go for the second.\n",
    "\n",
    "We can use the built-in function isinstance to verify the type of the argument. While we’re at it, we can also make sure the argument is positive:\n",
    "\n",
    "def factorial(n):\n",
    "    if not isinstance(n, int):\n",
    "        print('Factorial is only defined for integers.')\n",
    "        return None\n",
    "    elif n < 0:\n",
    "        print('Factorial is not defined for negative integers.')\n",
    "        return None\n",
    "    elif n == 0:\n",
    "        return 1\n",
    "    else:\n",
    "        return n * factorial(n-1)\n",
    "\n",
    "The first base case handles nonintegers; the second handles negative integers. In both cases, the program prints an error message and returns None to indicate that something went wrong:\n",
    "\n",
    ">>> print(factorial('fred'))\n",
    "Factorial is only defined for integers.\n",
    "None\n",
    ">>> print(factorial(-2))\n",
    "Factorial is not defined for negative integers.\n",
    "None\n",
    "\n",
    "If we get past both checks, we know that n is a non-negative integer, so we can prove that the recursion terminates.\n",
    "\n",
    "This program demonstrates a pattern sometimes called a guardian. The first two conditionals act as guardians, protecting the code that follows from values that might cause an error. The guardians make it possible to prove the correctness of the code.\n",
    "\n",
    "In Section 11.4 we will see a more flexible alternative to printing an error message: raising an exception.\n",
    "6.9  Debugging\n",
    "\n",
    "Breaking a large program into smaller functions creates natural checkpoints for debugging. If a function is not working, there are three possibilities to consider:\n",
    "\n",
    "    There is something wrong with the arguments the function is getting; a precondition is violated.\n",
    "    There is something wrong with the function; a postcondition is violated.\n",
    "    There is something wrong with the return value or the way it is being used.\n",
    "\n",
    "To rule out the first possibility, you can add a print statement at the beginning of the function and display the values of the parameters (and maybe their types). Or you can write code that checks the preconditions explicitly.\n",
    "\n",
    "If the parameters look good, add a print statement before each return statement and display the return value. If possible, check the result by hand. Consider calling the function with values that make it easy to check the result (as in Section 6.2).\n",
    "\n",
    "If the function seems to be working, look at the function call to make sure the return value is being used correctly (or used at all!).\n",
    "\n",
    "Adding print statements at the beginning and end of a function can help make the flow of execution more visible. For example, here is a version of factorial with print statements:\n",
    "\n",
    "def factorial(n):\n",
    "    space = ' ' * (4 * n)\n",
    "    print(space, 'factorial', n)\n",
    "    if n == 0:\n",
    "        print(space, 'returning 1')\n",
    "        return 1\n",
    "    else:\n",
    "        recurse = factorial(n-1)\n",
    "        result = n * recurse\n",
    "        print(space, 'returning', result)\n",
    "        return result\n",
    "\n",
    "space is a string of space characters that controls the indentation of the output. Here is the result of factorial(4) :\n",
    "\n",
    "                 factorial 4\n",
    "             factorial 3\n",
    "         factorial 2\n",
    "     factorial 1\n",
    " factorial 0\n",
    " returning 1\n",
    "     returning 1\n",
    "         returning 2\n",
    "             returning 6\n",
    "                 returning 24\n",
    "\n",
    "If you are confused about the flow of execution, this kind of output can be helpful. It takes some time to develop effective scaffolding, but a little bit of scaffolding can save a lot of debugging."
   ]
  }
 ],
 "metadata": {
  "kernelspec": {
   "display_name": "Python 3",
   "language": "python",
   "name": "python3"
  },
  "language_info": {
   "codemirror_mode": {
    "name": "ipython",
    "version": 3
   },
   "file_extension": ".py",
   "mimetype": "text/x-python",
   "name": "python",
   "nbconvert_exporter": "python",
   "pygments_lexer": "ipython3",
   "version": "3.7.6"
  }
 },
 "nbformat": 4,
 "nbformat_minor": 4
}
