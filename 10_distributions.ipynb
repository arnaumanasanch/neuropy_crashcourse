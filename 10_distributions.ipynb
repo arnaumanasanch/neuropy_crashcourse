{
 "cells": [
  {
   "cell_type": "markdown",
   "metadata": {},
   "source": [
    "# Distributions\n",
    "\n",
    "In this section we are going to see how to describe variables in statistical terms using pandas and numpy.\n",
    "\n",
    "Let's first import the data we used in the pandas.ipynb notebook together with some libraries."
   ]
  },
  {
   "cell_type": "code",
   "execution_count": null,
   "metadata": {},
   "outputs": [],
   "source": [
    "import pandas as pd\n",
    "import numpy as np\n",
    "import matplotlib.pyplot as plt\n",
    "\n",
    "data = pd.read_csv('Dataframe_UDs.csv', sep=',', skiprows=4)"
   ]
  },
  {
   "cell_type": "code",
   "execution_count": 35,
   "metadata": {},
   "outputs": [
    {
     "data": {
      "text/html": [
       "<div>\n",
       "<style scoped>\n",
       "    .dataframe tbody tr th:only-of-type {\n",
       "        vertical-align: middle;\n",
       "    }\n",
       "\n",
       "    .dataframe tbody tr th {\n",
       "        vertical-align: top;\n",
       "    }\n",
       "\n",
       "    .dataframe thead th {\n",
       "        text-align: right;\n",
       "    }\n",
       "</style>\n",
       "<table border=\"1\" class=\"dataframe\">\n",
       "  <thead>\n",
       "    <tr style=\"text-align: right;\">\n",
       "      <th></th>\n",
       "      <th>Up_dur</th>\n",
       "      <th>Down_dur</th>\n",
       "      <th>id</th>\n",
       "      <th>level</th>\n",
       "    </tr>\n",
       "  </thead>\n",
       "  <tbody>\n",
       "    <tr>\n",
       "      <th>0</th>\n",
       "      <td>0.515100</td>\n",
       "      <td>2.973300</td>\n",
       "      <td>0</td>\n",
       "      <td>deep</td>\n",
       "    </tr>\n",
       "    <tr>\n",
       "      <th>1</th>\n",
       "      <td>0.362100</td>\n",
       "      <td>1.076100</td>\n",
       "      <td>0</td>\n",
       "      <td>deep</td>\n",
       "    </tr>\n",
       "    <tr>\n",
       "      <th>2</th>\n",
       "      <td>0.387600</td>\n",
       "      <td>1.626900</td>\n",
       "      <td>0</td>\n",
       "      <td>deep</td>\n",
       "    </tr>\n",
       "    <tr>\n",
       "      <th>3</th>\n",
       "      <td>0.331500</td>\n",
       "      <td>0.851700</td>\n",
       "      <td>0</td>\n",
       "      <td>deep</td>\n",
       "    </tr>\n",
       "    <tr>\n",
       "      <th>4</th>\n",
       "      <td>0.703800</td>\n",
       "      <td>1.739100</td>\n",
       "      <td>0</td>\n",
       "      <td>deep</td>\n",
       "    </tr>\n",
       "    <tr>\n",
       "      <th>...</th>\n",
       "      <td>...</td>\n",
       "      <td>...</td>\n",
       "      <td>...</td>\n",
       "      <td>...</td>\n",
       "    </tr>\n",
       "    <tr>\n",
       "      <th>1548</th>\n",
       "      <td>0.834854</td>\n",
       "      <td>0.267833</td>\n",
       "      <td>9</td>\n",
       "      <td>sleep</td>\n",
       "    </tr>\n",
       "    <tr>\n",
       "      <th>1549</th>\n",
       "      <td>1.182382</td>\n",
       "      <td>0.248758</td>\n",
       "      <td>9</td>\n",
       "      <td>sleep</td>\n",
       "    </tr>\n",
       "    <tr>\n",
       "      <th>1550</th>\n",
       "      <td>0.787297</td>\n",
       "      <td>0.298405</td>\n",
       "      <td>9</td>\n",
       "      <td>sleep</td>\n",
       "    </tr>\n",
       "    <tr>\n",
       "      <th>1551</th>\n",
       "      <td>0.637833</td>\n",
       "      <td>0.304153</td>\n",
       "      <td>9</td>\n",
       "      <td>sleep</td>\n",
       "    </tr>\n",
       "    <tr>\n",
       "      <th>1552</th>\n",
       "      <td>0.544810</td>\n",
       "      <td>0.384111</td>\n",
       "      <td>9</td>\n",
       "      <td>sleep</td>\n",
       "    </tr>\n",
       "  </tbody>\n",
       "</table>\n",
       "<p>1553 rows × 4 columns</p>\n",
       "</div>"
      ],
      "text/plain": [
       "        Up_dur  Down_dur  id  level\n",
       "0     0.515100  2.973300   0   deep\n",
       "1     0.362100  1.076100   0   deep\n",
       "2     0.387600  1.626900   0   deep\n",
       "3     0.331500  0.851700   0   deep\n",
       "4     0.703800  1.739100   0   deep\n",
       "...        ...       ...  ..    ...\n",
       "1548  0.834854  0.267833   9  sleep\n",
       "1549  1.182382  0.248758   9  sleep\n",
       "1550  0.787297  0.298405   9  sleep\n",
       "1551  0.637833  0.304153   9  sleep\n",
       "1552  0.544810  0.384111   9  sleep\n",
       "\n",
       "[1553 rows x 4 columns]"
      ]
     },
     "execution_count": 35,
     "metadata": {},
     "output_type": "execute_result"
    }
   ],
   "source": [
    "data"
   ]
  },
  {
   "cell_type": "markdown",
   "metadata": {},
   "source": [
    "A simple way to discribe one variable is by listing the values that appear in its elements together with their frequency, i.e. the number of times they appear. This representation is called the distribution of the variable.\n",
    "\n",
    "We come to distributions in a moment but first we have to distinguish types of variables.\n",
    "\n",
    "In general there are two type of variables: categorical, those that can only take discrete values (like 1, 2, 3 or \"rat\", \"mouse\", \"ferret\") and continuous, that can take any value between two extremes (which can also be -Inf and +Inf). Also categorical variables can be ordered (like 'bad', 'fair', 'good') or unordered as in the previous example of animals (unless you want to see any evolutionary order in those species). Categorical variables are also sometimes called factor variables, for example in the context of ANOVA.\n",
    "\n",
    "We first deal with discrete variable and then with continuous ones."
   ]
  },
  {
   "cell_type": "markdown",
   "metadata": {},
   "source": [
    "## Discrete"
   ]
  },
  {
   "cell_type": "markdown",
   "metadata": {},
   "source": [
    "You can imagine the distribution of a variable as a simple map from values to frequencies.\n",
    "\n",
    "As you might remember we wrote some code to calculate a histogram in the [dictionaries section](dictionaries.ipynb)."
   ]
  },
  {
   "cell_type": "code",
   "execution_count": null,
   "metadata": {},
   "outputs": [],
   "source": [
    "def histogram(s):\n",
    "    d = dict()\n",
    "    for c in s:\n",
    "        d[c] = d.get(c, 0) + 1\n",
    "    return d"
   ]
  },
  {
   "cell_type": "markdown",
   "metadata": {},
   "source": [
    "Let's use it to calculate the histogram of our variable."
   ]
  },
  {
   "cell_type": "code",
   "execution_count": 34,
   "metadata": {},
   "outputs": [
    {
     "data": {
      "text/plain": [
       "{'deep': 518, 'light': 534, 'sleep': 501}"
      ]
     },
     "execution_count": 34,
     "metadata": {},
     "output_type": "execute_result"
    }
   ],
   "source": [
    "histogram(data.level)"
   ]
  },
  {
   "cell_type": "markdown",
   "metadata": {},
   "source": [
    "We can compute the distribution of a variable with `np.histogram` function.\n",
    "\n",
    "In our data set there is a discrete variable: `level`. Let's see what its distribution look like. But first we have to transform the values of the variable in something numpy can handle (numbers). Pandas method `map` comes in handy."
   ]
  },
  {
   "cell_type": "code",
   "execution_count": 36,
   "metadata": {},
   "outputs": [
    {
     "data": {
      "text/plain": [
       "array([0, 1, 2])"
      ]
     },
     "execution_count": 36,
     "metadata": {},
     "output_type": "execute_result"
    }
   ],
   "source": [
    "level_num = data.level.map({'deep':1, 'light':0, 'sleep':2}).values\n",
    "np.unique(level_num)"
   ]
  },
  {
   "cell_type": "markdown",
   "metadata": {},
   "source": [
    "Now that we got our variable mapped to numbers we can calculate the **histogram**."
   ]
  },
  {
   "cell_type": "code",
   "execution_count": 37,
   "metadata": {},
   "outputs": [
    {
     "data": {
      "text/plain": [
       "(array([534, 518, 501]), array([0, 1, 2, 3]))"
      ]
     },
     "execution_count": 37,
     "metadata": {},
     "output_type": "execute_result"
    }
   ],
   "source": [
    "np.histogram(level_num, bins=[0, 1, 2, 3])"
   ]
  },
  {
   "cell_type": "markdown",
   "metadata": {},
   "source": [
    "as you can see `np.histogram` returns an array with the frequencies and an array with the values. There is an additional value that doesn't appear in our variable, we'll see why when we come to continuous variables.\n",
    "\n",
    "It's common to visualize histograms as bar graphs. We could do a bar graph out of the output of `np.histogram` but matplotlib as a useful function that integrates histogram calculation and plotting."
   ]
  },
  {
   "cell_type": "code",
   "execution_count": 40,
   "metadata": {},
   "outputs": [
    {
     "data": {
      "text/plain": [
       "(array([534., 518., 501.]), array([0, 1, 2, 3]), <a list of 3 Patch objects>)"
      ]
     },
     "execution_count": 40,
     "metadata": {},
     "output_type": "execute_result"
    },
    {
     "data": {
      "image/png": "[encoded data removed]",
      "text/plain": [
       "<Figure size 432x288 with 1 Axes>"
      ]
     },
     "metadata": {
      "needs_background": "light"
     },
     "output_type": "display_data"
    }
   ],
   "source": [
    "plt.hist(level_num, bins=[0, 1, 2, 3], rwidth=.9)"
   ]
  },
  {
   "cell_type": "markdown",
   "metadata": {},
   "source": [
    "`rwidth` parameter allows you to put some space between bars (if you set it it 1 there's no space).\n",
    "\n",
    "As you can see there is a problem with labels on the x-axis but the numeric labels are also not so interesting for us. This can be fixed but it's even easier to let pandas take care of everything.\n",
    "\n",
    "The method `value_count` counts the occurrencies of each value in a column of a DataFrame (the frequency), even if values are not numbers (so we don't need to do any mapping). There is also a pandas method `plot` to plot the result. And everything can be written in just one line."
   ]
  },
  {
   "cell_type": "code",
   "execution_count": 41,
   "metadata": {},
   "outputs": [
    {
     "data": {
      "text/plain": [
       "<matplotlib.axes._subplots.AxesSubplot at 0x7f57f5223c10>"
      ]
     },
     "execution_count": 41,
     "metadata": {},
     "output_type": "execute_result"
    },
    {
     "data": {
      "image/png": "[encoded data removed]",
      "text/plain": [
       "<Figure size 432x288 with 1 Axes>"
      ]
     },
     "metadata": {
      "needs_background": "light"
     },
     "output_type": "display_data"
    }
   ],
   "source": [
    "data.level.value_counts().plot(kind='bar')"
   ]
  },
  {
   "cell_type": "markdown",
   "metadata": {},
   "source": [
    "With pandas it's very easy to take a subsample of your data. And of course when you take a random subsample you would expect your distribution to be roughly the same."
   ]
  },
  {
   "cell_type": "code",
   "execution_count": 43,
   "metadata": {},
   "outputs": [
    {
     "data": {
      "text/plain": [
       "<matplotlib.axes._subplots.AxesSubplot at 0x7f57f4d0f250>"
      ]
     },
     "execution_count": 43,
     "metadata": {},
     "output_type": "execute_result"
    },
    {
     "data": {
      "image/png": "[encoded data removed]",
      "text/plain": [
       "<Figure size 432x288 with 2 Axes>"
      ]
     },
     "metadata": {
      "needs_background": "light"
     },
     "output_type": "display_data"
    }
   ],
   "source": [
    "subsample = data.sample(frac=.1)\n",
    "fig, axs = plt.subplots(ncols=2, sharey=True)\n",
    "data.level.value_counts().plot(kind='bar', ax=axs[0])\n",
    "subsample.level.value_counts().plot(kind='bar', ax=axs[1])"
   ]
  },
  {
   "cell_type": "markdown",
   "metadata": {},
   "source": [
    "Given the different number of elements in the two samples it's not easy to compare their distribution.\n",
    "In this case it's still feasible given the low number of levels of the variable but in general when you are comparing two distributions with different number of elements it's better to divide each count by the number of elements, this transforms the frequency in a fraction or probability.\n",
    "You can do this easily with `plt.hist`."
   ]
  },
  {
   "cell_type": "code",
   "execution_count": 44,
   "metadata": {},
   "outputs": [
    {
     "data": {
      "text/plain": [
       "(array([0.34385061, 0.33354797, 0.32260142]),\n",
       " array([0, 1, 2, 3]),\n",
       " <a list of 3 Patch objects>)"
      ]
     },
     "execution_count": 44,
     "metadata": {},
     "output_type": "execute_result"
    },
    {
     "data": {
      "image/png": "[encoded data removed]",
      "text/plain": [
       "<Figure size 432x288 with 1 Axes>"
      ]
     },
     "metadata": {
      "needs_background": "light"
     },
     "output_type": "display_data"
    }
   ],
   "source": [
    "plt.hist(level_num, bins=[0, 1, 2, 3], rwidth=0.9, density=True)"
   ]
  },
  {
   "cell_type": "markdown",
   "metadata": {},
   "source": [
    "It's quite easy with pandas too, the parameter here is called `normalize`."
   ]
  },
  {
   "cell_type": "code",
   "execution_count": 45,
   "metadata": {},
   "outputs": [
    {
     "data": {
      "text/plain": [
       "<matplotlib.axes._subplots.AxesSubplot at 0x7f57f532ca10>"
      ]
     },
     "execution_count": 45,
     "metadata": {},
     "output_type": "execute_result"
    },
    {
     "data": {
      "image/png": "[encoded data removed]",
      "text/plain": [
       "<Figure size 432x288 with 2 Axes>"
      ]
     },
     "metadata": {
      "needs_background": "light"
     },
     "output_type": "display_data"
    }
   ],
   "source": [
    "fig, axs = plt.subplots(ncols=2, sharey=True)\n",
    "data.level.value_counts(normalize=True).plot(kind='bar', ax=axs[0])\n",
    "subsample.level.value_counts(normalize=True).plot(kind='bar', ax=axs[1])"
   ]
  },
  {
   "cell_type": "markdown",
   "metadata": {},
   "source": [
    "These representation of discrete distributions are called **probability mass functions** (PMF), because in this graph you can read the probability mass (in contrast to *density* for continuous variables) corresponding to each level of the variable."
   ]
  },
  {
   "cell_type": "markdown",
   "metadata": {},
   "source": [
    "## Continuous\n",
    "\n",
    "When we treat continuous variable it doesn't make sense to list the frequencies of each \"level\" since it would be an infinite list (between any two values of the variable there are still infinite values). Even if we were trying to compile this list the probability associated to any value would be not really informative, since each exact value has a probability of zero. You can easily understand this as the limiting case of a discrete distribution with increasing number of levels. As you increase the number of levels of the variable the probability of level decreases, so that when you reach infinite levels the probability will be zero. You can try this in the following code playing with `n_levels`."
   ]
  },
  {
   "cell_type": "code",
   "execution_count": 48,
   "metadata": {},
   "outputs": [
    {
     "data": {
      "image/png": "[encoded data removed]",
      "text/plain": [
       "<Figure size 432x288 with 1 Axes>"
      ]
     },
     "metadata": {
      "needs_background": "light"
     },
     "output_type": "display_data"
    }
   ],
   "source": [
    "n_levels = 500\n",
    "justavariable = np.random.randint(0, n_levels, 10000)\n",
    "_ = plt.hist(justavariable, bins=range(n_levels+1), rwidth=.9, density=True)"
   ]
  },
  {
   "cell_type": "markdown",
   "metadata": {},
   "source": [
    "With continuous variables it makes sense to ask yourself what is the amount of samples that falls in a given interval of values, i.e. the frequency in that interval. Such intervals are usually called bins in this context.\n",
    "\n",
    "The function `plt.hist` can directly handle continuous variables."
   ]
  },
  {
   "cell_type": "code",
   "execution_count": 55,
   "metadata": {},
   "outputs": [
    {
     "data": {
      "text/plain": [
       "(array([ 37.,  82., 119., 168., 154., 150., 145., 120.,  87., 110.,  74.,\n",
       "         68.,  50.,  36.,  37.,  27.,  18.,  21.,   8.,  14.,   5.,   8.,\n",
       "          5.,   3.,   2.,   2.,   0.,   1.,   0.,   2.]),\n",
       " array([0.083232  , 0.14481579, 0.20639958, 0.26798337, 0.32956716,\n",
       "        0.39115095, 0.45273474, 0.51431853, 0.57590232, 0.63748611,\n",
       "        0.6990699 , 0.76065369, 0.82223748, 0.88382127, 0.94540506,\n",
       "        1.00698885, 1.06857264, 1.13015643, 1.19174022, 1.25332401,\n",
       "        1.3149078 , 1.37649159, 1.43807538, 1.49965917, 1.56124296,\n",
       "        1.62282675, 1.68441054, 1.74599433, 1.80757812, 1.86916191,\n",
       "        1.9307457 ]),\n",
       " <a list of 30 Patch objects>)"
      ]
     },
     "execution_count": 55,
     "metadata": {},
     "output_type": "execute_result"
    },
    {
     "data": {
      "image/png": "[encoded data removed]",
      "text/plain": [
       "<Figure size 432x288 with 1 Axes>"
      ]
     },
     "metadata": {
      "needs_background": "light"
     },
     "output_type": "display_data"
    }
   ],
   "source": [
    "plt.hist(data.Up_dur, bins=30)"
   ]
  },
  {
   "cell_type": "markdown",
   "metadata": {},
   "source": [
    "Here we passed an integer as the `bins` parameter and let the function compute the bins. You can see the bin edges returned by the function.\n",
    "\n",
    "The choice of how many bins to use is a difficult one. Ideally one want the bins to be enough to see all meaningful patterns of the distribution (where it rises and falls and levels) and not too much to avoid noise in the counts. In practice you usually don't know what's the distribution of you variable so you should experiment a little bit. In our `Up_dur` variable we have some noise with 50 bins and we definitely loose information with just 5 bins. Try it out by yourself! "
   ]
  },
  {
   "cell_type": "markdown",
   "metadata": {},
   "source": [
    "You can also pass a list of bin edges as we did for the categorical variable above. This is sometimes useful if, for example, we want bins that are not equally spaced."
   ]
  },
  {
   "cell_type": "code",
   "execution_count": 56,
   "metadata": {},
   "outputs": [
    {
     "data": {
      "text/plain": [
       "(array([  9.,  94., 217., 263., 245., 173., 171., 122.,  80.,  56.,  41.,\n",
       "         34.,  18.,  20.,  10.]),\n",
       " array([0. , 0.1, 0.2, 0.3, 0.4, 0.5, 0.6, 0.7, 0.8, 0.9, 1. , 1.1, 1.2,\n",
       "        1.3, 1.5, 2. ]),\n",
       " <a list of 15 Patch objects>)"
      ]
     },
     "execution_count": 56,
     "metadata": {},
     "output_type": "execute_result"
    },
    {
     "data": {
      "image/png": "[encoded data removed]",
      "text/plain": [
       "<Figure size 432x288 with 1 Axes>"
      ]
     },
     "metadata": {
      "needs_background": "light"
     },
     "output_type": "display_data"
    }
   ],
   "source": [
    "plt.hist(data.Up_dur, bins=[0, .1, .2, .3, .4, .5, .6, .7, .8, .9, 1, 1.1, 1.2, 1.3, 1.5, 2], rwidth=.9)"
   ]
  },
  {
   "cell_type": "markdown",
   "metadata": {},
   "source": [
    "Here we build to larger bins at right end of our distribution. \n",
    "Now you also understand why there is an extra value in the list assigned to parameter `bins`: those are not the bin centers but the bin edges so that we need one more than the number of required bins."
   ]
  },
  {
   "cell_type": "markdown",
   "metadata": {},
   "source": [
    "We can compare the distribution of two continuous variables such as `Up_dur` and `Down_dur`."
   ]
  },
  {
   "cell_type": "code",
   "execution_count": 57,
   "metadata": {},
   "outputs": [
    {
     "data": {
      "image/png": "[encoded data removed]",
      "text/plain": [
       "<Figure size 432x288 with 1 Axes>"
      ]
     },
     "metadata": {
      "needs_background": "light"
     },
     "output_type": "display_data"
    }
   ],
   "source": [
    "plt.figure()\n",
    "_ = plt.hist(data.Up_dur, bins=10)\n",
    "_ = plt.hist(data.Down_dur, bins=10)"
   ]
  },
  {
   "cell_type": "markdown",
   "metadata": {},
   "source": [
    "Once again it's better to normalize the distributions."
   ]
  },
  {
   "cell_type": "code",
   "execution_count": 58,
   "metadata": {},
   "outputs": [
    {
     "data": {
      "image/png": "[encoded data removed]",
      "text/plain": [
       "<Figure size 432x288 with 1 Axes>"
      ]
     },
     "metadata": {
      "needs_background": "light"
     },
     "output_type": "display_data"
    }
   ],
   "source": [
    "plt.figure()\n",
    "_ = plt.hist(data.Up_dur, bins=10, density=True)\n",
    "_ = plt.hist(data.Down_dur, bins=10, density=True)"
   ]
  },
  {
   "cell_type": "markdown",
   "metadata": {},
   "source": [
    "When you normalize continuous distributions what you get is a map from intervals to density of values, so that if we sum the areas of all bars in the histogram we get the value one. This representation is called a **probability density function** (PDF).\n",
    "\n",
    "Since the two distributions overlap quite a bit we can switch to a different graphical representation of the PDFs."
   ]
  },
  {
   "cell_type": "code",
   "execution_count": 59,
   "metadata": {},
   "outputs": [
    {
     "data": {
      "image/png": "[encoded data removed]",
      "text/plain": [
       "<Figure size 432x288 with 1 Axes>"
      ]
     },
     "metadata": {
      "needs_background": "light"
     },
     "output_type": "display_data"
    }
   ],
   "source": [
    "plt.figure()\n",
    "_ = plt.hist(data.Up_dur, bins=10, density=True, histtype='step', linewidth=3)\n",
    "_ = plt.hist(data.Down_dur, bins=10, density=True, histtype='step', linewidth=3)"
   ]
  },
  {
   "cell_type": "markdown",
   "metadata": {},
   "source": [
    "The graphical representation is already satisfying with matplotlib but we can get the same result using pandas directly."
   ]
  },
  {
   "cell_type": "code",
   "execution_count": 60,
   "metadata": {},
   "outputs": [
    {
     "data": {
      "text/plain": [
       "<matplotlib.axes._subplots.AxesSubplot at 0x7f57f42e2210>"
      ]
     },
     "execution_count": 60,
     "metadata": {},
     "output_type": "execute_result"
    },
    {
     "data": {
      "image/png": "[encoded data removed]",
      "text/plain": [
       "<Figure size 432x288 with 1 Axes>"
      ]
     },
     "metadata": {
      "needs_background": "light"
     },
     "output_type": "display_data"
    }
   ],
   "source": [
    "data.Up_dur.hist(density=True, histtype='step', linewidth=3)\n",
    "data.Down_dur.hist(density=True, histtype='step', linewidth=3)"
   ]
  },
  {
   "cell_type": "markdown",
   "metadata": {},
   "source": [
    "## Statistics\n",
    "\n",
    "While a histogram is a complete representation of a distribution we usally summarize distributions by computing single values from the *N* elements in out sample. These values are called statistics.\n",
    "\n",
    "The most common statistics is the **mean** or average, which discribes the central tendency of the distribution, it's the sum of all values divided by the number of elements:\n",
    "$$ \\bar{x} = \\frac{1}{N} \\sum_{i=1}^N x_i$$\n",
    "\n",
    "We can compute the mean of `Up_dur` both using numpy or pandas."
   ]
  },
  {
   "cell_type": "code",
   "execution_count": 61,
   "metadata": {},
   "outputs": [
    {
     "name": "stdout",
     "output_type": "stream",
     "text": [
      "0.539923787186101\n",
      "0.539923787186101\n"
     ]
    }
   ],
   "source": [
    "print(np.mean(data.Up_dur))\n",
    "print(data.Up_dur.mean())"
   ]
  },
  {
   "cell_type": "markdown",
   "metadata": {},
   "source": [
    "While the mean tells us how our variable behaves \"on average\" another useful information is the variability of elements. The most common statistics to summarize variability is **variance** and its transformed version: **standard deviation**.\n",
    "\n",
    "Variance is defined as:\n",
    "$$ \\sigma^2 = \\frac{1}{N} \\sum_{i=1}^N (x_i - \\bar{x})^2$$\n",
    "\n",
    "So, if $x$ has units of seconds $\\sigma^2$ will have units of seconds squared.\n",
    "A common transformation appied to variance is the square root, which gives us the **standard deviation**, expressed in the same units as $x$: $\\sigma = \\sqrt{\\sigma^2}$.\n",
    "\n",
    "Let's compute the variance and standard deviation of our variable."
   ]
  },
  {
   "cell_type": "code",
   "execution_count": 62,
   "metadata": {},
   "outputs": [
    {
     "name": "stdout",
     "output_type": "stream",
     "text": [
      "0.08395614345673642\n",
      "0.28975186532054703\n"
     ]
    }
   ],
   "source": [
    "print(np.var(data.Up_dur))\n",
    "print(np.std(data.Up_dur))"
   ]
  },
  {
   "cell_type": "markdown",
   "metadata": {},
   "source": [
    "Mean and standard deviation are so common because they are sufficient statistics for the Gaussian distribution. This means that we can characterize or build a Gaussian distribution using the mean and standard deviation.\n",
    "Gaussian distributions are very common in nature but for example the distribution of `Up_dur` is not Gaussian.\n",
    "\n",
    "Another common measure of central tendency is the **median**. But to explain the median we first have to understand **percentiles**.\n",
    "\n",
    "Percentiles are *values of our variable* that divide the sample in two parts. For example the first percentile is the value such that on its left (i.e. for all lower values) there is the 1% of the distribution and on its right all other values. So, the 75th percentile is the split value where 25% of the density correspond to higher values.\n",
    "\n",
    "We can compute percentiles easily with numpy."
   ]
  },
  {
   "cell_type": "code",
   "execution_count": 63,
   "metadata": {},
   "outputs": [
    {
     "data": {
      "text/plain": [
       "array([0.186048  , 0.2245632 , 0.4794    , 0.94454724, 1.11119178])"
      ]
     },
     "execution_count": 63,
     "metadata": {},
     "output_type": "execute_result"
    }
   ],
   "source": [
    "np.percentile(data.Up_dur, [5, 10, 50, 90, 95])"
   ]
  },
  {
   "cell_type": "markdown",
   "metadata": {},
   "source": [
    "So here we are computing the percentiles 5, 10, 50 and 95.\n",
    "\n",
    "Quantiles can be used to derive other statistics of dispersion such as **interquartile range**, which is the difference between the percentiles 75 and 25."
   ]
  },
  {
   "cell_type": "code",
   "execution_count": 64,
   "metadata": {},
   "outputs": [
    {
     "data": {
      "text/plain": [
       "0.3757331999999171"
      ]
     },
     "execution_count": 64,
     "metadata": {},
     "output_type": "execute_result"
    }
   ],
   "source": [
    "np.diff(np.percentile(data.Up_dur, [25, 75]))[0]"
   ]
  },
  {
   "cell_type": "markdown",
   "metadata": {},
   "source": [
    "Finally the most extreme statistics of dispersion is the **range** of a variable, which is the difference between the the maximum and minimum value."
   ]
  },
  {
   "cell_type": "code",
   "execution_count": 65,
   "metadata": {},
   "outputs": [
    {
     "data": {
      "text/plain": [
       "1.852409700000419"
      ]
     },
     "execution_count": 65,
     "metadata": {},
     "output_type": "execute_result"
    }
   ],
   "source": [
    "np.max(data.Up_dur) - np.min(data.Down_dur)"
   ]
  },
  {
   "cell_type": "markdown",
   "metadata": {},
   "source": [
    "The median is the value of the variable that splits the distribution in two parts of equal density. Thus the median is the 50th percentile.\n",
    "\n",
    "We can compute the median using `np.percentile` or with:"
   ]
  },
  {
   "cell_type": "code",
   "execution_count": 66,
   "metadata": {},
   "outputs": [
    {
     "data": {
      "text/plain": [
       "0.4793999999999414"
      ]
     },
     "execution_count": 66,
     "metadata": {},
     "output_type": "execute_result"
    }
   ],
   "source": [
    "np.median(data.Up_dur)"
   ]
  },
  {
   "cell_type": "markdown",
   "metadata": {},
   "source": [
    "The median is usually a better statistics of central tendency when the distribution is not symmetric around the mean (such as the distribution of our variables).\n",
    "\n",
    "For a Gaussian distribution mean and median are coincident.\n"
   ]
  },
  {
   "cell_type": "markdown",
   "metadata": {},
   "source": [
    "To conclude there is a useful method in pandas to explore an unknown DataFrame: `describe`.\n",
    "This method return a table with summary statistics of each column."
   ]
  },
  {
   "cell_type": "code",
   "execution_count": 67,
   "metadata": {},
   "outputs": [
    {
     "data": {
      "text/html": [
       "<div>\n",
       "<style scoped>\n",
       "    .dataframe tbody tr th:only-of-type {\n",
       "        vertical-align: middle;\n",
       "    }\n",
       "\n",
       "    .dataframe tbody tr th {\n",
       "        vertical-align: top;\n",
       "    }\n",
       "\n",
       "    .dataframe thead th {\n",
       "        text-align: right;\n",
       "    }\n",
       "</style>\n",
       "<table border=\"1\" class=\"dataframe\">\n",
       "  <thead>\n",
       "    <tr style=\"text-align: right;\">\n",
       "      <th></th>\n",
       "      <th>Up_dur</th>\n",
       "      <th>Down_dur</th>\n",
       "      <th>id</th>\n",
       "      <th>level</th>\n",
       "    </tr>\n",
       "  </thead>\n",
       "  <tbody>\n",
       "    <tr>\n",
       "      <th>count</th>\n",
       "      <td>1553.000000</td>\n",
       "      <td>1553.000000</td>\n",
       "      <td>1553.000000</td>\n",
       "      <td>1553</td>\n",
       "    </tr>\n",
       "    <tr>\n",
       "      <th>unique</th>\n",
       "      <td>NaN</td>\n",
       "      <td>NaN</td>\n",
       "      <td>NaN</td>\n",
       "      <td>3</td>\n",
       "    </tr>\n",
       "    <tr>\n",
       "      <th>top</th>\n",
       "      <td>NaN</td>\n",
       "      <td>NaN</td>\n",
       "      <td>NaN</td>\n",
       "      <td>light</td>\n",
       "    </tr>\n",
       "    <tr>\n",
       "      <th>freq</th>\n",
       "      <td>NaN</td>\n",
       "      <td>NaN</td>\n",
       "      <td>NaN</td>\n",
       "      <td>534</td>\n",
       "    </tr>\n",
       "    <tr>\n",
       "      <th>mean</th>\n",
       "      <td>0.539924</td>\n",
       "      <td>0.679102</td>\n",
       "      <td>5.835802</td>\n",
       "      <td>NaN</td>\n",
       "    </tr>\n",
       "    <tr>\n",
       "      <th>std</th>\n",
       "      <td>0.289845</td>\n",
       "      <td>0.644969</td>\n",
       "      <td>2.386486</td>\n",
       "      <td>NaN</td>\n",
       "    </tr>\n",
       "    <tr>\n",
       "      <th>min</th>\n",
       "      <td>0.083232</td>\n",
       "      <td>0.078336</td>\n",
       "      <td>0.000000</td>\n",
       "      <td>NaN</td>\n",
       "    </tr>\n",
       "    <tr>\n",
       "      <th>25%</th>\n",
       "      <td>0.322967</td>\n",
       "      <td>0.267833</td>\n",
       "      <td>3.000000</td>\n",
       "      <td>NaN</td>\n",
       "    </tr>\n",
       "    <tr>\n",
       "      <th>50%</th>\n",
       "      <td>0.479400</td>\n",
       "      <td>0.385156</td>\n",
       "      <td>6.000000</td>\n",
       "      <td>NaN</td>\n",
       "    </tr>\n",
       "    <tr>\n",
       "      <th>75%</th>\n",
       "      <td>0.698700</td>\n",
       "      <td>0.831300</td>\n",
       "      <td>8.000000</td>\n",
       "      <td>NaN</td>\n",
       "    </tr>\n",
       "    <tr>\n",
       "      <th>max</th>\n",
       "      <td>1.930746</td>\n",
       "      <td>3.779100</td>\n",
       "      <td>9.000000</td>\n",
       "      <td>NaN</td>\n",
       "    </tr>\n",
       "  </tbody>\n",
       "</table>\n",
       "</div>"
      ],
      "text/plain": [
       "             Up_dur     Down_dur           id  level\n",
       "count   1553.000000  1553.000000  1553.000000   1553\n",
       "unique          NaN          NaN          NaN      3\n",
       "top             NaN          NaN          NaN  light\n",
       "freq            NaN          NaN          NaN    534\n",
       "mean       0.539924     0.679102     5.835802    NaN\n",
       "std        0.289845     0.644969     2.386486    NaN\n",
       "min        0.083232     0.078336     0.000000    NaN\n",
       "25%        0.322967     0.267833     3.000000    NaN\n",
       "50%        0.479400     0.385156     6.000000    NaN\n",
       "75%        0.698700     0.831300     8.000000    NaN\n",
       "max        1.930746     3.779100     9.000000    NaN"
      ]
     },
     "execution_count": 67,
     "metadata": {},
     "output_type": "execute_result"
    }
   ],
   "source": [
    "data.describe(include='all')"
   ]
  },
  {
   "cell_type": "markdown",
   "metadata": {},
   "source": [
    "## Appendix: Random numbers\n",
    "\n",
    "We have already used random numbers a lot during the course.\n",
    "\n",
    "Random numbers are generated by sampling from their generative distribution.\n",
    "The most common distributions are the uniform and the normal.\n",
    "\n",
    "Let's generate numbers from these distributions and look at their histograms"
   ]
  },
  {
   "cell_type": "code",
   "execution_count": 68,
   "metadata": {},
   "outputs": [
    {
     "data": {
      "image/png": "[encoded data removed]",
      "text/plain": [
       "<Figure size 432x288 with 1 Axes>"
      ]
     },
     "metadata": {
      "needs_background": "light"
     },
     "output_type": "display_data"
    }
   ],
   "source": [
    "r_uni = np.random.uniform(low=1, high=3, size=1000)\n",
    "r_norm = np.random.normal(loc=2, scale=.5, size=1000)\n",
    "plt.figure()\n",
    "plt.hist(r_uni, bins=20, density=True, histtype='step', linewidth=3)\n",
    "plt.hist(r_norm, bins=20, density=True, histtype='step', linewidth=3);"
   ]
  },
  {
   "cell_type": "markdown",
   "metadata": {},
   "source": [
    "We have used before the functions `rand` and `randn`, which mimic matlab functions syntax. When you want to change the parameters of the distributions it's easier and less prone to errors to use `uniform` and `normal`.\n",
    "\n",
    "### There are other distributions beyond normal and uniform.\n",
    "\n",
    "When you need to sample integer numbers you can use `randint`."
   ]
  },
  {
   "cell_type": "code",
   "execution_count": 71,
   "metadata": {},
   "outputs": [
    {
     "data": {
      "image/png": "[encoded data removed]",
      "text/plain": [
       "<Figure size 432x288 with 1 Axes>"
      ]
     },
     "metadata": {
      "needs_background": "light"
     },
     "output_type": "display_data"
    }
   ],
   "source": [
    "r_int = np.random.randint(low=0, high=10, size=1000)\n",
    "plt.figure()\n",
    "plt.hist(r_int, bins=10, density=True, rwidth=.9);"
   ]
  },
  {
   "cell_type": "markdown",
   "metadata": {},
   "source": [
    "Although not actually producing a distribution a related useful function from `np.random` is `permute`. This function allows you to shuffle the entries of an array."
   ]
  },
  {
   "cell_type": "code",
   "execution_count": 74,
   "metadata": {},
   "outputs": [
    {
     "data": {
      "text/plain": [
       "array([2, 3, 1, 5, 0, 4])"
      ]
     },
     "execution_count": 74,
     "metadata": {},
     "output_type": "execute_result"
    }
   ],
   "source": [
    "ordered = np.array([0, 1, 2, 3, 4, 5])\n",
    "shuffled = np.random.permutation(ordered)\n",
    "shuffled"
   ]
  },
  {
   "cell_type": "markdown",
   "metadata": {},
   "source": [
    "There are many other distributions you can sample from. For example the gamma distribution is usually used to model waiting times and shows very different shapes of histogram depending on its parameters."
   ]
  },
  {
   "cell_type": "code",
   "execution_count": 75,
   "metadata": {},
   "outputs": [
    {
     "data": {
      "image/png": "[encoded data removed]",
      "text/plain": [
       "<Figure size 432x288 with 1 Axes>"
      ]
     },
     "metadata": {
      "needs_background": "light"
     },
     "output_type": "display_data"
    }
   ],
   "source": [
    "shapes = [2, 5, 9]\n",
    "scales = [1, 2]\n",
    "plt.figure()\n",
    "for sh in shapes:\n",
    "    for sc in scales:\n",
    "        r_gam = np.random.gamma(shape=sh, scale=sc, size=10000)\n",
    "        _ = plt.hist(r_gam, bins=50, density=True, histtype='step', linewidth=3)"
   ]
  },
  {
   "cell_type": "markdown",
   "metadata": {},
   "source": [
    "This is not a statistics course so we stop here but other distributions you might be interested into are:\n",
    "* Bernoulli \n",
    "* Binomial\n",
    "* Poisson\n",
    "* Chi-squared\n",
    "* Log-normal\n",
    "* Pareto\n",
    "\n",
    "You can read more about them in any statistics book or Wikipedia.\n",
    "And you can sample from them using the functions in [`np.random`](https://numpy.org/doc/stable/reference/random/index.html).\n",
    "\n",
    "If you are interested in statistical tests you can find a lot of them together with model distributions in [`scipy.stats`](https://docs.scipy.org/doc/scipy/reference/stats.html).\n",
    "\n",
    "If you are looking for statistical models (linear and non-linear models, ANOVA, etc.) and less common tests you can have a look at [`statsmodels`](https://www.statsmodels.org/stable/index.html)."
   ]
  },
  {
   "cell_type": "markdown",
   "metadata": {},
   "source": [
    "# Exercises\n",
    "\n",
    "## Exercise 1\n",
    "\n",
    "Using the UP/DOWN DataFrame plot on the same axes the distribution of `Up_dur` separately for the three \"consciousness\" levels.\n",
    "\n",
    "## Exercise 2\n",
    "\n",
    "Using the UP/DOWN DataFrame plot on the same axes the distribution of `Down_dur` separately for the three \"consciousness\" levels for subject 1. Make another figure for the same subject pooling together all three levels.\n",
    "You should notice that the pooled distribution is a mixing of the three distributions for each level.\n",
    "\n",
    "## Exercise 3\n",
    "\n",
    "Compute a central tendency statistics for `Up_dur` for each subject and level (which statistics is more appropriate?). Store this information in a new dataframe together with subject id and \"consciousness\" level. *What are the units of this dataset?*\n",
    "\n",
    "Plot the distribution of the mean Up duration over all subjects and levels."
   ]
  }
 ],
 "metadata": {
  "kernelspec": {
   "display_name": "Python 3",
   "language": "python",
   "name": "python3"
  },
  "language_info": {
   "codemirror_mode": {
    "name": "ipython",
    "version": 3
   },
   "file_extension": ".py",
   "mimetype": "text/x-python",
   "name": "python",
   "nbconvert_exporter": "python",
   "pygments_lexer": "ipython3",
   "version": "3.7.6"
  }
 },
 "nbformat": 4,
 "nbformat_minor": 4
}
