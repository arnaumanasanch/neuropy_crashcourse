{
 "cells": [
  {
   "cell_type": "markdown",
   "metadata": {},
   "source": [
    "# Practical session\n",
    "In this session we will review some of the exercises of the chapters we have seen until now. \n",
    "\n",
    "## Variables\n",
    "\n",
    "**Exercise 1**. <br/>\n",
    "The volume of a sphere with radius r is 4/3 π r3. What is the volume of a sphere with radius 5?"
   ]
  },
  {
   "cell_type": "code",
   "execution_count": null,
   "metadata": {},
   "outputs": [],
   "source": []
  },
  {
   "cell_type": "markdown",
   "metadata": {},
   "source": [
    "**Exercise 2** <br/>\n",
    "If I leave my house at 6:52 am and run 1 mile at an easy pace (8:15 per mile), then 3 miles at tempo (7:12 per mile) and 1 mile at easy pace again, what time do I get home for breakfast?"
   ]
  },
  {
   "cell_type": "code",
   "execution_count": null,
   "metadata": {},
   "outputs": [],
   "source": []
  },
  {
   "cell_type": "markdown",
   "metadata": {},
   "source": [
    "## Functions\n",
    "**Exercise 3**<br/>\n",
    "How many rectangular cuboids of sides $a > b > c$ can you fit in cube of edge $a+b+c$?\n",
    "You only need to define one function.\n",
    "\n",
    "After finding the solution you can read about this interesting mathematical puzzle: https://en.wikipedia.org/wiki/Hoffman%27s_packing_puzzle"
   ]
  },
  {
   "cell_type": "code",
   "execution_count": null,
   "metadata": {},
   "outputs": [],
   "source": []
  },
  {
   "cell_type": "markdown",
   "metadata": {},
   "source": [
    "**Exercise 4**<br/>\n",
    "Given two parallel lines $y_1 = a x + c_1$ and $y_2 = a x + c_2$, calculate the distance between the two lines.\n",
    "\n",
    "Hint: the intersection points between each line and a parallel line are: $(\\frac{-c_1 a}{a^2+1}, \\frac{c_1}{a^2+1})$ and $(\\frac{-c_2 a}{a^2+1}, \\frac{c_2}{a^2+1})$. You only need to define a function that returns these two points given the parameters of the two lines. If you reuse a function from exercise 2 you don't need to define other functions."
   ]
  },
  {
   "cell_type": "code",
   "execution_count": null,
   "metadata": {},
   "outputs": [],
   "source": []
  },
  {
   "cell_type": "markdown",
   "metadata": {},
   "source": [
    "## Conditionals\n",
    "**Exercise 5**<br/> \n",
    "Write a program that reads the answer (input) of a user to the question: \"Do you like NeuroScience? Answer yes/no\". \n",
    "\n",
    "- When 10 ansers have been given, the program has to stop and return:\n",
    "    - number of poeple who have answered yes\n",
    "    - number of people who have answered no\n",
    "\n"
   ]
  },
  {
   "cell_type": "code",
   "execution_count": null,
   "metadata": {},
   "outputs": [],
   "source": []
  },
  {
   "cell_type": "markdown",
   "metadata": {},
   "source": [
    "**Exercise 6**<br/>\n",
    "Fermat's Last Theorem says that there are no positive integers a, b and c such that: $a^n + b^n = c^n$ , for any values of n greater than 2. \n",
    "\n",
    "- Write a function named ***check_fermat*** that takes four parameters a, b, c and n and checks to see if Fermat’s theorem holds. \n",
    "\n",
    "- Write a function that prompts the user to input values for a, b, c and n, converts them to integers, and uses check_fermat to check whether they violate Fermat’s theorem."
   ]
  },
  {
   "cell_type": "code",
   "execution_count": null,
   "metadata": {},
   "outputs": [],
   "source": []
  },
  {
   "cell_type": "markdown",
   "metadata": {},
   "source": [
    "## Sequences\n",
    "**Exercise 7**<br/>\n",
    "\n",
    "You can normalize values of a sequence so that they never excede 1 by dividing each element by the value of maximum element of the sequence. Write a function to accomplish this task. Hint: the function `np.max` will be useful.\n",
    "\n",
    "Another common normalization is the so called standardization or z-score, which consist in subtracting the mean of the sequence and dividing by the standard deviation. Write a function that returns a standardized sequence. Hint: `np.mean`  and `np.std` will make your life easier."
   ]
  },
  {
   "cell_type": "code",
   "execution_count": null,
   "metadata": {},
   "outputs": [],
   "source": []
  },
  {
   "cell_type": "markdown",
   "metadata": {},
   "source": [
    "**Exercise 8** <br/>\n",
    "\n",
    "The recording of a single neuron has been stored as a binary sequence where a one correspond to a spike in a given time frame. You are given two chunks of the recordings in variables `spikesA` and `spikesB` together with the sequences of the timestamp of each frame in **milliseconds** and you have to connect them.\n",
    "1. What is the average firing rate of the neuron? The firing rate is defined as the number of spikes per second, in Hertz.\n",
    "2. Calculate the moving average firing rate in a window of 100 ms, shifting the window by 20 ms each step.\n",
    "\n",
    "Hints: the function `np.sum` calculates the sum of all elements of an array; in order to calculate a moving average first initialize an array to store the results with the appropriate number of elements and then iterate of the result array to update each of its elements in turn; you can define a function to calculate the averate firing rate and reuse it here; each window is just a slice of the original spikes array; calculate the moving average firing rate by hand and check that your implementation is correct"
   ]
  },
  {
   "cell_type": "code",
   "execution_count": null,
   "metadata": {},
   "outputs": [],
   "source": [
    "spikesA = np.array([0, 1, 1, 0, 0, 1, 0, 0, 0, 1, 1, 0, 1, 0, 0, 0, 0, 1, 0])\n",
    "timesA = np.array([760,  780,  800,  820,  840,  860,  880,  900,  920,  940, 960, 980, 1000, 1020, 1040, 1060, 1080, 1100, 1120])\n",
    "spikesB= np.array([0, 0, 0, 1, 0, 0, 1, 0, 0, 0, 0, 0, 0, 1, 1, 0, 1, 0, 1, 0, 0, 0, 1, 0, 0, 1, 0, 0, 0, 0, 1, 1])\n",
    "timesB= np.array([120, 140, 160, 180, 200, 220, 240, 260, 280, 300, 320, 340, 360, 380, 400, 420, 440, 460, 480, 500, 520, 540, 560, 580, 600, 620, 640, 660, 680, 700, 720, 740])"
   ]
  },
  {
   "cell_type": "markdown",
   "metadata": {},
   "source": [
    "**Exercise 9** \n",
    "\n",
    "Create synthetic data with a linear relationship. \n",
    "You can sample data from a normal distribution using numpy random module. The code below extracts 5 samples from a normal distribution with mean 0 and standard deviation of 1"
   ]
  },
  {
   "cell_type": "code",
   "execution_count": 7,
   "metadata": {},
   "outputs": [
    {
     "data": {
      "text/plain": [
       "array([ 0.41946824, -0.82267276,  0.05048205, -0.5539213 ,  0.2850221 ])"
      ]
     },
     "execution_count": 7,
     "metadata": {},
     "output_type": "execute_result"
    }
   ],
   "source": [
    "np.random.normal(loc=0, scale=1, size=5)"
   ]
  },
  {
   "cell_type": "markdown",
   "metadata": {},
   "source": [
    "1. Write a function that samples values from a normal distribution with 0 mean unit standard deviation and creates a list (or numpy array) of values that have a perfect linear relationship with the samples values: each value $y_i$ will be given by $y_i = c+ a x_i$. Return both the dependent and independent variables. Which parameters do you need to pass to the function? \n",
    "\n",
    "With this code you can visualize your data (we'll see more about visualization in a dedicated session)."
   ]
  },
  {
   "cell_type": "code",
   "execution_count": null,
   "metadata": {},
   "outputs": [],
   "source": [
    "import matplotlib.pyplot as plt\n",
    "plt.figure()\n",
    "plt.plot(x, y)\n",
    "plt.show()"
   ]
  },
  {
   "cell_type": "markdown",
   "metadata": {},
   "source": [
    "Once you're done modify the interface of your function to give default values to some parameters.\n",
    "\n",
    "2. Modify your function to add noise to the dependent variable. The new model to generate $y_i$ is $y_i = c + a x_i + b \\eta_i$, where $\\eta_i$ is a sample from a standard normal distribution and $b$ is the amplitude of the noise. Visualize the new data.\n",
    "\n",
    "3. Create a new function and change again the generating model to have a sinusoidal relationship: $y_i = c + A  sin(2\\pi f x_i)$ (considering a 0 phase sine wave).\n",
    "\n",
    "4. Add noise to the sinusoidal data in the same way as with linear data: $y_i = c + A  sin(2\\pi f x_i) + b \\eta_i$.\n",
    "\n",
    "5. Change model again to create damped sinusoidal data: $y_i = c + A exp(-x_i) sin(2\\pi f x_i) + b \\eta_i$\n",
    "\n",
    "6. Write a function that takes a string indicating the desired generating model, a list with model coefficients and the desired number of samples. This function should call the appropriate function from the ones you created and generate the samples approriate to the chosen model."
   ]
  },
  {
   "cell_type": "markdown",
   "metadata": {},
   "source": [
    "**Exercise 10**\n",
    "\n",
    "Dynamic functional connectivity.\n",
    "\n",
    "A sliding window is a way to estimate something (e.g. mean, correlation, etc.) over time on a time series. It works by selecting a \"small\" window at the beginning of the time series, doing the estimation using only the samples that are in the window and then moving the window by one sample to the right. The process is repeated until the end of the time series is reached.\n",
    "\n",
    "Write a function to estimate the correlation with a sliding window. The function should accept a matrix with stacked time series and window length as parameters and should return the dynamic correlation between the time series (called dynamic functional connectivity when applied to neural activity).\n",
    "\n",
    "Hint: function `pearsonr` from `scipy.stats` returns Pearson's correlation coefficient and its p-value between two time series x and y. If you only want the coefficient you can do `pearsonr(x, y)[0]`.  \n",
    "You can visualize the dynamic correlation using the `plot` function as explained in Exercise 9."
   ]
  },
  {
   "cell_type": "markdown",
   "metadata": {},
   "source": [
    "**Exercise 11**\n",
    "\n",
    "Response detector.\n",
    "Make an algorithm that indicates when a signal is very different than an established baseline level. This could be used for example to detect a response to a stimulus in a signal.\n",
    "\n",
    "You should write a function that accepts a time series as parameter and returns a list (or array) of indices where the time series shows a response.\n",
    "1. define the baseline as a chunk of the same signal between two points that have to be passed as parameters to the function\n",
    "2. calculate the mean $\\mu$ and standard deviation $\\sigma$ of the baseline\n",
    "3. traverse the signal and note the indices where the signal is larger or smaller than $\\mu \\pm n \\sigma$, respectively ($n$ should be another parameter of the function)\n",
    "4. return the list of indices\n",
    "\n",
    "Test the function using simulated data with the damped sinusoidal model (see Ex.9)."
   ]
  }
 ],
 "metadata": {
  "kernelspec": {
   "display_name": "Python 3",
   "language": "python",
   "name": "python3"
  },
  "language_info": {
   "codemirror_mode": {
    "name": "ipython",
    "version": 3
   },
   "file_extension": ".py",
   "mimetype": "text/x-python",
   "name": "python",
   "nbconvert_exporter": "python",
   "pygments_lexer": "ipython3",
   "version": "3.7.3"
  }
 },
 "nbformat": 4,
 "nbformat_minor": 4
}
