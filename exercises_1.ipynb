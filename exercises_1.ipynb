{
 "cells": [
  {
   "cell_type": "markdown",
   "metadata": {},
   "source": [
    "# Practical session\n",
    "In this session we will review some of the exercises of the chapters we have seen until now. \n",
    "\n",
    "## Variables\n",
    "\n",
    "**Exercise 1**. <br/>\n",
    "The volume of a sphere with radius r is $4 / 3 \\pi r^3$. You are asked to define a function that returns the volume of a sphere (radius as input). "
   ]
  },
  {
   "cell_type": "code",
   "execution_count": 10,
   "metadata": {},
   "outputs": [
    {
     "name": "stdout",
     "output_type": "stream",
     "text": [
      "523.5987755982989\n",
      "5\n"
     ]
    }
   ],
   "source": [
    "import numpy as np\n",
    "\n",
    "def volume_sphere(radius):\n",
    "    volume = 4/3 * np.pi * radius**3\n",
    "    return volume, radius\n",
    "    \n",
    "a, b = volume_sphere(5)\n",
    "print(a)\n",
    "print(b)\n",
    "\n",
    "\n",
    "    \n",
    "    "
   ]
  },
  {
   "cell_type": "markdown",
   "metadata": {},
   "source": [
    "**Exercise 2** <br/>\n",
    "If I leave my house at 6:52 am and run 1 mile at an easy pace (8:15 per mile), then 3 miles at tempo (7:12 per mile) and 1 mile at easy pace again, what time do I get home for breakfast?\n",
    "Hint:\n",
    "    - convert everything to seconds\n",
    "    - make use of the modulus operator %\n"
   ]
  },
  {
   "cell_type": "code",
   "execution_count": 32,
   "metadata": {},
   "outputs": [
    {
     "name": "stdout",
     "output_type": "stream",
     "text": [
      "We have got home at 7:30:6\n"
     ]
    }
   ],
   "source": [
    "running_seconds = (8*2+7*3)*60 + 15*2+12*3\n",
    "\n",
    "time_exit = 6*3600 + 52*60 # in seconds\n",
    "time_arrival = time_exit + running_seconds  # in seconds\n",
    "\n",
    "hours = int(time_arrival / 3600)\n",
    "extra_seconds = time_arrival % 3600\n",
    "minutes = int(extra_seconds / 60)\n",
    "seconds = extra_seconds % 60\n",
    "\n",
    "\n",
    "print('We have got home at %d:%d:%d' %(hours, minutes, seconds))\n"
   ]
  },
  {
   "cell_type": "markdown",
   "metadata": {},
   "source": [
    "## Functions\n",
    "**Exercise 3**<br/>\n",
    "How many rectangular cuboids of sides $a > b > c$ can you fit in cube of edge $a+b+c$?\n",
    "You only need to define one function.\n",
    "\n",
    "After finding the solution you can read about this interesting mathematical puzzle: https://en.wikipedia.org/wiki/Hoffman%27s_packing_puzzle"
   ]
  },
  {
   "cell_type": "code",
   "execution_count": 38,
   "metadata": {},
   "outputs": [
    {
     "name": "stdout",
     "output_type": "stream",
     "text": [
      "28\n"
     ]
    }
   ],
   "source": [
    "def how_many_cuboids(a,b,c):\n",
    "    if a > b > c:\n",
    "        volume_cuboid = a*b*c \n",
    "        volume_cube = (a+b+c)**3\n",
    "        number_cuboids = int(volume_cube / volume_cuboid)\n",
    "    else:\n",
    "        raise ValueError('a must be greater than b, and b must be greater than c')\n",
    "        \n",
    "    return number_cuboids\n",
    "\n",
    "\n",
    "a = 10\n",
    "b = 8\n",
    "c = 6\n",
    "num_cuboids = how_many_cuboids(a,b,c)\n",
    "print(num_cuboids)\n"
   ]
  },
  {
   "cell_type": "markdown",
   "metadata": {},
   "source": [
    "**Exercise 4**<br/>\n",
    "Given two parallel lines $y_1 = a x + c_1$ and $y_2 = a x + c_2$, calculate the distance between the two lines.\n",
    "\n",
    "Hint: the intersection points between each line and a perpendicular line are: $(\\frac{-c_1 a}{a^2+1}, \\frac{c_1}{a^2+1})$ and $(\\frac{-c_2 a}{a^2+1}, \\frac{c_2}{a^2+1})$. You only need to define a function that returns these two points given the parameters of the two lines. If you reuse a function from a previous exercise you don't need to define other functions."
   ]
  },
  {
   "cell_type": "code",
   "execution_count": 47,
   "metadata": {},
   "outputs": [
    {
     "name": "stdout",
     "output_type": "stream",
     "text": [
      "5.0\n",
      "0.0 0.0\n"
     ]
    },
    {
     "data": {
      "image/png": "[encoded data removed]",
      "text/plain": [
       "<Figure size 432x288 with 1 Axes>"
      ]
     },
     "metadata": {
      "needs_background": "light"
     },
     "output_type": "display_data"
    }
   ],
   "source": [
    "def distance (x1,y1,x2,y2):\n",
    "    diffx= x1-x2\n",
    "    diffy= y1-y2\n",
    "    sq1= diffx**2\n",
    "    sq2= diffy**2 \n",
    "    dist= np.sqrt(sq1+sq2) \n",
    "    return dist\n",
    "\n",
    "def intersection_point(c1, c2, a):\n",
    "    # point coordinates for parallel line 1\n",
    "    x1 = -c1*a / (a**2+1)\n",
    "    y1 = c1 / (a**2+1)\n",
    "    # point coordinates for parallel line 2\n",
    "    x2 = -c2*a / (a**2+1)\n",
    "    y2 = c2 / (a**2+1)\n",
    "    \n",
    "    return x1, y1, x2, y2\n",
    "\n",
    "c1 = 0\n",
    "c2 = 5\n",
    "a = 0\n",
    "px1, py1, px2, py2 = intersection_point(c1, c2, a)\n",
    "    \n",
    "dist_points = distance(px1, py1, px2, py2)\n",
    "print(dist_points)\n",
    "    \n",
    "x = np.arange(0,10,0.01)\n",
    "y1 = a*x+c1\n",
    "y2 = a*x+c2\n",
    "plt.figure()\n",
    "plt.plot(x,y1,'b')\n",
    "plt.plot(x,y2,'r')\n",
    "\n",
    "print(px1,px2)\n",
    "\n",
    "\n"
   ]
  },
  {
   "cell_type": "markdown",
   "metadata": {},
   "source": [
    "## Conditionals\n",
    "**Exercise 5**<br/> \n",
    "Write a program that reads the answer (input) of a user to the question: \"Do you like NeuroScience? Answer yes/no\". \n",
    "\n",
    "- When 10 ansers have been given, the program has to stop and return:\n",
    "    - number of poeple who have answered yes\n",
    "    - number of people who have answered no\n",
    "\n"
   ]
  },
  {
   "cell_type": "code",
   "execution_count": 58,
   "metadata": {},
   "outputs": [
    {
     "name": "stdout",
     "output_type": "stream",
     "text": [
      "Do you like Neuroscience? Please answer Yes or No \n",
      "yes\n",
      "Do you like Neuroscience? Please answer Yes or No \n",
      "yes\n",
      "Do you like Neuroscience? Please answer Yes or No \n",
      "yes\n",
      "Do you like Neuroscience? Please answer Yes or No \n",
      "no\n",
      "Do you like Neuroscience? Please answer Yes or No \n",
      "no\n",
      "Do you like Neuroscience? Please answer Yes or No \n",
      "yes\n",
      "Do you like Neuroscience? Please answer Yes or No \n",
      "no\n",
      "Do you like Neuroscience? Please answer Yes or No \n",
      "yes\n",
      "Do you like Neuroscience? Please answer Yes or No \n",
      "no\n",
      "Do you like Neuroscience? Please answer Yes or No \n",
      "yes\n",
      "Number of yes answers 6:\n",
      "Number of no answers 4:\n"
     ]
    }
   ],
   "source": [
    "yes = 0\n",
    "no = 0\n",
    "\n",
    "while True:\n",
    "    answer = input('Do you like Neuroscience? Please answer Yes or No \\n')\n",
    "    if answer == 'yes':\n",
    "        yes += 1\n",
    "    elif answer == 'no':\n",
    "        no += 1\n",
    "    else:\n",
    "        print('You should write yes or no. Upper and lower case are important')\n",
    "        \n",
    "    if yes + no == 10:\n",
    "        print('Number of yes answers: %d' %yes)\n",
    "        print('Number of no answers: %d' %no)\n",
    "        break\n",
    "        \n",
    "\n",
    "\n",
    "\n"
   ]
  },
  {
   "cell_type": "code",
   "execution_count": 54,
   "metadata": {},
   "outputs": [
    {
     "name": "stdout",
     "output_type": "stream",
     "text": [
      "Do you like Neuroscience? Please answer Yes or No \n",
      "yes\n",
      "Do you like Neuroscience? Please answer Yes or No \n",
      "yes\n",
      "Do you like Neuroscience? Please answer Yes or No \n",
      "no\n",
      "Do you like Neuroscience? Please answer Yes or No \n",
      "no\n",
      "Do you like Neuroscience? Please answer Yes or No \n",
      "yes\n",
      "Do you like Neuroscience? Please answer Yes or No \n",
      "no\n",
      "Do you like Neuroscience? Please answer Yes or No \n",
      "yes\n",
      "Do you like Neuroscience? Please answer Yes or No \n",
      "no\n",
      "Do you like Neuroscience? Please answer Yes or No \n",
      "yes\n",
      "Do you like Neuroscience? Please answer Yes or No \n",
      "no\n",
      "Do you like Neuroscience? Please answer Yes or No \n",
      "yes\n",
      "Number of yes:  6\n",
      "Number of no:  5\n"
     ]
    }
   ],
   "source": [
    "yes = 0\n",
    "no = 0\n",
    "\n",
    "\n",
    "while yes + no < 10:\n",
    "    answer = input('Do you like Neuroscience? Please answer Yes or No \\n')\n",
    "    \n",
    "    if answer == 'yes' or answer == 'Yes':\n",
    "        yes = yes + 1\n",
    "    elif answer == 'no' or answer == 'No':\n",
    "        no = no + 1\n",
    "    else:\n",
    "        print('You should write yes or no')\n",
    "\n",
    "print('Number of yes: ', yes)\n",
    "print('Number of no: ', no)\n",
    "\n",
    "\n"
   ]
  },
  {
   "cell_type": "markdown",
   "metadata": {},
   "source": [
    "**Exercise 6**<br/>\n",
    "Fermat's Last Theorem says that there are no positive integers a, b and c such that: $a^n + b^n = c^n$ , for any values of n greater than 2. \n",
    "\n",
    "- Write a function named ***check_fermat*** that takes four parameters a, b, c and n and checks to see if Fermat’s theorem holds. \n",
    "\n",
    "- Write a function that prompts the user to input values for a, b, c and n, converts them to integers, and uses check_fermat to check whether they violate Fermat’s theorem."
   ]
  },
  {
   "cell_type": "code",
   "execution_count": 84,
   "metadata": {},
   "outputs": [
    {
     "data": {
      "text/plain": [
       "4.32"
      ]
     },
     "execution_count": 84,
     "metadata": {},
     "output_type": "execute_result"
    }
   ],
   "source": []
  },
  {
   "cell_type": "code",
   "execution_count": 96,
   "metadata": {},
   "outputs": [
    {
     "name": "stdout",
     "output_type": "stream",
     "text": [
      "Insert value for a: \n",
      "1\n",
      "Insert value for b: \n",
      "2\n",
      "Insert value for c: \n",
      "3\n",
      "Insert value for n: \n",
      "1\n",
      "Fermat Last theorem does not hold.\n"
     ]
    }
   ],
   "source": [
    "def check_values():\n",
    "    a = int(float(input('Insert value for a: \\n')))\n",
    "    b = int(float(input('Insert value for b: \\n')))\n",
    "    c = int(float(input('Insert value for c: \\n')))\n",
    "    n = int(float(input('Insert value for n: \\n')))\n",
    "    \n",
    "    fermat = check_fermat(a,b,c,n)\n",
    "    if fermat:\n",
    "        print('Fermat Last theorem does not hold.')\n",
    "    else:\n",
    "        print('Fermat Last Theorem holds.')\n",
    "\n",
    "check_values()"
   ]
  },
  {
   "cell_type": "code",
   "execution_count": 95,
   "metadata": {},
   "outputs": [
    {
     "name": "stdout",
     "output_type": "stream",
     "text": [
      "False\n"
     ]
    }
   ],
   "source": [
    "def check_fermat(a,b,c,n):\n",
    "    if type(a) == int and type(b) == int and type(c) == int:\n",
    "        fermat = a**n + b**n == c**n\n",
    "        return fermat\n",
    "    else:\n",
    "        raise ValueError('a, b and c have to be integers')\n",
    "    \n",
    "    \n",
    "a = 3\n",
    "b = 4\n",
    "c = 5\n",
    "n = 4\n",
    "\n",
    "fermat = check_fermat(a,b,c,n)\n",
    "print(fermat)"
   ]
  },
  {
   "cell_type": "code",
   "execution_count": 94,
   "metadata": {},
   "outputs": [
    {
     "name": "stdout",
     "output_type": "stream",
     "text": [
      "False\n"
     ]
    }
   ],
   "source": [
    "a = 3 == 4\n",
    "print(a)"
   ]
  },
  {
   "cell_type": "markdown",
   "metadata": {},
   "source": [
    "## Sequences\n",
    "**Exercise 7**<br/>\n",
    "\n",
    "You can normalize values of a sequence so that they never excede 1 by dividing each eleme element by the value of maximum element of the sequence. Write a function to accomplish this task. Hint: the function `np.max` will be useful.\n",
    "\n",
    "Another common normalization is the so called standardization or z-score, which consist in subtracting the mean of the sequence and dividing by the standard deviation. Write a function that returns a standardized sequence. Hint: `np.mean`  and `np.std` will make your life easier."
   ]
  },
  {
   "cell_type": "code",
   "execution_count": null,
   "metadata": {},
   "outputs": [],
   "source": [
    "vec = [0,4,3,5,2,5,3,4,5,7,8,6,1,4,3,2]\n",
    "# maximum normalization\n",
    "\n",
    "def max_normalization(vector):\n",
    "    return vector/np.max(vector)\n",
    "\n",
    "norm_vec = max_normalization(vec)\n",
    "print(norm_vec)\n",
    "\n",
    "def zscore_normalization(vector):\n",
    "    return (vector-np.mean(vector))/(np.std(vector))\n",
    "\n",
    "zscore_vec = zscore_normalization(vec)\n",
    "print(zscore_vec)\n",
    "print(np.mean(zscore_vec))\n",
    "print(np.std(zscore_vec))"
   ]
  },
  {
   "cell_type": "markdown",
   "metadata": {},
   "source": [
    "**Exercise 8** <br/>\n",
    "\n",
    "The recording of a single neuron has been stored as a binary sequence where a one correspond to a spike in a given time frame. You are given two chunks of the recordings in variables `spikesA` and `spikesB` together with the sequences of the timestamp of each frame in **milliseconds** and you have to connect them.\n",
    "1. What is the average firing rate of the neuron? The firing rate is defined as the number of spikes per second, in Hertz.\n",
    "2. Calculate the moving average firing rate in a window of 100 ms, shifting the window by 20 ms each step.\n",
    "\n",
    "Hints: the function `np.sum` calculates the sum of all elements of an array; in order to calculate a moving average first initialize an array to store the results with the appropriate number of elements and then iterate of the result array to update each of its elements in turn; you can define a function to calculate the averate firing rate and reuse it here; each window is just a slice of the original spikes array; calculate the moving average firing rate by hand and check that your implementation is correct"
   ]
  },
  {
   "cell_type": "code",
   "execution_count": null,
   "metadata": {},
   "outputs": [],
   "source": [
    "spikesA = np.array([0, 1, 1, 0, 0, 1, 0, 0, 0, 1, 1, 0, 1, 0, 0, 0, 0, 1, 0])\n",
    "timesA = np.array([760,  780,  800,  820,  840,  860,  880,  900,  920,  940, 960, 980, 1000, 1020, 1040, 1060, 1080, 1100, 1120])\n",
    "spikesB= np.array([0, 0, 0, 1, 0, 0, 1, 0, 0, 0, 0, 0, 0, 1, 1, 0, 1, 0, 1, 0, 0, 0, 1, 0, 0, 1, 0, 0, 0, 0, 1, 1])\n",
    "timesB= np.array([120, 140, 160, 180, 200, 220, 240, 260, 280, 300, 320, 340, 360, 380, 400, 420, 440, 460, 480, 500, 520, 540, 560, 580, 600, 620, 640, 660, 680, 700, 720, 740])"
   ]
  },
  {
   "cell_type": "code",
   "execution_count": null,
   "metadata": {},
   "outputs": [],
   "source": []
  }
 ],
 "metadata": {
  "kernelspec": {
   "display_name": "Python 3",
   "language": "python",
   "name": "python3"
  },
  "language_info": {
   "codemirror_mode": {
    "name": "ipython",
    "version": 3
   },
   "file_extension": ".py",
   "mimetype": "text/x-python",
   "name": "python",
   "nbconvert_exporter": "python",
   "pygments_lexer": "ipython3",
   "version": "3.7.6"
  }
 },
 "nbformat": 4,
 "nbformat_minor": 4
}
